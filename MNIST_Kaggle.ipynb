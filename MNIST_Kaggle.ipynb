{
  "nbformat": 4,
  "nbformat_minor": 0,
  "metadata": {
    "colab": {
      "name": "MNIST_Kaggle.ipynb",
      "provenance": [],
      "collapsed_sections": [],
      "authorship_tag": "ABX9TyPLAJWbRCdGTkQD0RuuHHFz",
      "include_colab_link": true
    },
    "kernelspec": {
      "name": "python3",
      "display_name": "Python 3"
    },
    "accelerator": "GPU"
  },
  "cells": [
    {
      "cell_type": "markdown",
      "metadata": {
        "id": "view-in-github",
        "colab_type": "text"
      },
      "source": [
        "<a href=\"https://colab.research.google.com/github/solayman-cs/ML/blob/master/MNIST_Kaggle.ipynb\" target=\"_parent\"><img src=\"https://colab.research.google.com/assets/colab-badge.svg\" alt=\"Open In Colab\"/></a>"
      ]
    },
    {
      "cell_type": "code",
      "metadata": {
        "id": "YNJ1HHt1-vr9",
        "colab_type": "code",
        "outputId": "c91b9872-1d0d-45d7-f754-910e12fb53dc",
        "colab": {
          "base_uri": "https://localhost:8080/",
          "height": 33
        }
      },
      "source": [
        "from google.colab import drive\n",
        "drive.mount('/content/drive')"
      ],
      "execution_count": 0,
      "outputs": [
        {
          "output_type": "stream",
          "text": [
            "Drive already mounted at /content/drive; to attempt to forcibly remount, call drive.mount(\"/content/drive\", force_remount=True).\n"
          ],
          "name": "stdout"
        }
      ]
    },
    {
      "cell_type": "code",
      "metadata": {
        "id": "gQQg1yWHD_Nq",
        "colab_type": "code",
        "outputId": "6d169e02-000f-4262-c935-a4ac34db6721",
        "colab": {
          "base_uri": "https://localhost:8080/",
          "height": 33
        }
      },
      "source": [
        "cd /content/drive/My Drive/DPP_Prac"
      ],
      "execution_count": 0,
      "outputs": [
        {
          "output_type": "stream",
          "text": [
            "/content/drive/My Drive/DPP_Prac\n"
          ],
          "name": "stdout"
        }
      ]
    },
    {
      "cell_type": "code",
      "metadata": {
        "id": "eJsfj6aHDnwS",
        "colab_type": "code",
        "outputId": "acfabe68-903a-4641-eac7-b1bdc258b7f7",
        "colab": {
          "base_uri": "https://localhost:8080/",
          "height": 33
        }
      },
      "source": [
        "import random\n",
        "import pandas as pd\n",
        "import numpy as np\n",
        "import tensorflow as tf\n",
        "import itertools\n",
        "import matplotlib.pyplot as plt\n",
        "\n",
        "from keras.preprocessing.image import ImageDataGenerator\n",
        "from keras.utils.np_utils import to_categorical \n",
        "from sklearn.model_selection import train_test_split\n",
        "from sklearn.metrics import confusion_matrix\n",
        "from keras.optimizers import RMSprop\n",
        "from keras.callbacks import ModelCheckpoint, ReduceLROnPlateau, EarlyStopping"
      ],
      "execution_count": 0,
      "outputs": [
        {
          "output_type": "stream",
          "text": [
            "Using TensorFlow backend.\n"
          ],
          "name": "stderr"
        }
      ]
    },
    {
      "cell_type": "code",
      "metadata": {
        "id": "WtJoKKVxDhC4",
        "colab_type": "code",
        "colab": {}
      },
      "source": [
        "# Load the data\n",
        "train_raw_data = pd.read_csv('train.csv')\n",
        "test_raw_data = pd.read_csv('test.csv')"
      ],
      "execution_count": 0,
      "outputs": []
    },
    {
      "cell_type": "code",
      "metadata": {
        "id": "sRyqhyDL4Gv_",
        "colab_type": "code",
        "outputId": "26c74d4b-3769-4afe-88e1-419c14c10063",
        "colab": {
          "base_uri": "https://localhost:8080/",
          "height": 167
        }
      },
      "source": [
        "print(test_raw_data.head(5))\n",
        "print(test_raw_data.shape)"
      ],
      "execution_count": 0,
      "outputs": [
        {
          "output_type": "stream",
          "text": [
            "   pixel0  pixel1  pixel2  pixel3  ...  pixel780  pixel781  pixel782  pixel783\n",
            "0       0       0       0       0  ...         0         0         0         0\n",
            "1       0       0       0       0  ...         0         0         0         0\n",
            "2       0       0       0       0  ...         0         0         0         0\n",
            "3       0       0       0       0  ...         0         0         0         0\n",
            "4       0       0       0       0  ...         0         0         0         0\n",
            "\n",
            "[5 rows x 784 columns]\n",
            "(28000, 784)\n"
          ],
          "name": "stdout"
        }
      ]
    },
    {
      "cell_type": "code",
      "metadata": {
        "id": "2tDPke5mEmhW",
        "colab_type": "code",
        "outputId": "cdb0794e-6a2f-4384-c591-179e1c61df56",
        "colab": {
          "base_uri": "https://localhost:8080/",
          "height": 268
        }
      },
      "source": [
        "print(train_raw_data.head(10))\n",
        "print('\\n Shape of the training dataset:', train_raw_data.shape)"
      ],
      "execution_count": 0,
      "outputs": [
        {
          "output_type": "stream",
          "text": [
            "   label  pixel0  pixel1  pixel2  ...  pixel780  pixel781  pixel782  pixel783\n",
            "0      1       0       0       0  ...         0         0         0         0\n",
            "1      0       0       0       0  ...         0         0         0         0\n",
            "2      1       0       0       0  ...         0         0         0         0\n",
            "3      4       0       0       0  ...         0         0         0         0\n",
            "4      0       0       0       0  ...         0         0         0         0\n",
            "5      0       0       0       0  ...         0         0         0         0\n",
            "6      7       0       0       0  ...         0         0         0         0\n",
            "7      3       0       0       0  ...         0         0         0         0\n",
            "8      5       0       0       0  ...         0         0         0         0\n",
            "9      3       0       0       0  ...         0         0         0         0\n",
            "\n",
            "[10 rows x 785 columns]\n",
            "\n",
            " Shape of the training dataset: (42000, 785)\n"
          ],
          "name": "stdout"
        }
      ]
    },
    {
      "cell_type": "code",
      "metadata": {
        "id": "CaNKLadyf93Y",
        "colab_type": "code",
        "outputId": "f62190dc-0fcf-4983-93a3-20e5128c2f76",
        "colab": {
          "base_uri": "https://localhost:8080/",
          "height": 84
        }
      },
      "source": [
        "# Get labels\n",
        "training_labels = train_raw_data['label']\n",
        "# Drop label column\n",
        "pure_image_data = train_raw_data.drop(labels='label', axis=1)\n",
        "print(type(pure_image_data))\n",
        "print(type(training_labels))\n",
        "print('Pure image data shape: ', pure_image_data.shape)\n",
        "print('Training label shape: ', training_labels.shape)"
      ],
      "execution_count": 0,
      "outputs": [
        {
          "output_type": "stream",
          "text": [
            "<class 'pandas.core.frame.DataFrame'>\n",
            "<class 'pandas.core.series.Series'>\n",
            "Pure image data shape:  (42000, 784)\n",
            "Training label shape:  (42000,)\n"
          ],
          "name": "stdout"
        }
      ]
    },
    {
      "cell_type": "code",
      "metadata": {
        "id": "f3dGjXIr4sFF",
        "colab_type": "code",
        "outputId": "1ecbbe65-c568-4dfa-c8a6-0dabd8e6eddb",
        "colab": {
          "base_uri": "https://localhost:8080/",
          "height": 100
        }
      },
      "source": [
        "# Check for null and missing values\n",
        "pure_image_data.isnull().any().describe()"
      ],
      "execution_count": 0,
      "outputs": [
        {
          "output_type": "execute_result",
          "data": {
            "text/plain": [
              "count       784\n",
              "unique        1\n",
              "top       False\n",
              "freq        784\n",
              "dtype: object"
            ]
          },
          "metadata": {
            "tags": []
          },
          "execution_count": 8
        }
      ]
    },
    {
      "cell_type": "code",
      "metadata": {
        "id": "nsEJ4JVkfY5O",
        "colab_type": "code",
        "outputId": "34bcbb4d-124b-4382-b6ee-35d289ad25cc",
        "colab": {
          "base_uri": "https://localhost:8080/",
          "height": 462
        }
      },
      "source": [
        "plt.figure(figsize=(7,7))\n",
        "i = 16\n",
        "\n",
        "grid_data = pure_image_data.iloc[i].values.reshape(28,28)\n",
        "plt.imshow(grid_data, interpolation = 'none', cmap = 'gray')\n",
        "plt.show()\n",
        "\n",
        "print('Label of the data:', training_labels[i])\n",
        "print('Grid Datatype: ', type(grid_data))"
      ],
      "execution_count": 0,
      "outputs": [
        {
          "output_type": "display_data",
          "data": {
            "image/png": "[encoded data removed]",
            "text/plain": [
              "<Figure size 504x504 with 1 Axes>"
            ]
          },
          "metadata": {
            "tags": [],
            "needs_background": "light"
          }
        },
        {
          "output_type": "stream",
          "text": [
            "Label of the data: 2\n",
            "Grid Datatype:  <class 'numpy.ndarray'>\n"
          ],
          "name": "stdout"
        }
      ]
    },
    {
      "cell_type": "code",
      "metadata": {
        "id": "sHGm05troVFo",
        "colab_type": "code",
        "outputId": "8d1b438d-f7be-4589-e4ff-6c19c3f1024e",
        "colab": {
          "base_uri": "https://localhost:8080/",
          "height": 589
        }
      },
      "source": [
        "plt.figure(figsize=(10,10))\n",
        "for i in range(25):\n",
        "    plt.subplot(5,5,i+1)\n",
        "    plt.xticks([])\n",
        "    plt.yticks([])\n",
        "    plt.grid(False)\n",
        "    grid_data = pure_image_data.iloc[i].values.reshape(28,28)\n",
        "    plt.imshow(grid_data, interpolation = 'none', cmap = 'gray')\n",
        "    plt.xlabel(training_labels[i])"
      ],
      "execution_count": 0,
      "outputs": [
        {
          "output_type": "display_data",
          "data": {
            "image/png": "[encoded data removed]",
            "text/plain": [
              "<Figure size 720x720 with 25 Axes>"
            ]
          },
          "metadata": {
            "tags": []
          }
        }
      ]
    },
    {
      "cell_type": "code",
      "metadata": {
        "id": "U5EwRE-gpFGO",
        "colab_type": "code",
        "outputId": "33cec46a-fe2f-4532-99fc-d266ea030801",
        "colab": {
          "base_uri": "https://localhost:8080/",
          "height": 589
        }
      },
      "source": [
        "plt.figure(figsize=(10,10))\n",
        "for i in range(25):\n",
        "    plt.subplot(5,5,i+1)\n",
        "    plt.xticks([])\n",
        "    plt.yticks([])\n",
        "    plt.grid(False)\n",
        "    grid_data = pure_image_data.iloc[i].values.reshape(28,28)\n",
        "    plt.imshow(grid_data, cmap=plt.cm.binary)\n",
        "    plt.xlabel(training_labels[i])"
      ],
      "execution_count": 0,
      "outputs": [
        {
          "output_type": "display_data",
          "data": {
            "image/png": "[encoded data removed]",
            "text/plain": [
              "<Figure size 720x720 with 25 Axes>"
            ]
          },
          "metadata": {
            "tags": []
          }
        }
      ]
    },
    {
      "cell_type": "code",
      "metadata": {
        "id": "aFp8Kft7KY87",
        "colab_type": "code",
        "colab": {}
      },
      "source": [
        "# Normalize data\n",
        "pure_image_data /= 255.0"
      ],
      "execution_count": 0,
      "outputs": []
    },
    {
      "cell_type": "code",
      "metadata": {
        "id": "-eVcJTXvKQaH",
        "colab_type": "code",
        "outputId": "7d87f71d-b795-423c-8ee9-a66a454f3676",
        "colab": {
          "base_uri": "https://localhost:8080/",
          "height": 50
        }
      },
      "source": [
        "# Reshape image in 3 dimensions (height = 28px, width = 28px , canal = 1)\n",
        "training_images = pure_image_data.values.reshape(-1,28,28,1)\n",
        "\n",
        "print('Training image shape: ', training_images.shape)\n",
        "print('Training label shape: ', training_labels.shape)"
      ],
      "execution_count": 0,
      "outputs": [
        {
          "output_type": "stream",
          "text": [
            "Training image shape:  (42000, 28, 28, 1)\n",
            "Training label shape:  (42000,)\n"
          ],
          "name": "stdout"
        }
      ]
    },
    {
      "cell_type": "code",
      "metadata": {
        "id": "GWn1jC4eL8WL",
        "colab_type": "code",
        "colab": {}
      },
      "source": [
        "# Split training and valdiation set\n",
        "random_seed = 2\n",
        "\n",
        "# (10%) became the validation set which the model is evaluated and the rest (90%) is used to train the model.\n",
        "training_images, validation_images, training_labels, validation_labels = train_test_split(training_images, training_labels, test_size = 0.35, random_state=random_seed)"
      ],
      "execution_count": 0,
      "outputs": []
    },
    {
      "cell_type": "markdown",
      "metadata": {
        "id": "gBLYKxXzeEHK",
        "colab_type": "text"
      },
      "source": [
        "**CNN Model**"
      ]
    },
    {
      "cell_type": "code",
      "metadata": {
        "id": "tyRzEmEE7w6i",
        "colab_type": "code",
        "colab": {}
      },
      "source": [
        "# Parameters\n",
        "epochs = 50\n",
        "batch_size = 86"
      ],
      "execution_count": 0,
      "outputs": []
    },
    {
      "cell_type": "code",
      "metadata": {
        "id": "azzT6Ye3ADQy",
        "colab_type": "code",
        "colab": {}
      },
      "source": [
        "# Set a learning rate annealer\n",
        "learning_rate_reduction = ReduceLROnPlateau(monitor='val_acc', \n",
        "                                            patience=3, \n",
        "                                            verbose=1, \n",
        "                                            factor=0.5, \n",
        "                                            min_lr=0.00001)"
      ],
      "execution_count": 0,
      "outputs": []
    },
    {
      "cell_type": "code",
      "metadata": {
        "id": "ouU6Cuc-MjUb",
        "colab_type": "code",
        "colab": {}
      },
      "source": [
        "# Build Model\n",
        "def CNN_model():\n",
        "    \n",
        "    model = tf.keras.Sequential()\n",
        "\n",
        "    model.add(tf.keras.layers.Conv2D(filters = 32, kernel_size = (5,5), padding = 'Same', \n",
        "                     activation ='relu', input_shape = (28,28,1)))\n",
        "    model.add(tf.keras.layers.Conv2D(filters = 32, kernel_size = (5,5), padding = 'Same', \n",
        "                     activation ='relu'))\n",
        "    model.add(tf.keras.layers.MaxPool2D(pool_size=(2,2)))\n",
        "    model.add(tf.keras.layers.Dropout(0.25))\n",
        "\n",
        "    model.add(tf.keras.layers.Conv2D(filters = 64, kernel_size = (3,3), padding = 'Same', \n",
        "                     activation ='relu'))\n",
        "    model.add(tf.keras.layers.Conv2D(filters = 64, kernel_size = (3,3), padding = 'Same', \n",
        "                     activation ='relu'))\n",
        "    model.add(tf.keras.layers.MaxPool2D(pool_size=(2,2), strides=(2,2)))\n",
        "    model.add(tf.keras.layers.Dropout(0.25))\n",
        "\n",
        "\n",
        "    model.add(tf.keras.layers.Flatten())\n",
        "    model.add(tf.keras.layers.Dense(256, activation = \"relu\"))\n",
        "    model.add(tf.keras.layers.Dropout(0.5))\n",
        "    model.add(tf.keras.layers.Dense(10, activation = \"softmax\"))\n",
        "    \n",
        "    return model\n",
        "\n",
        "model = CNN_model()    "
      ],
      "execution_count": 0,
      "outputs": []
    },
    {
      "cell_type": "code",
      "metadata": {
        "id": "IYvFGHHVW1DV",
        "colab_type": "code",
        "outputId": "8dc0b6d2-3f86-4ffb-dc0a-7473caa59b02",
        "colab": {
          "base_uri": "https://localhost:8080/",
          "height": 552
        }
      },
      "source": [
        "model.summary()"
      ],
      "execution_count": 0,
      "outputs": [
        {
          "output_type": "stream",
          "text": [
            "Model: \"sequential_2\"\n",
            "_________________________________________________________________\n",
            "Layer (type)                 Output Shape              Param #   \n",
            "=================================================================\n",
            "conv2d_8 (Conv2D)            (None, 28, 28, 32)        832       \n",
            "_________________________________________________________________\n",
            "conv2d_9 (Conv2D)            (None, 28, 28, 32)        25632     \n",
            "_________________________________________________________________\n",
            "max_pooling2d_4 (MaxPooling2 (None, 14, 14, 32)        0         \n",
            "_________________________________________________________________\n",
            "dropout_6 (Dropout)          (None, 14, 14, 32)        0         \n",
            "_________________________________________________________________\n",
            "conv2d_10 (Conv2D)           (None, 14, 14, 64)        18496     \n",
            "_________________________________________________________________\n",
            "conv2d_11 (Conv2D)           (None, 14, 14, 64)        36928     \n",
            "_________________________________________________________________\n",
            "max_pooling2d_5 (MaxPooling2 (None, 7, 7, 64)          0         \n",
            "_________________________________________________________________\n",
            "dropout_7 (Dropout)          (None, 7, 7, 64)          0         \n",
            "_________________________________________________________________\n",
            "flatten_2 (Flatten)          (None, 3136)              0         \n",
            "_________________________________________________________________\n",
            "dense_4 (Dense)              (None, 256)               803072    \n",
            "_________________________________________________________________\n",
            "dropout_8 (Dropout)          (None, 256)               0         \n",
            "_________________________________________________________________\n",
            "dense_5 (Dense)              (None, 10)                2570      \n",
            "=================================================================\n",
            "Total params: 887,530\n",
            "Trainable params: 887,530\n",
            "Non-trainable params: 0\n",
            "_________________________________________________________________\n"
          ],
          "name": "stdout"
        }
      ]
    },
    {
      "cell_type": "code",
      "metadata": {
        "id": "Hyth4Fd4HqnU",
        "colab_type": "code",
        "colab": {}
      },
      "source": [
        "# Define the optimizer\n",
        "optimizer = RMSprop(lr=0.001, rho=0.9, epsilon=1e-08, decay=0.0)"
      ],
      "execution_count": 0,
      "outputs": []
    },
    {
      "cell_type": "code",
      "metadata": {
        "id": "SHTkzbRkKKN8",
        "colab_type": "code",
        "colab": {}
      },
      "source": [
        "# Compile the model\n",
        "model.compile(optimizer = 'adam' , loss = \"categorical_crossentropy\", metrics=[\"accuracy\"])"
      ],
      "execution_count": 0,
      "outputs": []
    },
    {
      "cell_type": "code",
      "metadata": {
        "id": "b3CjX0LdRjjN",
        "colab_type": "code",
        "colab": {}
      },
      "source": [
        "datagen = ImageDataGenerator(\n",
        "        featurewise_center=False,  # set input mean to 0 over the dataset\n",
        "        samplewise_center=False,  # set each sample mean to 0\n",
        "        featurewise_std_normalization=False,  # divide inputs by std of the dataset\n",
        "        samplewise_std_normalization=False,  # divide each input by its std\n",
        "        zca_whitening=False,  # apply ZCA whitening\n",
        "        rotation_range=10,  # randomly rotate images in the range (degrees, 0 to 180)\n",
        "        zoom_range = 0.1, # Randomly zoom image \n",
        "        width_shift_range=0.1,  # randomly shift images horizontally (fraction of total width)\n",
        "        height_shift_range=0.1,  # randomly shift images vertically (fraction of total height)\n",
        "        horizontal_flip=False,  # randomly flip images\n",
        "        vertical_flip=False)  # randomly flip images\n",
        "\n",
        "datagen.fit(training_images)"
      ],
      "execution_count": 0,
      "outputs": []
    },
    {
      "cell_type": "code",
      "metadata": {
        "id": "JdjCpWHfRscU",
        "colab_type": "code",
        "outputId": "7fb29fb8-abf6-4abf-caac-354337c65a28",
        "colab": {
          "base_uri": "https://localhost:8080/",
          "height": 1000
        }
      },
      "source": [
        "history = model.fit_generator(\n",
        "          datagen.flow(training_images, training_labels, batch_size=batch_size),\n",
        "          epochs = epochs,\n",
        "          validation_data = (validation_images, validation_labels),\n",
        "          verbose = 2, \n",
        "          steps_per_epoch=training_images.shape[0] // batch_size,\n",
        "          )"
      ],
      "execution_count": 0,
      "outputs": [
        {
          "output_type": "stream",
          "text": [
            "Epoch 1/50\n",
            "317/317 - 13s - loss: 0.5092 - accuracy: 0.8321 - val_loss: 0.0754 - val_accuracy: 0.9772\n",
            "Epoch 2/50\n",
            "317/317 - 12s - loss: 0.1639 - accuracy: 0.9513 - val_loss: 0.0656 - val_accuracy: 0.9786\n",
            "Epoch 3/50\n",
            "317/317 - 13s - loss: 0.1157 - accuracy: 0.9652 - val_loss: 0.0411 - val_accuracy: 0.9880\n",
            "Epoch 4/50\n",
            "317/317 - 13s - loss: 0.1003 - accuracy: 0.9698 - val_loss: 0.0420 - val_accuracy: 0.9871\n",
            "Epoch 5/50\n",
            "317/317 - 13s - loss: 0.0883 - accuracy: 0.9731 - val_loss: 0.0330 - val_accuracy: 0.9893\n",
            "Epoch 6/50\n",
            "317/317 - 13s - loss: 0.0784 - accuracy: 0.9765 - val_loss: 0.0297 - val_accuracy: 0.9910\n",
            "Epoch 7/50\n",
            "317/317 - 13s - loss: 0.0688 - accuracy: 0.9797 - val_loss: 0.0299 - val_accuracy: 0.9918\n",
            "Epoch 8/50\n",
            "317/317 - 13s - loss: 0.0641 - accuracy: 0.9809 - val_loss: 0.0281 - val_accuracy: 0.9916\n",
            "Epoch 9/50\n",
            "317/317 - 13s - loss: 0.0596 - accuracy: 0.9826 - val_loss: 0.0271 - val_accuracy: 0.9916\n",
            "Epoch 10/50\n",
            "317/317 - 13s - loss: 0.0585 - accuracy: 0.9826 - val_loss: 0.0268 - val_accuracy: 0.9921\n",
            "Epoch 11/50\n",
            "317/317 - 13s - loss: 0.0559 - accuracy: 0.9837 - val_loss: 0.0294 - val_accuracy: 0.9917\n",
            "Epoch 12/50\n",
            "317/317 - 13s - loss: 0.0536 - accuracy: 0.9834 - val_loss: 0.0233 - val_accuracy: 0.9933\n",
            "Epoch 13/50\n",
            "317/317 - 13s - loss: 0.0487 - accuracy: 0.9854 - val_loss: 0.0299 - val_accuracy: 0.9915\n",
            "Epoch 14/50\n",
            "317/317 - 13s - loss: 0.0493 - accuracy: 0.9849 - val_loss: 0.0293 - val_accuracy: 0.9927\n",
            "Epoch 15/50\n",
            "317/317 - 13s - loss: 0.0479 - accuracy: 0.9859 - val_loss: 0.0255 - val_accuracy: 0.9936\n",
            "Epoch 16/50\n",
            "317/317 - 13s - loss: 0.0460 - accuracy: 0.9866 - val_loss: 0.0259 - val_accuracy: 0.9927\n",
            "Epoch 17/50\n",
            "317/317 - 13s - loss: 0.0384 - accuracy: 0.9885 - val_loss: 0.0299 - val_accuracy: 0.9910\n",
            "Epoch 18/50\n",
            "317/317 - 13s - loss: 0.0450 - accuracy: 0.9867 - val_loss: 0.0251 - val_accuracy: 0.9932\n",
            "Epoch 19/50\n",
            "317/317 - 13s - loss: 0.0424 - accuracy: 0.9868 - val_loss: 0.0290 - val_accuracy: 0.9923\n",
            "Epoch 20/50\n",
            "317/317 - 13s - loss: 0.0434 - accuracy: 0.9870 - val_loss: 0.0380 - val_accuracy: 0.9898\n",
            "Epoch 21/50\n",
            "317/317 - 13s - loss: 0.0388 - accuracy: 0.9885 - val_loss: 0.0245 - val_accuracy: 0.9939\n",
            "Epoch 22/50\n",
            "317/317 - 13s - loss: 0.0381 - accuracy: 0.9885 - val_loss: 0.0241 - val_accuracy: 0.9933\n",
            "Epoch 23/50\n",
            "317/317 - 13s - loss: 0.0375 - accuracy: 0.9889 - val_loss: 0.0248 - val_accuracy: 0.9931\n",
            "Epoch 24/50\n",
            "317/317 - 13s - loss: 0.0366 - accuracy: 0.9895 - val_loss: 0.0269 - val_accuracy: 0.9920\n",
            "Epoch 25/50\n",
            "317/317 - 13s - loss: 0.0359 - accuracy: 0.9888 - val_loss: 0.0224 - val_accuracy: 0.9939\n",
            "Epoch 26/50\n",
            "317/317 - 13s - loss: 0.0330 - accuracy: 0.9892 - val_loss: 0.0222 - val_accuracy: 0.9939\n",
            "Epoch 27/50\n",
            "317/317 - 13s - loss: 0.0330 - accuracy: 0.9900 - val_loss: 0.0212 - val_accuracy: 0.9935\n",
            "Epoch 28/50\n",
            "317/317 - 13s - loss: 0.0323 - accuracy: 0.9902 - val_loss: 0.0223 - val_accuracy: 0.9941\n",
            "Epoch 29/50\n",
            "317/317 - 13s - loss: 0.0333 - accuracy: 0.9896 - val_loss: 0.0235 - val_accuracy: 0.9940\n",
            "Epoch 30/50\n",
            "317/317 - 13s - loss: 0.0317 - accuracy: 0.9907 - val_loss: 0.0213 - val_accuracy: 0.9940\n",
            "Epoch 31/50\n",
            "317/317 - 13s - loss: 0.0322 - accuracy: 0.9910 - val_loss: 0.0260 - val_accuracy: 0.9933\n",
            "Epoch 32/50\n",
            "317/317 - 13s - loss: 0.0310 - accuracy: 0.9907 - val_loss: 0.0278 - val_accuracy: 0.9931\n",
            "Epoch 33/50\n",
            "317/317 - 13s - loss: 0.0306 - accuracy: 0.9906 - val_loss: 0.0219 - val_accuracy: 0.9943\n",
            "Epoch 34/50\n",
            "317/317 - 13s - loss: 0.0312 - accuracy: 0.9903 - val_loss: 0.0261 - val_accuracy: 0.9935\n",
            "Epoch 35/50\n",
            "317/317 - 13s - loss: 0.0313 - accuracy: 0.9905 - val_loss: 0.0210 - val_accuracy: 0.9948\n",
            "Epoch 36/50\n",
            "317/317 - 13s - loss: 0.0317 - accuracy: 0.9908 - val_loss: 0.0262 - val_accuracy: 0.9926\n",
            "Epoch 37/50\n",
            "317/317 - 13s - loss: 0.0280 - accuracy: 0.9916 - val_loss: 0.0257 - val_accuracy: 0.9928\n",
            "Epoch 38/50\n",
            "317/317 - 13s - loss: 0.0281 - accuracy: 0.9917 - val_loss: 0.0215 - val_accuracy: 0.9944\n",
            "Epoch 39/50\n",
            "317/317 - 13s - loss: 0.0258 - accuracy: 0.9919 - val_loss: 0.0239 - val_accuracy: 0.9935\n",
            "Epoch 40/50\n",
            "317/317 - 13s - loss: 0.0255 - accuracy: 0.9924 - val_loss: 0.0218 - val_accuracy: 0.9943\n",
            "Epoch 41/50\n",
            "317/317 - 13s - loss: 0.0314 - accuracy: 0.9904 - val_loss: 0.0230 - val_accuracy: 0.9941\n",
            "Epoch 42/50\n",
            "317/317 - 13s - loss: 0.0275 - accuracy: 0.9915 - val_loss: 0.0208 - val_accuracy: 0.9950\n",
            "Epoch 43/50\n",
            "317/317 - 13s - loss: 0.0259 - accuracy: 0.9918 - val_loss: 0.0217 - val_accuracy: 0.9941\n",
            "Epoch 44/50\n",
            "317/317 - 13s - loss: 0.0245 - accuracy: 0.9925 - val_loss: 0.0259 - val_accuracy: 0.9942\n",
            "Epoch 45/50\n",
            "317/317 - 13s - loss: 0.0278 - accuracy: 0.9914 - val_loss: 0.0228 - val_accuracy: 0.9946\n",
            "Epoch 46/50\n",
            "317/317 - 13s - loss: 0.0255 - accuracy: 0.9925 - val_loss: 0.0251 - val_accuracy: 0.9936\n",
            "Epoch 47/50\n",
            "317/317 - 13s - loss: 0.0248 - accuracy: 0.9920 - val_loss: 0.0220 - val_accuracy: 0.9942\n",
            "Epoch 48/50\n",
            "317/317 - 13s - loss: 0.0229 - accuracy: 0.9936 - val_loss: 0.0239 - val_accuracy: 0.9942\n",
            "Epoch 49/50\n",
            "317/317 - 13s - loss: 0.0297 - accuracy: 0.9919 - val_loss: 0.0226 - val_accuracy: 0.9937\n",
            "Epoch 50/50\n",
            "317/317 - 13s - loss: 0.0263 - accuracy: 0.9920 - val_loss: 0.0236 - val_accuracy: 0.9939\n"
          ],
          "name": "stdout"
        }
      ]
    },
    {
      "cell_type": "code",
      "metadata": {
        "id": "hzSZdzL7Mviv",
        "colab_type": "code",
        "outputId": "a7de582b-0b19-452b-82ec-724beea95a9a",
        "colab": {
          "base_uri": "https://localhost:8080/",
          "height": 1000
        }
      },
      "source": [
        "# Without Augmentation\n",
        "history = model.fit(training_images, training_labels, epochs = 30, validation_data = (validation_images, validation_labels))"
      ],
      "execution_count": 0,
      "outputs": [
        {
          "output_type": "stream",
          "text": [
            "Epoch 1/30\n",
            "854/854 [==============================] - 5s 6ms/step - loss: 0.2572 - accuracy: 0.9184 - val_loss: 0.0670 - val_accuracy: 0.9794\n",
            "Epoch 2/30\n",
            "854/854 [==============================] - 5s 6ms/step - loss: 0.0873 - accuracy: 0.9734 - val_loss: 0.0495 - val_accuracy: 0.9844\n",
            "Epoch 3/30\n",
            "854/854 [==============================] - 5s 6ms/step - loss: 0.0667 - accuracy: 0.9801 - val_loss: 0.0477 - val_accuracy: 0.9856\n",
            "Epoch 4/30\n",
            "854/854 [==============================] - 5s 6ms/step - loss: 0.0592 - accuracy: 0.9824 - val_loss: 0.0371 - val_accuracy: 0.9895\n",
            "Epoch 5/30\n",
            "854/854 [==============================] - 5s 6ms/step - loss: 0.0461 - accuracy: 0.9855 - val_loss: 0.0404 - val_accuracy: 0.9890\n",
            "Epoch 6/30\n",
            "854/854 [==============================] - 5s 6ms/step - loss: 0.0427 - accuracy: 0.9869 - val_loss: 0.0350 - val_accuracy: 0.9901\n",
            "Epoch 7/30\n",
            "854/854 [==============================] - 5s 6ms/step - loss: 0.0399 - accuracy: 0.9879 - val_loss: 0.0332 - val_accuracy: 0.9899\n",
            "Epoch 8/30\n",
            "854/854 [==============================] - 5s 6ms/step - loss: 0.0326 - accuracy: 0.9898 - val_loss: 0.0386 - val_accuracy: 0.9900\n",
            "Epoch 9/30\n",
            "854/854 [==============================] - 5s 6ms/step - loss: 0.0315 - accuracy: 0.9898 - val_loss: 0.0332 - val_accuracy: 0.9908\n",
            "Epoch 10/30\n",
            "854/854 [==============================] - 5s 6ms/step - loss: 0.0275 - accuracy: 0.9918 - val_loss: 0.0368 - val_accuracy: 0.9901\n",
            "Epoch 11/30\n",
            "854/854 [==============================] - 5s 6ms/step - loss: 0.0290 - accuracy: 0.9908 - val_loss: 0.0410 - val_accuracy: 0.9898\n",
            "Epoch 12/30\n",
            "854/854 [==============================] - 5s 6ms/step - loss: 0.0255 - accuracy: 0.9919 - val_loss: 0.0331 - val_accuracy: 0.9912\n",
            "Epoch 13/30\n",
            "854/854 [==============================] - 5s 6ms/step - loss: 0.0233 - accuracy: 0.9926 - val_loss: 0.0409 - val_accuracy: 0.9904\n",
            "Epoch 14/30\n",
            "854/854 [==============================] - 5s 6ms/step - loss: 0.0255 - accuracy: 0.9922 - val_loss: 0.0346 - val_accuracy: 0.9918\n",
            "Epoch 15/30\n",
            "854/854 [==============================] - 5s 6ms/step - loss: 0.0220 - accuracy: 0.9929 - val_loss: 0.0416 - val_accuracy: 0.9897\n",
            "Epoch 16/30\n",
            "854/854 [==============================] - 5s 6ms/step - loss: 0.0218 - accuracy: 0.9938 - val_loss: 0.0379 - val_accuracy: 0.9925\n",
            "Epoch 17/30\n",
            "854/854 [==============================] - 5s 6ms/step - loss: 0.0236 - accuracy: 0.9930 - val_loss: 0.0367 - val_accuracy: 0.9914\n",
            "Epoch 18/30\n",
            "854/854 [==============================] - 5s 6ms/step - loss: 0.0190 - accuracy: 0.9937 - val_loss: 0.0357 - val_accuracy: 0.9914\n",
            "Epoch 19/30\n",
            "854/854 [==============================] - 5s 6ms/step - loss: 0.0185 - accuracy: 0.9937 - val_loss: 0.0393 - val_accuracy: 0.9911\n",
            "Epoch 20/30\n",
            "854/854 [==============================] - 5s 6ms/step - loss: 0.0191 - accuracy: 0.9940 - val_loss: 0.0396 - val_accuracy: 0.9918\n",
            "Epoch 21/30\n",
            "854/854 [==============================] - 5s 6ms/step - loss: 0.0235 - accuracy: 0.9926 - val_loss: 0.0367 - val_accuracy: 0.9917\n",
            "Epoch 22/30\n",
            "854/854 [==============================] - 5s 6ms/step - loss: 0.0158 - accuracy: 0.9944 - val_loss: 0.0412 - val_accuracy: 0.9922\n",
            "Epoch 23/30\n",
            "854/854 [==============================] - 5s 6ms/step - loss: 0.0187 - accuracy: 0.9942 - val_loss: 0.0368 - val_accuracy: 0.9926\n",
            "Epoch 24/30\n",
            "854/854 [==============================] - 5s 6ms/step - loss: 0.0174 - accuracy: 0.9944 - val_loss: 0.0428 - val_accuracy: 0.9914\n",
            "Epoch 25/30\n",
            "854/854 [==============================] - 5s 6ms/step - loss: 0.0177 - accuracy: 0.9945 - val_loss: 0.0385 - val_accuracy: 0.9923\n",
            "Epoch 26/30\n",
            "854/854 [==============================] - 5s 6ms/step - loss: 0.0151 - accuracy: 0.9954 - val_loss: 0.0440 - val_accuracy: 0.9914\n",
            "Epoch 27/30\n",
            "854/854 [==============================] - 5s 6ms/step - loss: 0.0154 - accuracy: 0.9954 - val_loss: 0.0469 - val_accuracy: 0.9918\n",
            "Epoch 28/30\n",
            "854/854 [==============================] - 5s 6ms/step - loss: 0.0190 - accuracy: 0.9942 - val_loss: 0.0387 - val_accuracy: 0.9927\n",
            "Epoch 29/30\n",
            "854/854 [==============================] - 5s 6ms/step - loss: 0.0150 - accuracy: 0.9955 - val_loss: 0.0423 - val_accuracy: 0.9924\n",
            "Epoch 30/30\n",
            "854/854 [==============================] - 5s 6ms/step - loss: 0.0166 - accuracy: 0.9953 - val_loss: 0.0365 - val_accuracy: 0.9922\n"
          ],
          "name": "stdout"
        }
      ]
    },
    {
      "cell_type": "markdown",
      "metadata": {
        "id": "HtFVBvdhdpKq",
        "colab_type": "text"
      },
      "source": [
        "**Model Prediction & Save Result**"
      ]
    },
    {
      "cell_type": "code",
      "metadata": {
        "id": "_8zkqsbXcuzU",
        "colab_type": "code",
        "colab": {}
      },
      "source": [
        "# Prediction \n",
        "classifications = model.predict(test_images)"
      ],
      "execution_count": 0,
      "outputs": []
    },
    {
      "cell_type": "code",
      "metadata": {
        "id": "OaJsIpUKOqpu",
        "colab_type": "code",
        "outputId": "cc28bac7-d69f-4fb7-a78e-a2353679217a",
        "colab": {
          "base_uri": "https://localhost:8080/",
          "height": 84
        }
      },
      "source": [
        "i = 12\n",
        "print(classifications[i])\n",
        "maxpos = classifications[i].tolist().index(max(classifications[i]))\n",
        "print('\\nPredicted answer is: ', maxpos)"
      ],
      "execution_count": 0,
      "outputs": [
        {
          "output_type": "stream",
          "text": [
            "[1.3025762e-10 4.4817425e-05 3.1041989e-07 8.4716557e-05 9.8085862e-01\n",
            " 1.1327190e-05 1.6935313e-07 1.0992746e-02 1.2320263e-04 7.8841448e-03]\n",
            "\n",
            "Predicted answer is:  4\n"
          ],
          "name": "stdout"
        }
      ]
    },
    {
      "cell_type": "code",
      "metadata": {
        "id": "23yafTRYQDsf",
        "colab_type": "code",
        "outputId": "3d21d9a5-6401-4b95-de77-e8d63e61255a",
        "colab": {
          "base_uri": "https://localhost:8080/",
          "height": 265
        }
      },
      "source": [
        "g = plt.imshow(test_images[i][:,:,0])"
      ],
      "execution_count": 0,
      "outputs": [
        {
          "output_type": "display_data",
          "data": {
            "image/png": "[encoded data removed]",
            "text/plain": [
              "<Figure size 432x288 with 1 Axes>"
            ]
          },
          "metadata": {
            "tags": [],
            "needs_background": "light"
          }
        }
      ]
    },
    {
      "cell_type": "code",
      "metadata": {
        "id": "rv5u8EVo6gKL",
        "colab_type": "code",
        "colab": {}
      },
      "source": [
        "# Submission creation\n",
        "def convert_prediction_result(model_result):\n",
        "    result = []\n",
        "    for i in range(len(model_result)):\n",
        "        result += [np.argmax(model_result[i])]\n",
        "    return result\n",
        "\n",
        "\n",
        "def write_submission(_submission_path, result_arr):\n",
        "    f_out = open(_submission_path, 'w')\n",
        "    f_out.write(\"ImageId,Label\\n\")\n",
        "    for i in range(len(result_arr)):\n",
        "        f_out.write(\"{},{}\\n\".format(i+1, result_arr[i]))\n",
        "    f_out.close()\n",
        "\n",
        "write_submission('submission.csv', convert_prediction_result(classifications))"
      ],
      "execution_count": 0,
      "outputs": []
    },
    {
      "cell_type": "markdown",
      "metadata": {
        "id": "i4OusS6kbYbI",
        "colab_type": "text"
      },
      "source": [
        "**History of CNN**"
      ]
    },
    {
      "cell_type": "code",
      "metadata": {
        "id": "jP1PmNJ9YL0Z",
        "colab_type": "code",
        "outputId": "5f23e6d7-8ed5-4bad-8d15-09ed603d8f97",
        "colab": {
          "base_uri": "https://localhost:8080/",
          "height": 449
        }
      },
      "source": [
        "def plot_history(model_history):\n",
        "\n",
        "    plt.figure(figsize = (20,15))\n",
        "    \n",
        "    plt.subplot(221)\n",
        "    # summarize history for accuracy\n",
        "    plt.plot(model_history.history['accuracy'])\n",
        "    plt.plot(model_history.history['val_accuracy'])\n",
        "    plt.title('model accuracy')\n",
        "    plt.ylabel('accuracy')\n",
        "    plt.xlabel('epoch')\n",
        "    plt.legend(['train', 'test'], loc='upper left')\n",
        "    plt.grid()\n",
        "    \n",
        "    plt.subplot(222)\n",
        "    # summarize history for loss\n",
        "    plt.plot(model_history.history['loss'])\n",
        "    plt.plot(model_history.history['val_loss'])\n",
        "    plt.title('model loss')\n",
        "    plt.ylabel('loss')\n",
        "    plt.xlabel('epoch')\n",
        "    plt.legend(['train', 'test'], loc='upper left')\n",
        "    plt.grid()\n",
        "\n",
        "    plt.show()\n",
        "\n",
        "plot_history(history)    "
      ],
      "execution_count": 0,
      "outputs": [
        {
          "output_type": "display_data",
          "data": {
            "image/png": "[encoded data removed]",
            "text/plain": [
              "<Figure size 1440x1080 with 2 Axes>"
            ]
          },
          "metadata": {
            "tags": [],
            "needs_background": "light"
          }
        }
      ]
    },
    {
      "cell_type": "markdown",
      "metadata": {
        "id": "oB3eWUA9f7pr",
        "colab_type": "text"
      },
      "source": [
        "**Confusion Matrix**"
      ]
    },
    {
      "cell_type": "code",
      "metadata": {
        "id": "zdGAqVHhJV9Z",
        "colab_type": "code",
        "outputId": "fc0cdb7b-cf49-43db-d8e5-2fc2fa3b10ef",
        "colab": {
          "base_uri": "https://localhost:8080/",
          "height": 212
        }
      },
      "source": [
        "plt.figure(figsize = (10,7))\n",
        "# Predict the values from the validation dataset\n",
        "y_pred = model.predict(validation_images.astype(np.float32))\n",
        "# Convert predictions classes to one hot vectors \n",
        "y_pred_classes = np.argmax(y_pred, axis = 1) \n",
        "# Convert validation observations to one hot vectors\n",
        "y_true = np.argmax(validation_labels, axis = 1) \n",
        "# compute the confusion matrix\n",
        "cm = confusion_matrix(y_true, y_pred_classes) \n",
        "# plot the confusion matrix\n",
        "plot_confusion_matrix(cm, classes = range(10))"
      ],
      "execution_count": 0,
      "outputs": [
        {
          "output_type": "error",
          "ename": "NameError",
          "evalue": "ignored",
          "traceback": [
            "\u001b[0;31m---------------------------------------------------------------------------\u001b[0m",
            "\u001b[0;31mNameError\u001b[0m                                 Traceback (most recent call last)",
            "\u001b[0;32m<ipython-input-61-2a145e30a1c7>\u001b[0m in \u001b[0;36m<module>\u001b[0;34m()\u001b[0m\n\u001b[1;32m      9\u001b[0m \u001b[0mcm\u001b[0m \u001b[0;34m=\u001b[0m \u001b[0mconfusion_matrix\u001b[0m\u001b[0;34m(\u001b[0m\u001b[0my_true\u001b[0m\u001b[0;34m,\u001b[0m \u001b[0my_pred_classes\u001b[0m\u001b[0;34m)\u001b[0m\u001b[0;34m\u001b[0m\u001b[0;34m\u001b[0m\u001b[0m\n\u001b[1;32m     10\u001b[0m \u001b[0;31m# plot the confusion matrix\u001b[0m\u001b[0;34m\u001b[0m\u001b[0;34m\u001b[0m\u001b[0;34m\u001b[0m\u001b[0m\n\u001b[0;32m---> 11\u001b[0;31m \u001b[0mplot_confusion_matrix\u001b[0m\u001b[0;34m(\u001b[0m\u001b[0mcm\u001b[0m\u001b[0;34m,\u001b[0m \u001b[0mclasses\u001b[0m \u001b[0;34m=\u001b[0m \u001b[0mrange\u001b[0m\u001b[0;34m(\u001b[0m\u001b[0;36m10\u001b[0m\u001b[0;34m)\u001b[0m\u001b[0;34m)\u001b[0m\u001b[0;34m\u001b[0m\u001b[0;34m\u001b[0m\u001b[0m\n\u001b[0m",
            "\u001b[0;31mNameError\u001b[0m: name 'plot_confusion_matrix' is not defined"
          ]
        },
        {
          "output_type": "display_data",
          "data": {
            "text/plain": [
              "<Figure size 720x504 with 0 Axes>"
            ]
          },
          "metadata": {
            "tags": []
          }
        }
      ]
    },
    {
      "cell_type": "markdown",
      "metadata": {
        "id": "6YOFFiJGOdMB",
        "colab_type": "text"
      },
      "source": [
        "**Display Predicted Images**"
      ]
    },
    {
      "cell_type": "code",
      "metadata": {
        "id": "3OUNmESCKATL",
        "colab_type": "code",
        "outputId": "c308992c-e7b1-4caf-bc94-1d3ac3800e8f",
        "colab": {
          "base_uri": "https://localhost:8080/",
          "height": 910
        }
      },
      "source": [
        "def display_predicted_images(graph_indexes = np.arange(9)):\n",
        "    \n",
        "    # plot first few images\n",
        "    plt.figure(figsize=(12,12))\n",
        "    \n",
        "    for graph_index in graph_indexes:\n",
        "        \n",
        "        index = random.randint(1, validation_images.shape[0])\n",
        "        \n",
        "        # Get corresponding label\n",
        "        predicted_label = y_pred_classes[index]\n",
        "        true_label = y_true[index]\n",
        "        \n",
        "        \n",
        "        # define subplot\n",
        "        plt.subplot(330 + 1 + graph_index)\n",
        "        plt.title('Predicted label: %s \\n'%predicted_label+\\\n",
        "                  'True label %s \\n'%true_label,\n",
        "                 fontsize=18)\n",
        "        # plot raw pixel data\n",
        "        plt.imshow(training_images[index][:,:,0])\n",
        "        \n",
        "    plt.subplots_adjust(bottom = 0.001)  # the bottom of the subplots of the figure\n",
        "    plt.subplots_adjust(top = 0.99)\n",
        "    # show the figure\n",
        "    plt.show()\n",
        "\n",
        "display_predicted_images()    "
      ],
      "execution_count": 0,
      "outputs": [
        {
          "output_type": "display_data",
          "data": {
            "image/png": "[encoded data removed]",
            "text/plain": [
              "<Figure size 864x864 with 9 Axes>"
            ]
          },
          "metadata": {
            "tags": [],
            "needs_background": "light"
          }
        }
      ]
    },
    {
      "cell_type": "markdown",
      "metadata": {
        "id": "LQSaVclNOqOU",
        "colab_type": "text"
      },
      "source": [
        "**Display Errors**"
      ]
    },
    {
      "cell_type": "code",
      "metadata": {
        "id": "dcaKDobwOpSr",
        "colab_type": "code",
        "outputId": "832ea329-a5c4-4280-c934-8de6a77f0320",
        "colab": {
          "base_uri": "https://localhost:8080/",
          "height": 910
        }
      },
      "source": [
        "# Display errors \n",
        "errors = (y_pred_classes - y_true != 0)\n",
        "\n",
        "y_pred_classes_errors = y_pred_classes[errors]\n",
        "y_pred_errors = y_pred[errors]\n",
        "y_true_errors = y_true[errors]\n",
        "X_val_errors = validation_images[errors]\n",
        "\n",
        "def display_top9_wrongly_predicted_images(list_of_indexes, graph_indexes = np.arange(9)):\n",
        "    \n",
        "    # plot first few images\n",
        "    plt.figure(figsize=(12,12))\n",
        "    \n",
        "    for graph_index in graph_indexes:\n",
        "        \n",
        "        index = list_of_indexes[graph_index]\n",
        "        \n",
        "        # Get corresponding label\n",
        "        predicted_label = y_pred_classes_errors[index]\n",
        "        true_label = y_true_errors[index]\n",
        "        \n",
        "        \n",
        "        # define subplot\n",
        "        plt.subplot(330 + 1 + graph_index)\n",
        "        plt.title('Predicted label: %s \\n'%predicted_label+\\\n",
        "                  'True label %s \\n'%true_label,\n",
        "                 fontsize=18)\n",
        "        # plot raw pixel data\n",
        "        plt.imshow(X_val_errors[index][:,:,0])\n",
        "        \n",
        "    plt.subplots_adjust(bottom = 0.001)  # the bottom of the subplots of the figure\n",
        "    plt.subplots_adjust(top = 0.99)\n",
        "    # show the figure\n",
        "    plt.show()\n",
        "\n",
        "# Probabilities of the wrong predicted numbers\n",
        "y_pred_errors_prob = np.max(y_pred_errors,axis = 1)\n",
        "\n",
        "# Predicted probabilities of the true values in the error set\n",
        "true_prob_errors = np.diagonal(np.take(y_pred_errors, y_true_errors, axis=1))\n",
        "\n",
        "# Difference between the probability of the predicted label and the true label\n",
        "delta_pred_true_errors = y_pred_errors_prob - true_prob_errors\n",
        "\n",
        "# Sorted list of the delta prob errors\n",
        "sorted_dela_errors = np.argsort(delta_pred_true_errors)\n",
        "\n",
        "# Top 9 errors \n",
        "most_important_errors = sorted_dela_errors[-9:]\n",
        "\n",
        "# Show the top 9 errors\n",
        "display_top9_wrongly_predicted_images(list_of_indexes = most_important_errors)"
      ],
      "execution_count": 0,
      "outputs": [
        {
          "output_type": "display_data",
          "data": {
            "image/png": "[encoded data removed]",
            "text/plain": [
              "<Figure size 864x864 with 9 Axes>"
            ]
          },
          "metadata": {
            "tags": [],
            "needs_background": "light"
          }
        }
      ]
    },
    {
      "cell_type": "markdown",
      "metadata": {
        "id": "2glvsFccFHf3",
        "colab_type": "text"
      },
      "source": [
        "**Data Preprocessing**"
      ]
    },
    {
      "cell_type": "code",
      "metadata": {
        "id": "7LKcAdd0FNKN",
        "colab_type": "code",
        "colab": {}
      },
      "source": [
        "def Preprocessing(train, test, split_train_size = 0.35):\n",
        "\n",
        "    #training_images = train.drop([\"label\"], axis = 1)\n",
        "    #training_labels = train[\"label\"]\n",
        "    #test_images = test \n",
        "\n",
        "    training_images = train.iloc[:, 1:].values.astype('float32')     # all pixel values\n",
        "    training_labels = train.iloc[:, 0].values.astype('float32')      # only labels i.e targets digits\n",
        "    test_images = test.values.astype('float32')\n",
        "\n",
        "    # Normalize the data\n",
        "    training_images /= 255.0\n",
        "    test_images /= 255.0\n",
        "\n",
        "    # Reshape into right format vectors\n",
        "    training_images = training_images.reshape(-1,28,28,1)\n",
        "    test_images = test_images.reshape(-1,28,28,1)\n",
        "\n",
        "    # Apply ohe on labels\n",
        "    training_labels = to_categorical(training_labels, num_classes = 10)\n",
        "    \n",
        "    # Split the train and the validation set for the fitting\n",
        "    training_images, validation_images, training_labels, validation_labels = train_test_split(training_images, training_labels, test_size = split_train_size, random_state=42)\n",
        "    \n",
        "    validation_images = validation_images.astype(np.float32)\n",
        "    validation_labels = validation_labels.astype(np.float32)\n",
        "\n",
        "    return training_images, validation_images, training_labels, validation_labels, test_images\n",
        "\n",
        "\n",
        "training_images, validation_images, training_labels, validation_labels, test_images = Preprocessing(train_raw_data, test_raw_data)\n"
      ],
      "execution_count": 0,
      "outputs": []
    },
    {
      "cell_type": "code",
      "metadata": {
        "id": "Z8JYAEMG5oym",
        "colab_type": "code",
        "colab": {}
      },
      "source": [
        "predicted_values = model.predict(test_X)"
      ],
      "execution_count": 0,
      "outputs": []
    },
    {
      "cell_type": "code",
      "metadata": {
        "id": "PgrDfQm14UI1",
        "colab_type": "code",
        "colab": {}
      },
      "source": [
        "my_submission = pd.DataFrame({'ImageId': test_raw_data.id, 'Label': predicted_values})\n",
        "my_submission.to_csv('submission.csv', index=False)"
      ],
      "execution_count": 0,
      "outputs": []
    },
    {
      "cell_type": "code",
      "metadata": {
        "id": "dbUqKEBzSUVJ",
        "colab_type": "code",
        "outputId": "afe75a10-e9be-4bbd-aa24-03279f85f1f9",
        "colab": {
          "base_uri": "https://localhost:8080/",
          "height": 134
        }
      },
      "source": [
        "# All pixel values\n",
        "X_train = (train_raw_data.iloc[:, 1:].values).astype('float32')  \n",
        "print(X_train[0, 100:150])\n",
        "print('\\n Shape of the training dataset', X_train.shape)\n",
        "print(type(X_train))"
      ],
      "execution_count": 0,
      "outputs": [
        {
          "output_type": "stream",
          "text": [
            "[  0.   0.   0.   0.   0.   0.   0.   0.   0.   0.   0.   0.   0.   0.\n",
            "   0.   0.   0.   0.   0.   0.   0.   0.   0.   0.   0.   0.   0.   0.\n",
            "   0.   0.   0.   0. 188. 255.  94.   0.   0.   0.   0.   0.   0.   0.\n",
            "   0.   0.   0.   0.   0.   0.   0.   0.]\n",
            "\n",
            " Shape of the training dataset (42000, 784)\n",
            "<class 'numpy.ndarray'>\n"
          ],
          "name": "stdout"
        }
      ]
    },
    {
      "cell_type": "code",
      "metadata": {
        "id": "_lgFa32n1gN8",
        "colab_type": "code",
        "colab": {}
      },
      "source": [
        "# Normalize the data\n",
        "X_train /= 255.0"
      ],
      "execution_count": 0,
      "outputs": []
    },
    {
      "cell_type": "code",
      "metadata": {
        "id": "yM5rAi1h2Oiw",
        "colab_type": "code",
        "outputId": "170ad156-2b18-4263-c41c-82ef45638aac",
        "colab": {
          "base_uri": "https://localhost:8080/",
          "height": 184
        }
      },
      "source": [
        "# Print normalized data\n",
        "print(X_train[0, 100:150])\n",
        "print(X_train.shape)"
      ],
      "execution_count": 0,
      "outputs": [
        {
          "output_type": "stream",
          "text": [
            "[0.         0.         0.         0.         0.         0.\n",
            " 0.         0.         0.         0.         0.         0.\n",
            " 0.         0.         0.         0.         0.         0.\n",
            " 0.         0.         0.         0.         0.         0.\n",
            " 0.         0.         0.         0.         0.         0.\n",
            " 0.         0.         0.7372549  1.         0.36862746 0.\n",
            " 0.         0.         0.         0.         0.         0.\n",
            " 0.         0.         0.         0.         0.         0.\n",
            " 0.         0.        ]\n",
            "(42000, 784)\n"
          ],
          "name": "stdout"
        }
      ]
    },
    {
      "cell_type": "code",
      "metadata": {
        "id": "eTNr3EptCdz4",
        "colab_type": "code",
        "outputId": "aebc8ca0-d938-4980-ba49-791aa347c68d",
        "colab": {
          "base_uri": "https://localhost:8080/",
          "height": 33
        }
      },
      "source": [
        "# Reshape image in 3 dimensions (height = 28px, width = 28px , canal = 1)\n",
        "X_train = pure_data.values.reshape(-1,28,28,1)\n",
        "print(X_train.shape)"
      ],
      "execution_count": 0,
      "outputs": [
        {
          "output_type": "stream",
          "text": [
            "(42000, 28, 28, 1)\n"
          ],
          "name": "stdout"
        }
      ]
    },
    {
      "cell_type": "code",
      "metadata": {
        "id": "ZjCv8G3kEqFz",
        "colab_type": "code",
        "outputId": "476ea2ef-ce7b-4995-d869-eee7331d581d",
        "colab": {
          "base_uri": "https://localhost:8080/",
          "height": 251
        }
      },
      "source": [
        "# Getting the labels\n",
        "y_train = train_raw_data['label']\n",
        "print(y_train)\n",
        "print('Type of the data: ', type(y_train))\n",
        "print(y_train.shape)"
      ],
      "execution_count": 0,
      "outputs": [
        {
          "output_type": "stream",
          "text": [
            "0        1\n",
            "1        0\n",
            "2        1\n",
            "3        4\n",
            "4        0\n",
            "        ..\n",
            "41995    0\n",
            "41996    1\n",
            "41997    7\n",
            "41998    6\n",
            "41999    9\n",
            "Name: label, Length: 42000, dtype: int64\n",
            "Type of the data:  <class 'pandas.core.series.Series'>\n",
            "(42000,)\n"
          ],
          "name": "stdout"
        }
      ]
    },
    {
      "cell_type": "code",
      "metadata": {
        "id": "eFPVau5xF1tr",
        "colab_type": "code",
        "outputId": "33eb9e82-ed4d-4227-d456-17b1ae2874ae",
        "colab": {
          "base_uri": "https://localhost:8080/",
          "height": 201
        }
      },
      "source": [
        "y_train.value_counts()"
      ],
      "execution_count": 0,
      "outputs": [
        {
          "output_type": "execute_result",
          "data": {
            "text/plain": [
              "1    4684\n",
              "7    4401\n",
              "3    4351\n",
              "9    4188\n",
              "2    4177\n",
              "6    4137\n",
              "0    4132\n",
              "4    4072\n",
              "8    4063\n",
              "5    3795\n",
              "Name: label, dtype: int64"
            ]
          },
          "metadata": {
            "tags": []
          },
          "execution_count": 102
        }
      ]
    },
    {
      "cell_type": "code",
      "metadata": {
        "id": "5flD1gIfrLIe",
        "colab_type": "code",
        "outputId": "ec319c79-f8fd-4124-a305-b12e785f3d1d",
        "colab": {
          "base_uri": "https://localhost:8080/",
          "height": 167
        }
      },
      "source": [
        "# Label Encoding\n",
        "# Convert to one-hot-encoding \n",
        "y_train = to_categorical(y_train, num_classes=10)\n",
        "print(y_train)\n",
        "print(y_train.shape)\n",
        "print(type(y_train))"
      ],
      "execution_count": 0,
      "outputs": [
        {
          "output_type": "stream",
          "text": [
            "[[0. 1. 0. ... 0. 0. 0.]\n",
            " [1. 0. 0. ... 0. 0. 0.]\n",
            " [0. 1. 0. ... 0. 0. 0.]\n",
            " ...\n",
            " [0. 0. 0. ... 1. 0. 0.]\n",
            " [0. 0. 0. ... 0. 0. 0.]\n",
            " [0. 0. 0. ... 0. 0. 1.]]\n",
            "(42000, 10)\n",
            "<class 'numpy.ndarray'>\n"
          ],
          "name": "stdout"
        }
      ]
    },
    {
      "cell_type": "code",
      "metadata": {
        "id": "BrGMgZL3OSP2",
        "colab_type": "code",
        "colab": {}
      },
      "source": [
        "# Split training and valdiation set\n",
        "random_seed = 2\n",
        "\n",
        "# Split the train and the validation set for the fitting\n",
        "# (10%) became the validation set which the model is evaluated and the rest (90%) is used to train the model.\n",
        "X_train, X_val, y_train, y_val = train_test_split(X_train, y_train, test_size = 0.1, random_state=random_seed)"
      ],
      "execution_count": 0,
      "outputs": []
    },
    {
      "cell_type": "code",
      "metadata": {
        "id": "vuBkunkj7qZ3",
        "colab_type": "code",
        "colab": {}
      },
      "source": [
        "# Build Model\n",
        "model = tf.keras.models.Sequential([\n",
        "     tf.keras.layers.Flatten(input_shape=(28, 28, 1)),\n",
        "     tf.keras.layers.Dense(128, activation=tf.nn.relu),\n",
        "     tf.keras.layers.Dense(10, tf.nn.softmax)                             \n",
        "])"
      ],
      "execution_count": 0,
      "outputs": []
    },
    {
      "cell_type": "code",
      "metadata": {
        "id": "vxhAKNtx8nRO",
        "colab_type": "code",
        "colab": {}
      },
      "source": [
        "# Compile the Model\n",
        "model.compile(\n",
        "    optimizer='adam',\n",
        "    loss='sparse_categorical_crossentropy',\n",
        "    metrics=['accuracy']\n",
        ")"
      ],
      "execution_count": 0,
      "outputs": []
    },
    {
      "cell_type": "code",
      "metadata": {
        "id": "qnqlSP_x9S-9",
        "colab_type": "code",
        "outputId": "6a68bd9f-b8ed-4628-f4d1-0154f0968ab3",
        "colab": {
          "base_uri": "https://localhost:8080/",
          "height": 1000
        }
      },
      "source": [
        "model.fit(X_train, y_train, epochs=40)"
      ],
      "execution_count": 0,
      "outputs": [
        {
          "output_type": "stream",
          "text": [
            "Epoch 1/40\n",
            "1182/1182 [==============================] - 2s 2ms/step - loss: 0.1353 - accuracy: 0.9699\n",
            "Epoch 2/40\n",
            "1182/1182 [==============================] - 2s 2ms/step - loss: 0.1365 - accuracy: 0.9672\n",
            "Epoch 3/40\n",
            "1182/1182 [==============================] - 2s 2ms/step - loss: 0.1293 - accuracy: 0.9707\n",
            "Epoch 4/40\n",
            "1182/1182 [==============================] - 2s 2ms/step - loss: 0.1253 - accuracy: 0.9716\n",
            "Epoch 5/40\n",
            "1182/1182 [==============================] - 2s 2ms/step - loss: 0.1170 - accuracy: 0.9725\n",
            "Epoch 6/40\n",
            "1182/1182 [==============================] - 2s 2ms/step - loss: 0.1299 - accuracy: 0.9725\n",
            "Epoch 7/40\n",
            "1182/1182 [==============================] - 2s 2ms/step - loss: 0.1104 - accuracy: 0.9739\n",
            "Epoch 8/40\n",
            "1182/1182 [==============================] - 2s 2ms/step - loss: 0.1298 - accuracy: 0.9726\n",
            "Epoch 9/40\n",
            "1182/1182 [==============================] - 2s 2ms/step - loss: 0.1244 - accuracy: 0.9732\n",
            "Epoch 10/40\n",
            "1182/1182 [==============================] - 2s 2ms/step - loss: 0.1191 - accuracy: 0.9739\n",
            "Epoch 11/40\n",
            "1182/1182 [==============================] - 2s 2ms/step - loss: 0.1208 - accuracy: 0.9749\n",
            "Epoch 12/40\n",
            "1182/1182 [==============================] - 2s 2ms/step - loss: 0.1106 - accuracy: 0.9753\n",
            "Epoch 13/40\n",
            "1182/1182 [==============================] - 2s 2ms/step - loss: 0.1111 - accuracy: 0.9756\n",
            "Epoch 14/40\n",
            "1182/1182 [==============================] - 2s 2ms/step - loss: 0.1180 - accuracy: 0.9751\n",
            "Epoch 15/40\n",
            "1182/1182 [==============================] - 2s 2ms/step - loss: 0.1082 - accuracy: 0.9762\n",
            "Epoch 16/40\n",
            "1182/1182 [==============================] - 2s 2ms/step - loss: 0.1151 - accuracy: 0.9764\n",
            "Epoch 17/40\n",
            "1182/1182 [==============================] - 2s 2ms/step - loss: 0.1052 - accuracy: 0.9771\n",
            "Epoch 18/40\n",
            "1182/1182 [==============================] - 2s 2ms/step - loss: 0.1037 - accuracy: 0.9771\n",
            "Epoch 19/40\n",
            "1182/1182 [==============================] - 2s 2ms/step - loss: 0.1037 - accuracy: 0.9776\n",
            "Epoch 20/40\n",
            "1182/1182 [==============================] - 2s 2ms/step - loss: 0.1108 - accuracy: 0.9770\n",
            "Epoch 21/40\n",
            "1182/1182 [==============================] - 2s 2ms/step - loss: 0.1147 - accuracy: 0.9766\n",
            "Epoch 22/40\n",
            "1182/1182 [==============================] - 2s 2ms/step - loss: 0.0944 - accuracy: 0.9796\n",
            "Epoch 23/40\n",
            "1182/1182 [==============================] - 2s 2ms/step - loss: 0.0995 - accuracy: 0.9786\n",
            "Epoch 24/40\n",
            "1182/1182 [==============================] - 2s 2ms/step - loss: 0.1060 - accuracy: 0.9785\n",
            "Epoch 25/40\n",
            "1182/1182 [==============================] - 2s 2ms/step - loss: 0.0975 - accuracy: 0.9786\n",
            "Epoch 26/40\n",
            "1182/1182 [==============================] - 2s 2ms/step - loss: 0.1170 - accuracy: 0.9781\n",
            "Epoch 27/40\n",
            "1182/1182 [==============================] - 2s 2ms/step - loss: 0.1011 - accuracy: 0.9796\n",
            "Epoch 28/40\n",
            "1182/1182 [==============================] - 2s 2ms/step - loss: 0.1030 - accuracy: 0.9796\n",
            "Epoch 29/40\n",
            "1182/1182 [==============================] - 2s 2ms/step - loss: 0.1036 - accuracy: 0.9794\n",
            "Epoch 30/40\n",
            "1182/1182 [==============================] - 2s 2ms/step - loss: 0.0937 - accuracy: 0.9803\n",
            "Epoch 31/40\n",
            "1182/1182 [==============================] - 2s 2ms/step - loss: 0.0977 - accuracy: 0.9802\n",
            "Epoch 32/40\n",
            "1182/1182 [==============================] - 2s 2ms/step - loss: 0.1088 - accuracy: 0.9784\n",
            "Epoch 33/40\n",
            "1182/1182 [==============================] - 2s 2ms/step - loss: 0.1081 - accuracy: 0.9778\n",
            "Epoch 34/40\n",
            "1182/1182 [==============================] - 2s 2ms/step - loss: 0.0889 - accuracy: 0.9809\n",
            "Epoch 35/40\n",
            "1182/1182 [==============================] - 3s 2ms/step - loss: 0.0943 - accuracy: 0.9810\n",
            "Epoch 36/40\n",
            "1182/1182 [==============================] - 2s 2ms/step - loss: 0.0849 - accuracy: 0.9807\n",
            "Epoch 37/40\n",
            "1182/1182 [==============================] - 2s 2ms/step - loss: 0.0961 - accuracy: 0.9796\n",
            "Epoch 38/40\n",
            "1182/1182 [==============================] - 2s 2ms/step - loss: 0.1126 - accuracy: 0.9801\n",
            "Epoch 39/40\n",
            "1182/1182 [==============================] - 2s 2ms/step - loss: 0.0997 - accuracy: 0.9815\n",
            "Epoch 40/40\n",
            "1182/1182 [==============================] - 2s 2ms/step - loss: 0.0969 - accuracy: 0.9809\n"
          ],
          "name": "stdout"
        },
        {
          "output_type": "execute_result",
          "data": {
            "text/plain": [
              "<tensorflow.python.keras.callbacks.History at 0x7fc5798b81d0>"
            ]
          },
          "metadata": {
            "tags": []
          },
          "execution_count": 107
        }
      ]
    },
    {
      "cell_type": "code",
      "metadata": {
        "id": "NN-2m2scPAFl",
        "colab_type": "code",
        "outputId": "40c1c295-00ac-477b-d56c-2e32051362df",
        "colab": {
          "base_uri": "https://localhost:8080/",
          "height": 265
        }
      },
      "source": [
        "X_train = X_train.reshape(-1,28,28,1)\n",
        "g = plt.imshow(X_train[0][:,:,0])"
      ],
      "execution_count": 0,
      "outputs": [
        {
          "output_type": "display_data",
          "data": {
            "image/png": "[encoded data removed]",
            "text/plain": [
              "<Figure size 432x288 with 1 Axes>"
            ]
          },
          "metadata": {
            "tags": [],
            "needs_background": "light"
          }
        }
      ]
    }
  ]
}