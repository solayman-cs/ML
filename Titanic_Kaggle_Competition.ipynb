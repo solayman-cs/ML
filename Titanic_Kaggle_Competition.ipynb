{
  "nbformat": 4,
  "nbformat_minor": 0,
  "metadata": {
    "colab": {
      "name": "Titanic_Kaggle_Competition.ipynb",
      "provenance": [],
      "collapsed_sections": [],
      "authorship_tag": "ABX9TyPagR4btvfElsQyqdpiBgZq",
      "include_colab_link": true
    },
    "kernelspec": {
      "name": "python3",
      "display_name": "Python 3"
    }
  },
  "cells": [
    {
      "cell_type": "markdown",
      "metadata": {
        "id": "view-in-github",
        "colab_type": "text"
      },
      "source": [
        "<a href=\"https://colab.research.google.com/github/solayman-cs/ML/blob/master/Titanic_Kaggle_Competition.ipynb\" target=\"_parent\"><img src=\"https://colab.research.google.com/assets/colab-badge.svg\" alt=\"Open In Colab\"/></a>"
      ]
    },
    {
      "cell_type": "code",
      "metadata": {
        "id": "-IiwgEEgCODi",
        "colab_type": "code",
        "colab": {}
      },
      "source": [
        "# data analysis and wrangling\n",
        "import numpy as np\n",
        "import pandas as pd\n",
        "import tensorflow as tf\n",
        "\n",
        "# visualization\n",
        "import seaborn as sns\n",
        "import missingno as msno\n",
        "import matplotlib.pyplot as plt\n",
        "%matplotlib inline\n",
        "\n",
        "plt.style.use('fivethirtyeight')\n",
        "import warnings\n",
        "warnings.filterwarnings('ignore')\n",
        "\n",
        "# machine learning\n",
        "from sklearn.model_selection import train_test_split\n",
        "from keras.utils.np_utils import to_categorical"
      ],
      "execution_count": 0,
      "outputs": []
    },
    {
      "cell_type": "markdown",
      "metadata": {
        "id": "1B5K0E1wad_B",
        "colab_type": "text"
      },
      "source": [
        "**History**\n",
        "\n",
        "\n",
        "RMS Titanic was a British passenger liner operated by the White Star Line that sank in the North Atlantic Ocean in the early morning hours of 15 April 1912, after striking an iceberg during her maiden voyage from Southampton to New York City. Of the estimated 2,224 passengers and crew aboard, more than 1,500 died, making the sinking one of modern history's deadliest peacetime commercial marine disasters. RMS Titanic was the largest ship afloat at the time she entered service and was the second of three Olympic-class ocean liners operated by the White Star Line. She was built by the Harland and Wolff shipyard in Belfast"
      ]
    },
    {
      "cell_type": "markdown",
      "metadata": {
        "id": "W8RmlOxf7bon",
        "colab_type": "text"
      },
      "source": [
        "survival:    Survival \n",
        "PassengerId: Unique Id of a passenger. \n",
        "pclass:    Ticket class     \n",
        "sex:    Sex     \n",
        "Age:    Age in years     \n",
        "sibsp:    # of siblings / spouses aboard the Titanic     \n",
        "parch:    # of parents / children aboard the Titanic     \n",
        "ticket:    Ticket number     \n",
        "fare:    Passenger fare     \n",
        "cabin:    Cabin number     \n",
        "embarked:    Port of Embarkation"
      ]
    },
    {
      "cell_type": "markdown",
      "metadata": {
        "id": "mJ7-_sefIadq",
        "colab_type": "text"
      },
      "source": [
        "**Categorical Variables**\n",
        "Example: Gender(Male, Female)\n",
        "*Two type of Categorical Varable*\n",
        "**Ordinal & Nominal >> Ordinal is care about rank, Exaple Degree >> Nominal is not care about Nominal, it is not based on rank.** A categorical or discrete variable is one that has two or more categories (values).  There are two types of categorical variable, nominal and ordinal.  A nominal variable has no intrinsic ordering to its categories. For example, gender is a categorical variable having two categories (male and female) with no intrinsic ordering to the categories. An ordinal variable has a clear ordering. For example, temperature as a variable with three orderly categories (low, medium and high). A frequency table is a way of counting how often each category of the variable in question occurs. It may be enhanced by the addition of percentages that fall into each category."
      ]
    },
    {
      "cell_type": "markdown",
      "metadata": {
        "id": "B5Y90hND0vOM",
        "colab_type": "text"
      },
      "source": [
        "**Which features are categorical?**\n",
        "\n",
        "These values classify the samples into sets of similar samples. Within categorical features are the values nominal, ordinal, ratio, or interval based? Among other things this helps us select the appropriate plots for visualization.\n",
        "\n",
        "Categorical: Survived, Sex, and Embarked. Ordinal: Pclass.\n",
        "\n",
        "**Which features are numerical?**\n",
        "\n",
        "These values change from sample to sample. Within numerical features are the values discrete, continuous, or timeseries based? Among other things this helps us select the appropriate plots for visualization.\n",
        "\n",
        "Continous: Age, Fare. Discrete: SibSp, Parch.\n",
        "\n",
        "**Which features are mixed data types?**\n",
        "\n",
        "Numerical, alphanumeric data within same feature. These are candidates for correcting goal.\n",
        "\n",
        "Ticket is a mix of numeric and alphanumeric data types. Cabin is alphanumeric."
      ]
    },
    {
      "cell_type": "markdown",
      "metadata": {
        "id": "yna-aY7NOfEL",
        "colab_type": "text"
      },
      "source": [
        "**The 4 C's of Data Cleaning: Correcting, Completing, Creating, and Converting**\n",
        "\n",
        "In this stage, we will clean our data by 1) correcting aberrant values and outliers, 2) completing missing information, 3) creating new features for analysis, and 4) converting fields to the correct format for calculations and presentation.\n",
        "\n",
        "**Correcting:** Reviewing the data, there does not appear to be any aberrant or non-acceptable data inputs. In addition, we see we may have potential outliers in age and fare. However, since they are reasonable values, we will wait until after we complete our exploratory analysis to determine if we should include or exclude from the dataset. It should be noted, that if they were unreasonable values, for example age = 800 instead of 80, then it's probably a safe decision to fix now. However, we want to use caution when we modify data from its original value, because it may be necessary to create an accurate model.We may also analyze the given training dataset for errors or possibly innacurate values within features and try to corrent these values or exclude the samples containing the errors. One way to do this is to detect any outliers among our samples or features. We may also completely discard a feature if it is not contribting to the analysis or may significantly skew the results.We may also analyze the given training dataset for errors or possibly innacurate values within features and try to corrent these values or exclude the samples containing the errors. One way to do this is to detect any outliers among our samples or features. We may also completely discard a feature if it is not contribting to the analysis or may significantly skew the results.\n",
        "**Completing:** There are null values or missing data in the age, cabin, and embarked field. Missing values can be bad, because some algorithms don't know how-to handle null values and will fail. While others, like decision trees, can handle null values. Thus, it's important to fix before we start modeling, because we will compare and contrast several models. There are two common methods, either delete the record or populate the missing value using a reasonable input. It is not recommended to delete the record, especially a large percentage of records, unless it truly represents an incomplete record. Instead, it's best to impute missing values. A basic methodology for qualitative data is impute using mode. A basic methodology for quantitative data is impute using mean, median, or mean + randomized standard deviation. An intermediate methodology is to use the basic methodology based on specific criteria; like the average age by class or embark port by fare and SES. There are more complex methodologies, however before deploying, it should be compared to the base model to determine if complexity truly adds value. For this dataset, age will be imputed with the median, the cabin attribute will be dropped, and embark will be imputed with mode. Subsequent model iterations may modify this decision to determine if it improves the model’s accuracy.Data preparation may also require us to estimate any missing values within a feature. Model algorithms may work best when there are no missing values.\n",
        "**Creating:** Feature engineering is when we use existing features to create new features to determine if they provide new signals to predict our outcome. For this dataset, we will create a title feature to determine if it played a role in survival.  Can we create new features based on an existing feature or a set of features, such that the new feature follows the correlation, conversion, completeness goals.\n",
        "**Converting:** Last, but certainly not least, we'll deal with formatting. There are no date or currency formats, but datatype formats. Our categorical data imported as objects, which makes it difficult for mathematical calculations. For this dataset, we will convert object datatypes to categorical dummy variables. For modeling stage, one needs to prepare the data. Depending on the choice of model algorithm one may require all features to be converted to numerical equivalent values. So for instance converting text categorical values to numeric values."
      ]
    },
    {
      "cell_type": "markdown",
      "metadata": {
        "id": "iO01uu0HYyWf",
        "colab_type": "text"
      },
      "source": [
        "Assumtions based on data analysis\n",
        "We arrive at following assumptions based on data analysis done so far. We may validate these assumptions further before taking appropriate actions.\n",
        "\n",
        "**Correlating.**\n",
        "\n",
        "We want to know how well does each feature correlate with Survival. We want to do this early in our project and match these quick correlations with modelled correlations later in the project.\n",
        "\n",
        "**Completing.**\n",
        "\n",
        "We may want to complete Age feature as it is definitely correlated to survival.\n",
        "We may want to complete the Embarked feature as it may also correlate with survival or another important feature.\n",
        "\n",
        "**Correcting.**\n",
        "\n",
        "Ticket feature may be dropped from our analysis as it contains high ratio of duplicates (22%) and there may not be a correlation between Ticket and survival.\n",
        "Cabin feature may be dropped as it is highly incomplete or contains many null values both in training and test dataset.\n",
        "PassengerId may be dropped from training dataset as it does not contribute to survival.\n",
        "Name feature is relatively non-standard, may not contribute directly to survival, so maybe dropped.\n",
        "\n",
        "**Creating.**\n",
        "\n",
        "We may want to create a new feature called Family based on Parch and SibSp to get total count of family members on board.\n",
        "We may want to engineer the Name feature to extract Title as a new feature.\n",
        "We may want to create new feature for Age bands. This turns a continous numerical feature into an ordinal categorical feature.\n",
        "We may also want to create a Fare range feature if it helps our analysis.\n",
        "\n",
        "**Classifying.**\n",
        "\n",
        "We may also add to our assumptions based on the problem description noted earlier.\n",
        "\n",
        "Women (Sex=female) were more likely to have survived.\n",
        "Children (Age<?) were more likely to have survived.\n",
        "The upper-class passengers (Pclass=1) were more likely to have survived."
      ]
    },
    {
      "cell_type": "markdown",
      "metadata": {
        "id": "0e3hiZqDS2HB",
        "colab_type": "text"
      },
      "source": [
        "**Correlating:** Correlation (co-relation) refers to the degree of relationship (or dependency) between two variables. One can approach the problem based on available features within the training dataset. Which features within the dataset contribute significantly to our solution goal? Statistically speaking is there a correlation among a feature and solution goal? As the feature values change does the solution state change as well, and visa-versa? This can be tested both for numerical and categorical features in the given dataset. We may also want to determine correlation among features other than survival for subsequent goals and workflow stages. Correlating certain features may help in creating, completing, or correcting features."
      ]
    },
    {
      "cell_type": "code",
      "metadata": {
        "id": "3tpM2BxgDIBY",
        "colab_type": "code",
        "outputId": "0f99b025-010c-4be2-aff2-72ffab6127a0",
        "colab": {
          "base_uri": "https://localhost:8080/",
          "height": 120
        }
      },
      "source": [
        "from google.colab import drive\n",
        "drive.mount('/content/drive')"
      ],
      "execution_count": 2,
      "outputs": [
        {
          "output_type": "stream",
          "text": [
            "Go to this URL in a browser: https://accounts.google.com/o/oauth2/auth?client_id=947318989803-6bn6qk8qdgf4n4g3pfee6491hc0brc4i.apps.googleusercontent.com&redirect_uri=urn%3aietf%3awg%3aoauth%3a2.0%3aoob&response_type=code&scope=email%20https%3a%2f%2fwww.googleapis.com%2fauth%2fdocs.test%20https%3a%2f%2fwww.googleapis.com%2fauth%2fdrive%20https%3a%2f%2fwww.googleapis.com%2fauth%2fdrive.photos.readonly%20https%3a%2f%2fwww.googleapis.com%2fauth%2fpeopleapi.readonly\n",
            "\n",
            "Enter your authorization code:\n",
            "··········\n",
            "Mounted at /content/drive\n"
          ],
          "name": "stdout"
        }
      ]
    },
    {
      "cell_type": "code",
      "metadata": {
        "id": "RvwgsRlSDVTd",
        "colab_type": "code",
        "outputId": "f0553558-2ad8-4258-810b-6f6e92d5ff70",
        "colab": {
          "base_uri": "https://localhost:8080/",
          "height": 33
        }
      },
      "source": [
        "cd /content/drive/My Drive/DPP_Prac"
      ],
      "execution_count": 3,
      "outputs": [
        {
          "output_type": "stream",
          "text": [
            "/content/drive/My Drive/DPP_Prac\n"
          ],
          "name": "stdout"
        }
      ]
    },
    {
      "cell_type": "markdown",
      "metadata": {
        "id": "eV6zXwn8VlP8",
        "colab_type": "text"
      },
      "source": [
        "**Acquire data**"
      ]
    },
    {
      "cell_type": "code",
      "metadata": {
        "id": "VUPehG0FDbr1",
        "colab_type": "code",
        "outputId": "9500e50d-614c-4cc6-d0e8-921db803f592",
        "colab": {
          "base_uri": "https://localhost:8080/",
          "height": 50
        }
      },
      "source": [
        "train = pd.read_csv('titanic_train.csv')\n",
        "test = pd.read_csv('titanic_test.csv')\n",
        "\n",
        "print(train.shape)\n",
        "print(test.shape)"
      ],
      "execution_count": 5,
      "outputs": [
        {
          "output_type": "stream",
          "text": [
            "(891, 12)\n",
            "(418, 11)\n"
          ],
          "name": "stdout"
        }
      ]
    },
    {
      "cell_type": "code",
      "metadata": {
        "id": "CReBNgIH5dV-",
        "colab_type": "code",
        "outputId": "e2bad6c4-be9f-4e67-9c5b-7c645e3f894a",
        "colab": {
          "base_uri": "https://localhost:8080/",
          "height": 33
        }
      },
      "source": [
        "data_size_train = train.memory_usage().sum() / 1024 / 1024\n",
        "print(\"Data memory size: %.2f MB\" % data_size_train)"
      ],
      "execution_count": 6,
      "outputs": [
        {
          "output_type": "stream",
          "text": [
            "Data memory size: 0.08 MB\n"
          ],
          "name": "stdout"
        }
      ]
    },
    {
      "cell_type": "markdown",
      "metadata": {
        "id": "nvVJ7JM0OezX",
        "colab_type": "text"
      },
      "source": [
        "**Dataset Details**"
      ]
    },
    {
      "cell_type": "code",
      "metadata": {
        "id": "riokOkhzEaWI",
        "colab_type": "code",
        "outputId": "838ffd24-b0e9-4fb4-ba8e-e4187f924ae6",
        "colab": {
          "base_uri": "https://localhost:8080/",
          "height": 196
        }
      },
      "source": [
        "train.head(5)"
      ],
      "execution_count": 0,
      "outputs": [
        {
          "output_type": "execute_result",
          "data": {
            "text/html": [
              "<div>\n",
              "<style scoped>\n",
              "    .dataframe tbody tr th:only-of-type {\n",
              "        vertical-align: middle;\n",
              "    }\n",
              "\n",
              "    .dataframe tbody tr th {\n",
              "        vertical-align: top;\n",
              "    }\n",
              "\n",
              "    .dataframe thead th {\n",
              "        text-align: right;\n",
              "    }\n",
              "</style>\n",
              "<table border=\"1\" class=\"dataframe\">\n",
              "  <thead>\n",
              "    <tr style=\"text-align: right;\">\n",
              "      <th></th>\n",
              "      <th>PassengerId</th>\n",
              "      <th>Survived</th>\n",
              "      <th>Pclass</th>\n",
              "      <th>Name</th>\n",
              "      <th>Sex</th>\n",
              "      <th>Age</th>\n",
              "      <th>SibSp</th>\n",
              "      <th>Parch</th>\n",
              "      <th>Ticket</th>\n",
              "      <th>Fare</th>\n",
              "      <th>Cabin</th>\n",
              "      <th>Embarked</th>\n",
              "    </tr>\n",
              "  </thead>\n",
              "  <tbody>\n",
              "    <tr>\n",
              "      <th>0</th>\n",
              "      <td>1</td>\n",
              "      <td>0</td>\n",
              "      <td>3</td>\n",
              "      <td>Braund, Mr. Owen Harris</td>\n",
              "      <td>male</td>\n",
              "      <td>22.0</td>\n",
              "      <td>1</td>\n",
              "      <td>0</td>\n",
              "      <td>A/5 21171</td>\n",
              "      <td>7.2500</td>\n",
              "      <td>NaN</td>\n",
              "      <td>S</td>\n",
              "    </tr>\n",
              "    <tr>\n",
              "      <th>1</th>\n",
              "      <td>2</td>\n",
              "      <td>1</td>\n",
              "      <td>1</td>\n",
              "      <td>Cumings, Mrs. John Bradley (Florence Briggs Th...</td>\n",
              "      <td>female</td>\n",
              "      <td>38.0</td>\n",
              "      <td>1</td>\n",
              "      <td>0</td>\n",
              "      <td>PC 17599</td>\n",
              "      <td>71.2833</td>\n",
              "      <td>C85</td>\n",
              "      <td>C</td>\n",
              "    </tr>\n",
              "    <tr>\n",
              "      <th>2</th>\n",
              "      <td>3</td>\n",
              "      <td>1</td>\n",
              "      <td>3</td>\n",
              "      <td>Heikkinen, Miss. Laina</td>\n",
              "      <td>female</td>\n",
              "      <td>26.0</td>\n",
              "      <td>0</td>\n",
              "      <td>0</td>\n",
              "      <td>STON/O2. 3101282</td>\n",
              "      <td>7.9250</td>\n",
              "      <td>NaN</td>\n",
              "      <td>S</td>\n",
              "    </tr>\n",
              "    <tr>\n",
              "      <th>3</th>\n",
              "      <td>4</td>\n",
              "      <td>1</td>\n",
              "      <td>1</td>\n",
              "      <td>Futrelle, Mrs. Jacques Heath (Lily May Peel)</td>\n",
              "      <td>female</td>\n",
              "      <td>35.0</td>\n",
              "      <td>1</td>\n",
              "      <td>0</td>\n",
              "      <td>113803</td>\n",
              "      <td>53.1000</td>\n",
              "      <td>C123</td>\n",
              "      <td>S</td>\n",
              "    </tr>\n",
              "    <tr>\n",
              "      <th>4</th>\n",
              "      <td>5</td>\n",
              "      <td>0</td>\n",
              "      <td>3</td>\n",
              "      <td>Allen, Mr. William Henry</td>\n",
              "      <td>male</td>\n",
              "      <td>35.0</td>\n",
              "      <td>0</td>\n",
              "      <td>0</td>\n",
              "      <td>373450</td>\n",
              "      <td>8.0500</td>\n",
              "      <td>NaN</td>\n",
              "      <td>S</td>\n",
              "    </tr>\n",
              "  </tbody>\n",
              "</table>\n",
              "</div>"
            ],
            "text/plain": [
              "   PassengerId  Survived  Pclass  ...     Fare Cabin  Embarked\n",
              "0            1         0       3  ...   7.2500   NaN         S\n",
              "1            2         1       1  ...  71.2833   C85         C\n",
              "2            3         1       3  ...   7.9250   NaN         S\n",
              "3            4         1       1  ...  53.1000  C123         S\n",
              "4            5         0       3  ...   8.0500   NaN         S\n",
              "\n",
              "[5 rows x 12 columns]"
            ]
          },
          "metadata": {
            "tags": []
          },
          "execution_count": 7
        }
      ]
    },
    {
      "cell_type": "code",
      "metadata": {
        "id": "HU2exkwe0aLP",
        "colab_type": "code",
        "outputId": "2510e4b6-3079-4499-d652-4be2e652c4d5",
        "colab": {
          "base_uri": "https://localhost:8080/",
          "height": 137
        }
      },
      "source": [
        "train.tail(3)"
      ],
      "execution_count": 0,
      "outputs": [
        {
          "output_type": "execute_result",
          "data": {
            "text/html": [
              "<div>\n",
              "<style scoped>\n",
              "    .dataframe tbody tr th:only-of-type {\n",
              "        vertical-align: middle;\n",
              "    }\n",
              "\n",
              "    .dataframe tbody tr th {\n",
              "        vertical-align: top;\n",
              "    }\n",
              "\n",
              "    .dataframe thead th {\n",
              "        text-align: right;\n",
              "    }\n",
              "</style>\n",
              "<table border=\"1\" class=\"dataframe\">\n",
              "  <thead>\n",
              "    <tr style=\"text-align: right;\">\n",
              "      <th></th>\n",
              "      <th>PassengerId</th>\n",
              "      <th>Survived</th>\n",
              "      <th>Pclass</th>\n",
              "      <th>Name</th>\n",
              "      <th>Sex</th>\n",
              "      <th>Age</th>\n",
              "      <th>SibSp</th>\n",
              "      <th>Parch</th>\n",
              "      <th>Ticket</th>\n",
              "      <th>Fare</th>\n",
              "      <th>Cabin</th>\n",
              "      <th>Embarked</th>\n",
              "    </tr>\n",
              "  </thead>\n",
              "  <tbody>\n",
              "    <tr>\n",
              "      <th>888</th>\n",
              "      <td>889</td>\n",
              "      <td>0</td>\n",
              "      <td>3</td>\n",
              "      <td>Johnston, Miss. Catherine Helen \"Carrie\"</td>\n",
              "      <td>female</td>\n",
              "      <td>NaN</td>\n",
              "      <td>1</td>\n",
              "      <td>2</td>\n",
              "      <td>W./C. 6607</td>\n",
              "      <td>23.45</td>\n",
              "      <td>NaN</td>\n",
              "      <td>S</td>\n",
              "    </tr>\n",
              "    <tr>\n",
              "      <th>889</th>\n",
              "      <td>890</td>\n",
              "      <td>1</td>\n",
              "      <td>1</td>\n",
              "      <td>Behr, Mr. Karl Howell</td>\n",
              "      <td>male</td>\n",
              "      <td>26.0</td>\n",
              "      <td>0</td>\n",
              "      <td>0</td>\n",
              "      <td>111369</td>\n",
              "      <td>30.00</td>\n",
              "      <td>C148</td>\n",
              "      <td>C</td>\n",
              "    </tr>\n",
              "    <tr>\n",
              "      <th>890</th>\n",
              "      <td>891</td>\n",
              "      <td>0</td>\n",
              "      <td>3</td>\n",
              "      <td>Dooley, Mr. Patrick</td>\n",
              "      <td>male</td>\n",
              "      <td>32.0</td>\n",
              "      <td>0</td>\n",
              "      <td>0</td>\n",
              "      <td>370376</td>\n",
              "      <td>7.75</td>\n",
              "      <td>NaN</td>\n",
              "      <td>Q</td>\n",
              "    </tr>\n",
              "  </tbody>\n",
              "</table>\n",
              "</div>"
            ],
            "text/plain": [
              "     PassengerId  Survived  Pclass  ...   Fare Cabin  Embarked\n",
              "888          889         0       3  ...  23.45   NaN         S\n",
              "889          890         1       1  ...  30.00  C148         C\n",
              "890          891         0       3  ...   7.75   NaN         Q\n",
              "\n",
              "[3 rows x 12 columns]"
            ]
          },
          "metadata": {
            "tags": []
          },
          "execution_count": 8
        }
      ]
    },
    {
      "cell_type": "code",
      "metadata": {
        "id": "K4w8-a6zHO6p",
        "colab_type": "code",
        "outputId": "a7a04410-21db-4fb7-a3d0-9d7b7e548483",
        "colab": {
          "base_uri": "https://localhost:8080/",
          "height": 137
        }
      },
      "source": [
        "train.sample(3)"
      ],
      "execution_count": 0,
      "outputs": [
        {
          "output_type": "execute_result",
          "data": {
            "text/html": [
              "<div>\n",
              "<style scoped>\n",
              "    .dataframe tbody tr th:only-of-type {\n",
              "        vertical-align: middle;\n",
              "    }\n",
              "\n",
              "    .dataframe tbody tr th {\n",
              "        vertical-align: top;\n",
              "    }\n",
              "\n",
              "    .dataframe thead th {\n",
              "        text-align: right;\n",
              "    }\n",
              "</style>\n",
              "<table border=\"1\" class=\"dataframe\">\n",
              "  <thead>\n",
              "    <tr style=\"text-align: right;\">\n",
              "      <th></th>\n",
              "      <th>PassengerId</th>\n",
              "      <th>Survived</th>\n",
              "      <th>Pclass</th>\n",
              "      <th>Name</th>\n",
              "      <th>Sex</th>\n",
              "      <th>Age</th>\n",
              "      <th>SibSp</th>\n",
              "      <th>Parch</th>\n",
              "      <th>Ticket</th>\n",
              "      <th>Fare</th>\n",
              "      <th>Cabin</th>\n",
              "      <th>Embarked</th>\n",
              "    </tr>\n",
              "  </thead>\n",
              "  <tbody>\n",
              "    <tr>\n",
              "      <th>357</th>\n",
              "      <td>358</td>\n",
              "      <td>0</td>\n",
              "      <td>2</td>\n",
              "      <td>Funk, Miss. Annie Clemmer</td>\n",
              "      <td>female</td>\n",
              "      <td>38.0</td>\n",
              "      <td>0</td>\n",
              "      <td>0</td>\n",
              "      <td>237671</td>\n",
              "      <td>13.0000</td>\n",
              "      <td>NaN</td>\n",
              "      <td>S</td>\n",
              "    </tr>\n",
              "    <tr>\n",
              "      <th>627</th>\n",
              "      <td>628</td>\n",
              "      <td>1</td>\n",
              "      <td>1</td>\n",
              "      <td>Longley, Miss. Gretchen Fiske</td>\n",
              "      <td>female</td>\n",
              "      <td>21.0</td>\n",
              "      <td>0</td>\n",
              "      <td>0</td>\n",
              "      <td>13502</td>\n",
              "      <td>77.9583</td>\n",
              "      <td>D9</td>\n",
              "      <td>S</td>\n",
              "    </tr>\n",
              "    <tr>\n",
              "      <th>127</th>\n",
              "      <td>128</td>\n",
              "      <td>1</td>\n",
              "      <td>3</td>\n",
              "      <td>Madsen, Mr. Fridtjof Arne</td>\n",
              "      <td>male</td>\n",
              "      <td>24.0</td>\n",
              "      <td>0</td>\n",
              "      <td>0</td>\n",
              "      <td>C 17369</td>\n",
              "      <td>7.1417</td>\n",
              "      <td>NaN</td>\n",
              "      <td>S</td>\n",
              "    </tr>\n",
              "  </tbody>\n",
              "</table>\n",
              "</div>"
            ],
            "text/plain": [
              "     PassengerId  Survived  Pclass  ...     Fare Cabin  Embarked\n",
              "357          358         0       2  ...  13.0000   NaN         S\n",
              "627          628         1       1  ...  77.9583    D9         S\n",
              "127          128         1       3  ...   7.1417   NaN         S\n",
              "\n",
              "[3 rows x 12 columns]"
            ]
          },
          "metadata": {
            "tags": []
          },
          "execution_count": 9
        }
      ]
    },
    {
      "cell_type": "code",
      "metadata": {
        "id": "hncSmiUFx0eP",
        "colab_type": "code",
        "outputId": "bfae2053-b827-4782-8b9b-859346cfc047",
        "colab": {
          "base_uri": "https://localhost:8080/",
          "height": 67
        }
      },
      "source": [
        "train.columns"
      ],
      "execution_count": 0,
      "outputs": [
        {
          "output_type": "execute_result",
          "data": {
            "text/plain": [
              "Index(['PassengerId', 'Survived', 'Pclass', 'Name', 'Sex', 'Age', 'SibSp',\n",
              "       'Parch', 'Ticket', 'Fare', 'Cabin', 'Embarked'],\n",
              "      dtype='object')"
            ]
          },
          "metadata": {
            "tags": []
          },
          "execution_count": 10
        }
      ]
    },
    {
      "cell_type": "code",
      "metadata": {
        "id": "343cftZKctN_",
        "colab_type": "code",
        "outputId": "e478004e-e2f4-42d0-af69-bb9fa584faa2",
        "colab": {
          "base_uri": "https://localhost:8080/",
          "height": 50
        }
      },
      "source": [
        "# The features are available in the dataset\n",
        "train.columns.values"
      ],
      "execution_count": 0,
      "outputs": [
        {
          "output_type": "execute_result",
          "data": {
            "text/plain": [
              "array(['PassengerId', 'Survived', 'Pclass', 'Name', 'Sex', 'Age', 'SibSp',\n",
              "       'Parch', 'Ticket', 'Fare', 'Cabin', 'Embarked'], dtype=object)"
            ]
          },
          "metadata": {
            "tags": []
          },
          "execution_count": 11
        }
      ]
    },
    {
      "cell_type": "code",
      "metadata": {
        "id": "uotmTrzPcw_6",
        "colab_type": "code",
        "colab": {
          "base_uri": "https://localhost:8080/",
          "height": 334
        },
        "outputId": "d073f330-b244-4ea0-8a2d-e7a39ae4b4c4"
      },
      "source": [
        "train.info()"
      ],
      "execution_count": 20,
      "outputs": [
        {
          "output_type": "stream",
          "text": [
            "<class 'pandas.core.frame.DataFrame'>\n",
            "RangeIndex: 891 entries, 0 to 890\n",
            "Data columns (total 12 columns):\n",
            " #   Column       Non-Null Count  Dtype  \n",
            "---  ------       --------------  -----  \n",
            " 0   PassengerId  891 non-null    int64  \n",
            " 1   Survived     891 non-null    int64  \n",
            " 2   Pclass       891 non-null    int64  \n",
            " 3   Name         891 non-null    object \n",
            " 4   Sex          891 non-null    object \n",
            " 5   Age          714 non-null    float64\n",
            " 6   SibSp        891 non-null    int64  \n",
            " 7   Parch        891 non-null    int64  \n",
            " 8   Ticket       891 non-null    object \n",
            " 9   Fare         891 non-null    float64\n",
            " 10  Cabin        204 non-null    object \n",
            " 11  Embarked     889 non-null    object \n",
            "dtypes: float64(2), int64(5), object(5)\n",
            "memory usage: 83.7+ KB\n"
          ],
          "name": "stdout"
        }
      ]
    },
    {
      "cell_type": "markdown",
      "metadata": {
        "id": "1JNEEhiPcn28",
        "colab_type": "text"
      },
      "source": [
        "**Missing Values**"
      ]
    },
    {
      "cell_type": "code",
      "metadata": {
        "id": "zbRVHWrcE5Kg",
        "colab_type": "code",
        "outputId": "2ba8efbe-ffb4-4d0b-a85c-45961a50e603",
        "colab": {
          "base_uri": "https://localhost:8080/",
          "height": 485
        }
      },
      "source": [
        "print('Train columns with null values:\\n', train.isnull().sum())\n",
        "print('_'*30)\n",
        "print('Test columns with null values:\\n', test.isnull().sum())"
      ],
      "execution_count": 0,
      "outputs": [
        {
          "output_type": "stream",
          "text": [
            "Train columns with null values:\n",
            " PassengerId      0\n",
            "Survived         0\n",
            "Pclass           0\n",
            "Name             0\n",
            "Sex              0\n",
            "Age            177\n",
            "SibSp            0\n",
            "Parch            0\n",
            "Ticket           0\n",
            "Fare             0\n",
            "Cabin          687\n",
            "Embarked         2\n",
            "dtype: int64\n",
            "______________________________\n",
            "Test columns with null values:\n",
            " PassengerId      0\n",
            "Pclass           0\n",
            "Name             0\n",
            "Sex              0\n",
            "Age             86\n",
            "SibSp            0\n",
            "Parch            0\n",
            "Ticket           0\n",
            "Fare             1\n",
            "Cabin          327\n",
            "Embarked         0\n",
            "dtype: int64\n"
          ],
          "name": "stdout"
        }
      ]
    },
    {
      "cell_type": "code",
      "metadata": {
        "id": "HMD_NQprdBE_",
        "colab_type": "code",
        "colab": {
          "base_uri": "https://localhost:8080/",
          "height": 196
        },
        "outputId": "42eede41-66f9-4e7f-dc4c-e7495f133903"
      },
      "source": [
        "total_missing_values = train.isnull().sum().sort_values(ascending=False)\n",
        "percent_1 = train.isnull().sum()/train.isnull().count()*100\n",
        "percent_2 = (round(percent_1, 1)).sort_values(ascending=False)\n",
        "missing_data = pd.concat([total_missing_values, percent_2], axis=1, keys=['Total_missing_values', '%'])\n",
        "missing_data.head(5)"
      ],
      "execution_count": 21,
      "outputs": [
        {
          "output_type": "execute_result",
          "data": {
            "text/html": [
              "<div>\n",
              "<style scoped>\n",
              "    .dataframe tbody tr th:only-of-type {\n",
              "        vertical-align: middle;\n",
              "    }\n",
              "\n",
              "    .dataframe tbody tr th {\n",
              "        vertical-align: top;\n",
              "    }\n",
              "\n",
              "    .dataframe thead th {\n",
              "        text-align: right;\n",
              "    }\n",
              "</style>\n",
              "<table border=\"1\" class=\"dataframe\">\n",
              "  <thead>\n",
              "    <tr style=\"text-align: right;\">\n",
              "      <th></th>\n",
              "      <th>Total_missing_values</th>\n",
              "      <th>%</th>\n",
              "    </tr>\n",
              "  </thead>\n",
              "  <tbody>\n",
              "    <tr>\n",
              "      <th>Cabin</th>\n",
              "      <td>687</td>\n",
              "      <td>77.1</td>\n",
              "    </tr>\n",
              "    <tr>\n",
              "      <th>Age</th>\n",
              "      <td>177</td>\n",
              "      <td>19.9</td>\n",
              "    </tr>\n",
              "    <tr>\n",
              "      <th>Embarked</th>\n",
              "      <td>2</td>\n",
              "      <td>0.2</td>\n",
              "    </tr>\n",
              "    <tr>\n",
              "      <th>Fare</th>\n",
              "      <td>0</td>\n",
              "      <td>0.0</td>\n",
              "    </tr>\n",
              "    <tr>\n",
              "      <th>Ticket</th>\n",
              "      <td>0</td>\n",
              "      <td>0.0</td>\n",
              "    </tr>\n",
              "  </tbody>\n",
              "</table>\n",
              "</div>"
            ],
            "text/plain": [
              "          Total_missing_values     %\n",
              "Cabin                      687  77.1\n",
              "Age                        177  19.9\n",
              "Embarked                     2   0.2\n",
              "Fare                         0   0.0\n",
              "Ticket                       0   0.0"
            ]
          },
          "metadata": {
            "tags": []
          },
          "execution_count": 21
        }
      ]
    },
    {
      "cell_type": "markdown",
      "metadata": {
        "id": "Mp-cSGk2d2BA",
        "colab_type": "text"
      },
      "source": [
        "The bar chart above gives a quick graphical overview of the completeness of the dataset. We can see that Age, Cabin and embarked columns have missing values."
      ]
    },
    {
      "cell_type": "code",
      "metadata": {
        "id": "7H3BwOrhdJwa",
        "colab_type": "code",
        "colab": {
          "base_uri": "https://localhost:8080/",
          "height": 457
        },
        "outputId": "dd3726b9-c1ea-4eeb-f18f-12d76dcc5aa7"
      },
      "source": [
        "msno.bar(train, figsize = (10,5))"
      ],
      "execution_count": 22,
      "outputs": [
        {
          "output_type": "execute_result",
          "data": {
            "text/plain": [
              "<matplotlib.axes._subplots.AxesSubplot at 0x7f3e89c76550>"
            ]
          },
          "metadata": {
            "tags": []
          },
          "execution_count": 22
        },
        {
          "output_type": "display_data",
          "data": {
            "image/png": "[encoded data removed]",
            "text/plain": [
              "<Figure size 720x360 with 3 Axes>"
            ]
          },
          "metadata": {
            "tags": []
          }
        }
      ]
    },
    {
      "cell_type": "code",
      "metadata": {
        "id": "tg6MsurcdULL",
        "colab_type": "code",
        "colab": {
          "base_uri": "https://localhost:8080/",
          "height": 457
        },
        "outputId": "2c2afd74-887e-4b4e-b37b-6bc7bcaa6e7f"
      },
      "source": [
        "msno.bar(test, figsize = (10,5))"
      ],
      "execution_count": 23,
      "outputs": [
        {
          "output_type": "execute_result",
          "data": {
            "text/plain": [
              "<matplotlib.axes._subplots.AxesSubplot at 0x7f3e888fcdd8>"
            ]
          },
          "metadata": {
            "tags": []
          },
          "execution_count": 23
        },
        {
          "output_type": "display_data",
          "data": {
            "image/png": "[encoded data removed]",
            "text/plain": [
              "<Figure size 720x360 with 3 Axes>"
            ]
          },
          "metadata": {
            "tags": []
          }
        }
      ]
    },
    {
      "cell_type": "markdown",
      "metadata": {
        "id": "Vlx1N8ZheB6l",
        "colab_type": "text"
      },
      "source": [
        "The plot appears blank(white) wherever there are missing values. For instance, in Embarked column there are only two instances of missing data, hence the two white lines."
      ]
    },
    {
      "cell_type": "code",
      "metadata": {
        "id": "avpLA6vcdeNG",
        "colab_type": "code",
        "colab": {
          "base_uri": "https://localhost:8080/",
          "height": 438
        },
        "outputId": "dcf7d0db-8b32-4ebb-cc49-7b888743be6a"
      },
      "source": [
        "msno.matrix(train, figsize = (10,5))\n",
        "plt.title(\"Missing Values (train)\")\n",
        "plt.show()"
      ],
      "execution_count": 24,
      "outputs": [
        {
          "output_type": "display_data",
          "data": {
            "image/png": "[encoded data removed]",
            "text/plain": [
              "<Figure size 720x360 with 2 Axes>"
            ]
          },
          "metadata": {
            "tags": []
          }
        }
      ]
    },
    {
      "cell_type": "code",
      "metadata": {
        "id": "VYOUvOJ1H5sU",
        "colab_type": "code",
        "outputId": "e49102f2-6e53-410c-d25a-99b3474327e0",
        "colab": {
          "base_uri": "https://localhost:8080/",
          "height": 375
        }
      },
      "source": [
        "train.describe(include = 'all')"
      ],
      "execution_count": 0,
      "outputs": [
        {
          "output_type": "execute_result",
          "data": {
            "text/html": [
              "<div>\n",
              "<style scoped>\n",
              "    .dataframe tbody tr th:only-of-type {\n",
              "        vertical-align: middle;\n",
              "    }\n",
              "\n",
              "    .dataframe tbody tr th {\n",
              "        vertical-align: top;\n",
              "    }\n",
              "\n",
              "    .dataframe thead th {\n",
              "        text-align: right;\n",
              "    }\n",
              "</style>\n",
              "<table border=\"1\" class=\"dataframe\">\n",
              "  <thead>\n",
              "    <tr style=\"text-align: right;\">\n",
              "      <th></th>\n",
              "      <th>PassengerId</th>\n",
              "      <th>Survived</th>\n",
              "      <th>Pclass</th>\n",
              "      <th>Name</th>\n",
              "      <th>Sex</th>\n",
              "      <th>Age</th>\n",
              "      <th>SibSp</th>\n",
              "      <th>Parch</th>\n",
              "      <th>Ticket</th>\n",
              "      <th>Fare</th>\n",
              "      <th>Cabin</th>\n",
              "      <th>Embarked</th>\n",
              "    </tr>\n",
              "  </thead>\n",
              "  <tbody>\n",
              "    <tr>\n",
              "      <th>count</th>\n",
              "      <td>891.000000</td>\n",
              "      <td>891.000000</td>\n",
              "      <td>891.000000</td>\n",
              "      <td>891</td>\n",
              "      <td>891</td>\n",
              "      <td>714.000000</td>\n",
              "      <td>891.000000</td>\n",
              "      <td>891.000000</td>\n",
              "      <td>891</td>\n",
              "      <td>891.000000</td>\n",
              "      <td>204</td>\n",
              "      <td>889</td>\n",
              "    </tr>\n",
              "    <tr>\n",
              "      <th>unique</th>\n",
              "      <td>NaN</td>\n",
              "      <td>NaN</td>\n",
              "      <td>NaN</td>\n",
              "      <td>891</td>\n",
              "      <td>2</td>\n",
              "      <td>NaN</td>\n",
              "      <td>NaN</td>\n",
              "      <td>NaN</td>\n",
              "      <td>681</td>\n",
              "      <td>NaN</td>\n",
              "      <td>147</td>\n",
              "      <td>3</td>\n",
              "    </tr>\n",
              "    <tr>\n",
              "      <th>top</th>\n",
              "      <td>NaN</td>\n",
              "      <td>NaN</td>\n",
              "      <td>NaN</td>\n",
              "      <td>Gheorgheff, Mr. Stanio</td>\n",
              "      <td>male</td>\n",
              "      <td>NaN</td>\n",
              "      <td>NaN</td>\n",
              "      <td>NaN</td>\n",
              "      <td>347082</td>\n",
              "      <td>NaN</td>\n",
              "      <td>B96 B98</td>\n",
              "      <td>S</td>\n",
              "    </tr>\n",
              "    <tr>\n",
              "      <th>freq</th>\n",
              "      <td>NaN</td>\n",
              "      <td>NaN</td>\n",
              "      <td>NaN</td>\n",
              "      <td>1</td>\n",
              "      <td>577</td>\n",
              "      <td>NaN</td>\n",
              "      <td>NaN</td>\n",
              "      <td>NaN</td>\n",
              "      <td>7</td>\n",
              "      <td>NaN</td>\n",
              "      <td>4</td>\n",
              "      <td>644</td>\n",
              "    </tr>\n",
              "    <tr>\n",
              "      <th>mean</th>\n",
              "      <td>446.000000</td>\n",
              "      <td>0.383838</td>\n",
              "      <td>2.308642</td>\n",
              "      <td>NaN</td>\n",
              "      <td>NaN</td>\n",
              "      <td>29.699118</td>\n",
              "      <td>0.523008</td>\n",
              "      <td>0.381594</td>\n",
              "      <td>NaN</td>\n",
              "      <td>32.204208</td>\n",
              "      <td>NaN</td>\n",
              "      <td>NaN</td>\n",
              "    </tr>\n",
              "    <tr>\n",
              "      <th>std</th>\n",
              "      <td>257.353842</td>\n",
              "      <td>0.486592</td>\n",
              "      <td>0.836071</td>\n",
              "      <td>NaN</td>\n",
              "      <td>NaN</td>\n",
              "      <td>14.526497</td>\n",
              "      <td>1.102743</td>\n",
              "      <td>0.806057</td>\n",
              "      <td>NaN</td>\n",
              "      <td>49.693429</td>\n",
              "      <td>NaN</td>\n",
              "      <td>NaN</td>\n",
              "    </tr>\n",
              "    <tr>\n",
              "      <th>min</th>\n",
              "      <td>1.000000</td>\n",
              "      <td>0.000000</td>\n",
              "      <td>1.000000</td>\n",
              "      <td>NaN</td>\n",
              "      <td>NaN</td>\n",
              "      <td>0.420000</td>\n",
              "      <td>0.000000</td>\n",
              "      <td>0.000000</td>\n",
              "      <td>NaN</td>\n",
              "      <td>0.000000</td>\n",
              "      <td>NaN</td>\n",
              "      <td>NaN</td>\n",
              "    </tr>\n",
              "    <tr>\n",
              "      <th>25%</th>\n",
              "      <td>223.500000</td>\n",
              "      <td>0.000000</td>\n",
              "      <td>2.000000</td>\n",
              "      <td>NaN</td>\n",
              "      <td>NaN</td>\n",
              "      <td>20.125000</td>\n",
              "      <td>0.000000</td>\n",
              "      <td>0.000000</td>\n",
              "      <td>NaN</td>\n",
              "      <td>7.910400</td>\n",
              "      <td>NaN</td>\n",
              "      <td>NaN</td>\n",
              "    </tr>\n",
              "    <tr>\n",
              "      <th>50%</th>\n",
              "      <td>446.000000</td>\n",
              "      <td>0.000000</td>\n",
              "      <td>3.000000</td>\n",
              "      <td>NaN</td>\n",
              "      <td>NaN</td>\n",
              "      <td>28.000000</td>\n",
              "      <td>0.000000</td>\n",
              "      <td>0.000000</td>\n",
              "      <td>NaN</td>\n",
              "      <td>14.454200</td>\n",
              "      <td>NaN</td>\n",
              "      <td>NaN</td>\n",
              "    </tr>\n",
              "    <tr>\n",
              "      <th>75%</th>\n",
              "      <td>668.500000</td>\n",
              "      <td>1.000000</td>\n",
              "      <td>3.000000</td>\n",
              "      <td>NaN</td>\n",
              "      <td>NaN</td>\n",
              "      <td>38.000000</td>\n",
              "      <td>1.000000</td>\n",
              "      <td>0.000000</td>\n",
              "      <td>NaN</td>\n",
              "      <td>31.000000</td>\n",
              "      <td>NaN</td>\n",
              "      <td>NaN</td>\n",
              "    </tr>\n",
              "    <tr>\n",
              "      <th>max</th>\n",
              "      <td>891.000000</td>\n",
              "      <td>1.000000</td>\n",
              "      <td>3.000000</td>\n",
              "      <td>NaN</td>\n",
              "      <td>NaN</td>\n",
              "      <td>80.000000</td>\n",
              "      <td>8.000000</td>\n",
              "      <td>6.000000</td>\n",
              "      <td>NaN</td>\n",
              "      <td>512.329200</td>\n",
              "      <td>NaN</td>\n",
              "      <td>NaN</td>\n",
              "    </tr>\n",
              "  </tbody>\n",
              "</table>\n",
              "</div>"
            ],
            "text/plain": [
              "        PassengerId    Survived      Pclass  ...        Fare    Cabin  Embarked\n",
              "count    891.000000  891.000000  891.000000  ...  891.000000      204       889\n",
              "unique          NaN         NaN         NaN  ...         NaN      147         3\n",
              "top             NaN         NaN         NaN  ...         NaN  B96 B98         S\n",
              "freq            NaN         NaN         NaN  ...         NaN        4       644\n",
              "mean     446.000000    0.383838    2.308642  ...   32.204208      NaN       NaN\n",
              "std      257.353842    0.486592    0.836071  ...   49.693429      NaN       NaN\n",
              "min        1.000000    0.000000    1.000000  ...    0.000000      NaN       NaN\n",
              "25%      223.500000    0.000000    2.000000  ...    7.910400      NaN       NaN\n",
              "50%      446.000000    0.000000    3.000000  ...   14.454200      NaN       NaN\n",
              "75%      668.500000    1.000000    3.000000  ...   31.000000      NaN       NaN\n",
              "max      891.000000    1.000000    3.000000  ...  512.329200      NaN       NaN\n",
              "\n",
              "[11 rows x 12 columns]"
            ]
          },
          "metadata": {
            "tags": []
          },
          "execution_count": 19
        }
      ]
    },
    {
      "cell_type": "code",
      "metadata": {
        "id": "cjMIFicrgLiY",
        "colab_type": "code",
        "outputId": "bfb8368e-ec17-47cd-f563-3c4334ef8fde",
        "colab": {
          "base_uri": "https://localhost:8080/",
          "height": 166
        }
      },
      "source": [
        "train.describe(include=['O'])"
      ],
      "execution_count": 0,
      "outputs": [
        {
          "output_type": "execute_result",
          "data": {
            "text/html": [
              "<div>\n",
              "<style scoped>\n",
              "    .dataframe tbody tr th:only-of-type {\n",
              "        vertical-align: middle;\n",
              "    }\n",
              "\n",
              "    .dataframe tbody tr th {\n",
              "        vertical-align: top;\n",
              "    }\n",
              "\n",
              "    .dataframe thead th {\n",
              "        text-align: right;\n",
              "    }\n",
              "</style>\n",
              "<table border=\"1\" class=\"dataframe\">\n",
              "  <thead>\n",
              "    <tr style=\"text-align: right;\">\n",
              "      <th></th>\n",
              "      <th>Name</th>\n",
              "      <th>Sex</th>\n",
              "      <th>Ticket</th>\n",
              "      <th>Cabin</th>\n",
              "      <th>Embarked</th>\n",
              "    </tr>\n",
              "  </thead>\n",
              "  <tbody>\n",
              "    <tr>\n",
              "      <th>count</th>\n",
              "      <td>891</td>\n",
              "      <td>891</td>\n",
              "      <td>891</td>\n",
              "      <td>204</td>\n",
              "      <td>889</td>\n",
              "    </tr>\n",
              "    <tr>\n",
              "      <th>unique</th>\n",
              "      <td>891</td>\n",
              "      <td>2</td>\n",
              "      <td>681</td>\n",
              "      <td>147</td>\n",
              "      <td>3</td>\n",
              "    </tr>\n",
              "    <tr>\n",
              "      <th>top</th>\n",
              "      <td>Calic, Mr. Jovo</td>\n",
              "      <td>male</td>\n",
              "      <td>347082</td>\n",
              "      <td>G6</td>\n",
              "      <td>S</td>\n",
              "    </tr>\n",
              "    <tr>\n",
              "      <th>freq</th>\n",
              "      <td>1</td>\n",
              "      <td>577</td>\n",
              "      <td>7</td>\n",
              "      <td>4</td>\n",
              "      <td>644</td>\n",
              "    </tr>\n",
              "  </tbody>\n",
              "</table>\n",
              "</div>"
            ],
            "text/plain": [
              "                   Name   Sex  Ticket Cabin Embarked\n",
              "count               891   891     891   204      889\n",
              "unique              891     2     681   147        3\n",
              "top     Calic, Mr. Jovo  male  347082    G6        S\n",
              "freq                  1   577       7     4      644"
            ]
          },
          "metadata": {
            "tags": []
          },
          "execution_count": 16
        }
      ]
    },
    {
      "cell_type": "markdown",
      "metadata": {
        "id": "6QhJc5IRgitp",
        "colab_type": "text"
      },
      "source": [
        "**What is the distribution of categorical features?**\n",
        "\n",
        "- Names are unique across the dataset (count=unique=891)\n",
        "- Sex variable as two possible values with 65% male (top=male, freq=577/  count=891)\n",
        "- Cabin values have several dupicates across samples. Alternatively several \n",
        "- Embarked takes three possible values. S port used by most passengers (top=S)\n",
        "- Ticket feature has high ratio (22%) of duplicate values (unique=681).\n",
        "- Ticket feature may be dropped from our analysis as it contains high ratio of duplicates (22%) and there may not be a correlation between Ticket and survival.\n",
        "- Cabin feature may be dropped as it is highly incomplete or contains many null values both in training and test dataset.\n",
        "- PassengerId may be dropped from training dataset as it does not contribute to survival.\n",
        "- Name feature is relatively non-standard, may not contribute directly to survival, so maybe dropped."
      ]
    },
    {
      "cell_type": "markdown",
      "metadata": {
        "id": "sxPgAfH3eZwa",
        "colab_type": "text"
      },
      "source": [
        "**Exploratory Data Analysis(EDA)**"
      ]
    },
    {
      "cell_type": "code",
      "metadata": {
        "id": "WIjFaBqTsmxQ",
        "colab_type": "code",
        "outputId": "15e0e3b9-a948-44c2-f9ab-650b0a359454",
        "colab": {
          "base_uri": "https://localhost:8080/",
          "height": 67
        }
      },
      "source": [
        "train['Survived'].value_counts()"
      ],
      "execution_count": 25,
      "outputs": [
        {
          "output_type": "execute_result",
          "data": {
            "text/plain": [
              "0    549\n",
              "1    342\n",
              "Name: Survived, dtype: int64"
            ]
          },
          "metadata": {
            "tags": []
          },
          "execution_count": 25
        }
      ]
    },
    {
      "cell_type": "code",
      "metadata": {
        "id": "KKp-a0Ieosra",
        "colab_type": "code",
        "outputId": "817cbc47-b557-4518-8b06-c020a69fb4f3",
        "colab": {
          "base_uri": "https://localhost:8080/",
          "height": 383
        }
      },
      "source": [
        "f,ax=plt.subplots(1,2,figsize=(10,5))\n",
        "train['Survived'].value_counts().plot.pie(explode=[0,0.1],autopct='%1.1f%%',ax=ax[0],shadow=True)\n",
        "ax[0].set_title('Survived')\n",
        "ax[0].set_ylabel('')\n",
        "sns.countplot('Survived',data=train,ax=ax[1])\n",
        "ax[1].set_title('Survived')\n",
        "plt.show()"
      ],
      "execution_count": 26,
      "outputs": [
        {
          "output_type": "display_data",
          "data": {
            "image/png": "[encoded data removed]",
            "text/plain": [
              "<Figure size 720x360 with 2 Axes>"
            ]
          },
          "metadata": {
            "tags": []
          }
        }
      ]
    },
    {
      "cell_type": "code",
      "metadata": {
        "id": "6p8XV6lkpJei",
        "colab_type": "code",
        "outputId": "59f1b14b-4b7f-4f27-e44b-ebaff58598f9",
        "colab": {
          "base_uri": "https://localhost:8080/",
          "height": 117
        }
      },
      "source": [
        "train.groupby(['Sex','Survived'])['Survived'].count()"
      ],
      "execution_count": 27,
      "outputs": [
        {
          "output_type": "execute_result",
          "data": {
            "text/plain": [
              "Sex     Survived\n",
              "female  0            81\n",
              "        1           233\n",
              "male    0           468\n",
              "        1           109\n",
              "Name: Survived, dtype: int64"
            ]
          },
          "metadata": {
            "tags": []
          },
          "execution_count": 27
        }
      ]
    },
    {
      "cell_type": "code",
      "metadata": {
        "id": "znGaQcmrW7m5",
        "colab_type": "code",
        "colab": {
          "base_uri": "https://localhost:8080/",
          "height": 107
        },
        "outputId": "fadc5872-7c3f-4099-bf8f-8e0741f1018e"
      },
      "source": [
        "train[[\"Sex\", \"Survived\"]].groupby(['Sex'], as_index=False).mean().sort_values(by='Survived', ascending=False)"
      ],
      "execution_count": 11,
      "outputs": [
        {
          "output_type": "execute_result",
          "data": {
            "text/html": [
              "<div>\n",
              "<style scoped>\n",
              "    .dataframe tbody tr th:only-of-type {\n",
              "        vertical-align: middle;\n",
              "    }\n",
              "\n",
              "    .dataframe tbody tr th {\n",
              "        vertical-align: top;\n",
              "    }\n",
              "\n",
              "    .dataframe thead th {\n",
              "        text-align: right;\n",
              "    }\n",
              "</style>\n",
              "<table border=\"1\" class=\"dataframe\">\n",
              "  <thead>\n",
              "    <tr style=\"text-align: right;\">\n",
              "      <th></th>\n",
              "      <th>Sex</th>\n",
              "      <th>Survived</th>\n",
              "    </tr>\n",
              "  </thead>\n",
              "  <tbody>\n",
              "    <tr>\n",
              "      <th>0</th>\n",
              "      <td>female</td>\n",
              "      <td>0.742038</td>\n",
              "    </tr>\n",
              "    <tr>\n",
              "      <th>1</th>\n",
              "      <td>male</td>\n",
              "      <td>0.188908</td>\n",
              "    </tr>\n",
              "  </tbody>\n",
              "</table>\n",
              "</div>"
            ],
            "text/plain": [
              "      Sex  Survived\n",
              "0  female  0.742038\n",
              "1    male  0.188908"
            ]
          },
          "metadata": {
            "tags": []
          },
          "execution_count": 11
        }
      ]
    },
    {
      "cell_type": "code",
      "metadata": {
        "id": "QGWNsV8Oev61",
        "colab_type": "code",
        "colab": {
          "base_uri": "https://localhost:8080/",
          "height": 245
        },
        "outputId": "6c634f1c-c080-493c-a4d5-c3ac16da6020"
      },
      "source": [
        "sns.factorplot('Sex','Survived',data=train)\n",
        "fig=plt.gcf()\n",
        "fig.set_size_inches(5,3)\n",
        "plt.show()"
      ],
      "execution_count": 28,
      "outputs": [
        {
          "output_type": "display_data",
          "data": {
            "image/png": "[encoded data removed]",
            "text/plain": [
              "<Figure size 360x216 with 1 Axes>"
            ]
          },
          "metadata": {
            "tags": []
          }
        }
      ]
    },
    {
      "cell_type": "code",
      "metadata": {
        "id": "ppc8H1L4yKTf",
        "colab_type": "code",
        "outputId": "45f08a4e-fdea-44ad-9eba-05daa7a50349",
        "colab": {
          "base_uri": "https://localhost:8080/",
          "height": 374
        }
      },
      "source": [
        "f,ax=plt.subplots(1,2,figsize=(10,5))\n",
        "train[['Sex','Survived']].groupby(['Sex']).mean().plot.bar(ax=ax[0])\n",
        "ax[0].set_title('Survived vs Sex')\n",
        "sns.countplot('Sex',hue='Survived',data=train,ax=ax[1])\n",
        "ax[1].set_title('Sex:Survived vs Dead')\n",
        "plt.show()"
      ],
      "execution_count": 10,
      "outputs": [
        {
          "output_type": "display_data",
          "data": {
            "image/png": "[encoded data removed]",
            "text/plain": [
              "<Figure size 720x360 with 2 Axes>"
            ]
          },
          "metadata": {
            "tags": [],
            "needs_background": "light"
          }
        }
      ]
    },
    {
      "cell_type": "code",
      "metadata": {
        "id": "RZBh_FkXfymE",
        "colab_type": "code",
        "colab": {
          "base_uri": "https://localhost:8080/",
          "height": 208
        },
        "outputId": "0b285a0d-277f-459f-a915-c6e922280f8d"
      },
      "source": [
        "plt.figure(figsize = (14,2))\n",
        "sns.countplot(data = train, y = \"Sex\", hue = \"Survived\", palette = \"viridis\")\n",
        "plt.title(\"Gender\")\n",
        "plt.show()"
      ],
      "execution_count": 29,
      "outputs": [
        {
          "output_type": "display_data",
          "data": {
            "image/png": "[encoded data removed]",
            "text/plain": [
              "<Figure size 1008x144 with 1 Axes>"
            ]
          },
          "metadata": {
            "tags": []
          }
        }
      ]
    },
    {
      "cell_type": "code",
      "metadata": {
        "id": "M3SmxQRtypXU",
        "colab_type": "code",
        "outputId": "4c966507-cc64-4496-d77d-3ec8f6a7affe",
        "colab": {
          "base_uri": "https://localhost:8080/",
          "height": 136
        }
      },
      "source": [
        "pd.crosstab(train.Pclass,train.Survived,margins=True).style.background_gradient(cmap='summer_r')"
      ],
      "execution_count": 0,
      "outputs": [
        {
          "output_type": "execute_result",
          "data": {
            "text/html": [
              "<style  type=\"text/css\" >\n",
              "    #T_8641f1e0_a7d1_11ea_868d_0242ac1c0002row0_col0 {\n",
              "            background-color:  #ffff66;\n",
              "            color:  #000000;\n",
              "        }    #T_8641f1e0_a7d1_11ea_868d_0242ac1c0002row0_col1 {\n",
              "            background-color:  #cee666;\n",
              "            color:  #000000;\n",
              "        }    #T_8641f1e0_a7d1_11ea_868d_0242ac1c0002row0_col2 {\n",
              "            background-color:  #f4fa66;\n",
              "            color:  #000000;\n",
              "        }    #T_8641f1e0_a7d1_11ea_868d_0242ac1c0002row1_col0 {\n",
              "            background-color:  #f6fa66;\n",
              "            color:  #000000;\n",
              "        }    #T_8641f1e0_a7d1_11ea_868d_0242ac1c0002row1_col1 {\n",
              "            background-color:  #ffff66;\n",
              "            color:  #000000;\n",
              "        }    #T_8641f1e0_a7d1_11ea_868d_0242ac1c0002row1_col2 {\n",
              "            background-color:  #ffff66;\n",
              "            color:  #000000;\n",
              "        }    #T_8641f1e0_a7d1_11ea_868d_0242ac1c0002row2_col0 {\n",
              "            background-color:  #60b066;\n",
              "            color:  #000000;\n",
              "        }    #T_8641f1e0_a7d1_11ea_868d_0242ac1c0002row2_col1 {\n",
              "            background-color:  #dfef66;\n",
              "            color:  #000000;\n",
              "        }    #T_8641f1e0_a7d1_11ea_868d_0242ac1c0002row2_col2 {\n",
              "            background-color:  #90c866;\n",
              "            color:  #000000;\n",
              "        }    #T_8641f1e0_a7d1_11ea_868d_0242ac1c0002row3_col0 {\n",
              "            background-color:  #008066;\n",
              "            color:  #f1f1f1;\n",
              "        }    #T_8641f1e0_a7d1_11ea_868d_0242ac1c0002row3_col1 {\n",
              "            background-color:  #008066;\n",
              "            color:  #f1f1f1;\n",
              "        }    #T_8641f1e0_a7d1_11ea_868d_0242ac1c0002row3_col2 {\n",
              "            background-color:  #008066;\n",
              "            color:  #f1f1f1;\n",
              "        }</style><table id=\"T_8641f1e0_a7d1_11ea_868d_0242ac1c0002\" ><thead>    <tr>        <th class=\"index_name level0\" >Survived</th>        <th class=\"col_heading level0 col0\" >0</th>        <th class=\"col_heading level0 col1\" >1</th>        <th class=\"col_heading level0 col2\" >All</th>    </tr>    <tr>        <th class=\"index_name level0\" >Pclass</th>        <th class=\"blank\" ></th>        <th class=\"blank\" ></th>        <th class=\"blank\" ></th>    </tr></thead><tbody>\n",
              "                <tr>\n",
              "                        <th id=\"T_8641f1e0_a7d1_11ea_868d_0242ac1c0002level0_row0\" class=\"row_heading level0 row0\" >1</th>\n",
              "                        <td id=\"T_8641f1e0_a7d1_11ea_868d_0242ac1c0002row0_col0\" class=\"data row0 col0\" >80</td>\n",
              "                        <td id=\"T_8641f1e0_a7d1_11ea_868d_0242ac1c0002row0_col1\" class=\"data row0 col1\" >136</td>\n",
              "                        <td id=\"T_8641f1e0_a7d1_11ea_868d_0242ac1c0002row0_col2\" class=\"data row0 col2\" >216</td>\n",
              "            </tr>\n",
              "            <tr>\n",
              "                        <th id=\"T_8641f1e0_a7d1_11ea_868d_0242ac1c0002level0_row1\" class=\"row_heading level0 row1\" >2</th>\n",
              "                        <td id=\"T_8641f1e0_a7d1_11ea_868d_0242ac1c0002row1_col0\" class=\"data row1 col0\" >97</td>\n",
              "                        <td id=\"T_8641f1e0_a7d1_11ea_868d_0242ac1c0002row1_col1\" class=\"data row1 col1\" >87</td>\n",
              "                        <td id=\"T_8641f1e0_a7d1_11ea_868d_0242ac1c0002row1_col2\" class=\"data row1 col2\" >184</td>\n",
              "            </tr>\n",
              "            <tr>\n",
              "                        <th id=\"T_8641f1e0_a7d1_11ea_868d_0242ac1c0002level0_row2\" class=\"row_heading level0 row2\" >3</th>\n",
              "                        <td id=\"T_8641f1e0_a7d1_11ea_868d_0242ac1c0002row2_col0\" class=\"data row2 col0\" >372</td>\n",
              "                        <td id=\"T_8641f1e0_a7d1_11ea_868d_0242ac1c0002row2_col1\" class=\"data row2 col1\" >119</td>\n",
              "                        <td id=\"T_8641f1e0_a7d1_11ea_868d_0242ac1c0002row2_col2\" class=\"data row2 col2\" >491</td>\n",
              "            </tr>\n",
              "            <tr>\n",
              "                        <th id=\"T_8641f1e0_a7d1_11ea_868d_0242ac1c0002level0_row3\" class=\"row_heading level0 row3\" >All</th>\n",
              "                        <td id=\"T_8641f1e0_a7d1_11ea_868d_0242ac1c0002row3_col0\" class=\"data row3 col0\" >549</td>\n",
              "                        <td id=\"T_8641f1e0_a7d1_11ea_868d_0242ac1c0002row3_col1\" class=\"data row3 col1\" >342</td>\n",
              "                        <td id=\"T_8641f1e0_a7d1_11ea_868d_0242ac1c0002row3_col2\" class=\"data row3 col2\" >891</td>\n",
              "            </tr>\n",
              "    </tbody></table>"
            ],
            "text/plain": [
              "<pandas.io.formats.style.Styler at 0x7fa59cb3ab38>"
            ]
          },
          "metadata": {
            "tags": []
          },
          "execution_count": 24
        }
      ]
    },
    {
      "cell_type": "code",
      "metadata": {
        "id": "pyvyUZ3lX7Lc",
        "colab_type": "code",
        "colab": {
          "base_uri": "https://localhost:8080/",
          "height": 137
        },
        "outputId": "587f09bc-5007-45e8-85a3-f5b4dcba1f89"
      },
      "source": [
        "train[['Pclass', 'Survived']].groupby(['Pclass'], as_index=False).mean().sort_values(by='Survived', ascending=False)"
      ],
      "execution_count": 13,
      "outputs": [
        {
          "output_type": "execute_result",
          "data": {
            "text/html": [
              "<div>\n",
              "<style scoped>\n",
              "    .dataframe tbody tr th:only-of-type {\n",
              "        vertical-align: middle;\n",
              "    }\n",
              "\n",
              "    .dataframe tbody tr th {\n",
              "        vertical-align: top;\n",
              "    }\n",
              "\n",
              "    .dataframe thead th {\n",
              "        text-align: right;\n",
              "    }\n",
              "</style>\n",
              "<table border=\"1\" class=\"dataframe\">\n",
              "  <thead>\n",
              "    <tr style=\"text-align: right;\">\n",
              "      <th></th>\n",
              "      <th>Pclass</th>\n",
              "      <th>Survived</th>\n",
              "    </tr>\n",
              "  </thead>\n",
              "  <tbody>\n",
              "    <tr>\n",
              "      <th>0</th>\n",
              "      <td>1</td>\n",
              "      <td>0.629630</td>\n",
              "    </tr>\n",
              "    <tr>\n",
              "      <th>1</th>\n",
              "      <td>2</td>\n",
              "      <td>0.472826</td>\n",
              "    </tr>\n",
              "    <tr>\n",
              "      <th>2</th>\n",
              "      <td>3</td>\n",
              "      <td>0.242363</td>\n",
              "    </tr>\n",
              "  </tbody>\n",
              "</table>\n",
              "</div>"
            ],
            "text/plain": [
              "   Pclass  Survived\n",
              "0       1  0.629630\n",
              "1       2  0.472826\n",
              "2       3  0.242363"
            ]
          },
          "metadata": {
            "tags": []
          },
          "execution_count": 13
        }
      ]
    },
    {
      "cell_type": "code",
      "metadata": {
        "id": "5ca6r0wvXpJB",
        "colab_type": "code",
        "colab": {
          "base_uri": "https://localhost:8080/",
          "height": 299
        },
        "outputId": "bcbcecdd-e18c-4501-e2c6-1c432db2a4a2"
      },
      "source": [
        "sns.factorplot('Pclass','Survived',data=train)\n",
        "fig=plt.gcf()\n",
        "fig.set_size_inches(5,3)\n",
        "plt.show()"
      ],
      "execution_count": 12,
      "outputs": [
        {
          "output_type": "stream",
          "text": [
            "/usr/local/lib/python3.6/dist-packages/seaborn/categorical.py:3666: UserWarning: The `factorplot` function has been renamed to `catplot`. The original name will be removed in a future release. Please update your code. Note that the default `kind` in `factorplot` (`'point'`) has changed `'strip'` in `catplot`.\n",
            "  warnings.warn(msg)\n"
          ],
          "name": "stderr"
        },
        {
          "output_type": "display_data",
          "data": {
            "image/png": "[encoded data removed]",
            "text/plain": [
              "<Figure size 360x216 with 1 Axes>"
            ]
          },
          "metadata": {
            "tags": [],
            "needs_background": "light"
          }
        }
      ]
    },
    {
      "cell_type": "code",
      "metadata": {
        "id": "mybgdxUpgHe5",
        "colab_type": "code",
        "colab": {
          "base_uri": "https://localhost:8080/",
          "height": 266
        },
        "outputId": "72ce5444-4587-4cbf-ed1a-c2940323d089"
      },
      "source": [
        "plt.figure(figsize = (14,3))\n",
        "sns.countplot(data = train, y = \"Pclass\", hue = \"Survived\", palette = \"viridis\")\n",
        "plt.title(\"Class\")\n",
        "plt.show()"
      ],
      "execution_count": 30,
      "outputs": [
        {
          "output_type": "display_data",
          "data": {
            "image/png": "[encoded data removed]",
            "text/plain": [
              "<Figure size 1008x216 with 1 Axes>"
            ]
          },
          "metadata": {
            "tags": []
          }
        }
      ]
    },
    {
      "cell_type": "code",
      "metadata": {
        "id": "fclLs5cIYPi7",
        "colab_type": "code",
        "colab": {
          "base_uri": "https://localhost:8080/",
          "height": 422
        },
        "outputId": "1242882c-599b-4788-835b-b61a3a3f24e8"
      },
      "source": [
        "sns.factorplot('Pclass','Survived',hue='Sex',data=train)\n",
        "plt.show()"
      ],
      "execution_count": 14,
      "outputs": [
        {
          "output_type": "stream",
          "text": [
            "/usr/local/lib/python3.6/dist-packages/seaborn/categorical.py:3666: UserWarning: The `factorplot` function has been renamed to `catplot`. The original name will be removed in a future release. Please update your code. Note that the default `kind` in `factorplot` (`'point'`) has changed `'strip'` in `catplot`.\n",
            "  warnings.warn(msg)\n"
          ],
          "name": "stderr"
        },
        {
          "output_type": "display_data",
          "data": {
            "image/png": "[encoded data removed]",
            "text/plain": [
              "<Figure size 430.5x360 with 1 Axes>"
            ]
          },
          "metadata": {
            "tags": [],
            "needs_background": "light"
          }
        }
      ]
    },
    {
      "cell_type": "markdown",
      "metadata": {
        "id": "V6iab1G4YXeY",
        "colab_type": "text"
      },
      "source": [
        "We use FactorPlot in this case, because they make the seperation of categorical values easy.\n",
        "\n",
        "Looking at the CrossTab and the FactorPlot, we can easily infer that survival for Women from Pclass1 is about 95-96%, as only 3 out of 94 Women from Pclass1 died.\n",
        "\n",
        "It is evident that irrespective of Pclass, Women were given first priority while rescue. Even Men from Pclass1 have a very low survival rate.\n",
        "\n",
        "Looks like Pclass is also an important feature. Lets analyse other features."
      ]
    },
    {
      "cell_type": "code",
      "metadata": {
        "id": "LxcobDFHywPK",
        "colab_type": "code",
        "outputId": "49f4b85d-8003-419e-c599-27a3fbfde6d0",
        "colab": {
          "base_uri": "https://localhost:8080/",
          "height": 350
        }
      },
      "source": [
        "f,ax=plt.subplots(1,2,figsize=(10,5))\n",
        "train['Pclass'].value_counts().plot.bar(color=['#CD7F32','#FFDF00','#D3D3D3'],ax=ax[0])\n",
        "ax[0].set_title('Number Of Passengers By Pclass')\n",
        "ax[0].set_ylabel('Count')\n",
        "sns.countplot('Pclass',hue='Survived',data=train,ax=ax[1])\n",
        "ax[1].set_title('Pclass:Survived vs Dead')\n",
        "plt.show()"
      ],
      "execution_count": 0,
      "outputs": [
        {
          "output_type": "display_data",
          "data": {
            "image/png": "[encoded data removed]",
            "text/plain": [
              "<Figure size 720x360 with 2 Axes>"
            ]
          },
          "metadata": {
            "tags": [],
            "needs_background": "light"
          }
        }
      ]
    },
    {
      "cell_type": "markdown",
      "metadata": {
        "id": "E4odPB-gy4Kn",
        "colab_type": "text"
      },
      "source": [
        "People say Money Can't Buy Everything. But we can clearly see that Passenegers Of Pclass 1 were given a very high priority while rescue. Even though the the number of Passengers in Pclass 3 were a lot higher, still the number of survival from them is very low, somewhere around 25%.\n",
        "\n",
        "For Pclass 1 %survived is around 63% while for Pclass2 is around 48%. So money and status matters. Such a materialistic world.\n",
        "\n",
        "Lets Dive in little bit more and check for other interesting observations. Lets check survival rate with Sex and Pclass Together."
      ]
    },
    {
      "cell_type": "code",
      "metadata": {
        "id": "sePuCMMJYsSJ",
        "colab_type": "code",
        "colab": {
          "base_uri": "https://localhost:8080/",
          "height": 273
        },
        "outputId": "6db7b7a3-b256-45d8-8648-a58b53a4c620"
      },
      "source": [
        "pd.crosstab([train.Embarked,train.Pclass],[train.Sex,train.Survived],margins=True).style.background_gradient(cmap='summer_r')"
      ],
      "execution_count": 18,
      "outputs": [
        {
          "output_type": "execute_result",
          "data": {
            "text/html": [
              "<style  type=\"text/css\" >\n",
              "    #T_f2f0abf8_a7e8_11ea_8eb5_0242ac1c0002row0_col0 {\n",
              "            background-color:  #fcfe66;\n",
              "            color:  #000000;\n",
              "        }    #T_f2f0abf8_a7e8_11ea_8eb5_0242ac1c0002row0_col1 {\n",
              "            background-color:  #d2e866;\n",
              "            color:  #000000;\n",
              "        }    #T_f2f0abf8_a7e8_11ea_8eb5_0242ac1c0002row0_col2 {\n",
              "            background-color:  #f2f866;\n",
              "            color:  #000000;\n",
              "        }    #T_f2f0abf8_a7e8_11ea_8eb5_0242ac1c0002row0_col3 {\n",
              "            background-color:  #d8ec66;\n",
              "            color:  #000000;\n",
              "        }    #T_f2f0abf8_a7e8_11ea_8eb5_0242ac1c0002row0_col4 {\n",
              "            background-color:  #e8f466;\n",
              "            color:  #000000;\n",
              "        }    #T_f2f0abf8_a7e8_11ea_8eb5_0242ac1c0002row1_col0 {\n",
              "            background-color:  #ffff66;\n",
              "            color:  #000000;\n",
              "        }    #T_f2f0abf8_a7e8_11ea_8eb5_0242ac1c0002row1_col1 {\n",
              "            background-color:  #f9fc66;\n",
              "            color:  #000000;\n",
              "        }    #T_f2f0abf8_a7e8_11ea_8eb5_0242ac1c0002row1_col2 {\n",
              "            background-color:  #fcfe66;\n",
              "            color:  #000000;\n",
              "        }    #T_f2f0abf8_a7e8_11ea_8eb5_0242ac1c0002row1_col3 {\n",
              "            background-color:  #fbfd66;\n",
              "            color:  #000000;\n",
              "        }    #T_f2f0abf8_a7e8_11ea_8eb5_0242ac1c0002row1_col4 {\n",
              "            background-color:  #fbfd66;\n",
              "            color:  #000000;\n",
              "        }    #T_f2f0abf8_a7e8_11ea_8eb5_0242ac1c0002row2_col0 {\n",
              "            background-color:  #e6f266;\n",
              "            color:  #000000;\n",
              "        }    #T_f2f0abf8_a7e8_11ea_8eb5_0242ac1c0002row2_col1 {\n",
              "            background-color:  #f0f866;\n",
              "            color:  #000000;\n",
              "        }    #T_f2f0abf8_a7e8_11ea_8eb5_0242ac1c0002row2_col2 {\n",
              "            background-color:  #eef666;\n",
              "            color:  #000000;\n",
              "        }    #T_f2f0abf8_a7e8_11ea_8eb5_0242ac1c0002row2_col3 {\n",
              "            background-color:  #e8f466;\n",
              "            color:  #000000;\n",
              "        }    #T_f2f0abf8_a7e8_11ea_8eb5_0242ac1c0002row2_col4 {\n",
              "            background-color:  #edf666;\n",
              "            color:  #000000;\n",
              "        }    #T_f2f0abf8_a7e8_11ea_8eb5_0242ac1c0002row3_col0 {\n",
              "            background-color:  #ffff66;\n",
              "            color:  #000000;\n",
              "        }    #T_f2f0abf8_a7e8_11ea_8eb5_0242ac1c0002row3_col1 {\n",
              "            background-color:  #ffff66;\n",
              "            color:  #000000;\n",
              "        }    #T_f2f0abf8_a7e8_11ea_8eb5_0242ac1c0002row3_col2 {\n",
              "            background-color:  #ffff66;\n",
              "            color:  #000000;\n",
              "        }    #T_f2f0abf8_a7e8_11ea_8eb5_0242ac1c0002row3_col3 {\n",
              "            background-color:  #ffff66;\n",
              "            color:  #000000;\n",
              "        }    #T_f2f0abf8_a7e8_11ea_8eb5_0242ac1c0002row3_col4 {\n",
              "            background-color:  #ffff66;\n",
              "            color:  #000000;\n",
              "        }    #T_f2f0abf8_a7e8_11ea_8eb5_0242ac1c0002row4_col0 {\n",
              "            background-color:  #ffff66;\n",
              "            color:  #000000;\n",
              "        }    #T_f2f0abf8_a7e8_11ea_8eb5_0242ac1c0002row4_col1 {\n",
              "            background-color:  #fefe66;\n",
              "            color:  #000000;\n",
              "        }    #T_f2f0abf8_a7e8_11ea_8eb5_0242ac1c0002row4_col2 {\n",
              "            background-color:  #ffff66;\n",
              "            color:  #000000;\n",
              "        }    #T_f2f0abf8_a7e8_11ea_8eb5_0242ac1c0002row4_col3 {\n",
              "            background-color:  #ffff66;\n",
              "            color:  #000000;\n",
              "        }    #T_f2f0abf8_a7e8_11ea_8eb5_0242ac1c0002row4_col4 {\n",
              "            background-color:  #ffff66;\n",
              "            color:  #000000;\n",
              "        }    #T_f2f0abf8_a7e8_11ea_8eb5_0242ac1c0002row5_col0 {\n",
              "            background-color:  #e3f166;\n",
              "            color:  #000000;\n",
              "        }    #T_f2f0abf8_a7e8_11ea_8eb5_0242ac1c0002row5_col1 {\n",
              "            background-color:  #e6f266;\n",
              "            color:  #000000;\n",
              "        }    #T_f2f0abf8_a7e8_11ea_8eb5_0242ac1c0002row5_col2 {\n",
              "            background-color:  #ecf666;\n",
              "            color:  #000000;\n",
              "        }    #T_f2f0abf8_a7e8_11ea_8eb5_0242ac1c0002row5_col3 {\n",
              "            background-color:  #f8fc66;\n",
              "            color:  #000000;\n",
              "        }    #T_f2f0abf8_a7e8_11ea_8eb5_0242ac1c0002row5_col4 {\n",
              "            background-color:  #ebf566;\n",
              "            color:  #000000;\n",
              "        }    #T_f2f0abf8_a7e8_11ea_8eb5_0242ac1c0002row6_col0 {\n",
              "            background-color:  #f9fc66;\n",
              "            color:  #000000;\n",
              "        }    #T_f2f0abf8_a7e8_11ea_8eb5_0242ac1c0002row6_col1 {\n",
              "            background-color:  #cde666;\n",
              "            color:  #000000;\n",
              "        }    #T_f2f0abf8_a7e8_11ea_8eb5_0242ac1c0002row6_col2 {\n",
              "            background-color:  #e4f266;\n",
              "            color:  #000000;\n",
              "        }    #T_f2f0abf8_a7e8_11ea_8eb5_0242ac1c0002row6_col3 {\n",
              "            background-color:  #bede66;\n",
              "            color:  #000000;\n",
              "        }    #T_f2f0abf8_a7e8_11ea_8eb5_0242ac1c0002row6_col4 {\n",
              "            background-color:  #dbed66;\n",
              "            color:  #000000;\n",
              "        }    #T_f2f0abf8_a7e8_11ea_8eb5_0242ac1c0002row7_col0 {\n",
              "            background-color:  #edf666;\n",
              "            color:  #000000;\n",
              "        }    #T_f2f0abf8_a7e8_11ea_8eb5_0242ac1c0002row7_col1 {\n",
              "            background-color:  #bdde66;\n",
              "            color:  #000000;\n",
              "        }    #T_f2f0abf8_a7e8_11ea_8eb5_0242ac1c0002row7_col2 {\n",
              "            background-color:  #d3e966;\n",
              "            color:  #000000;\n",
              "        }    #T_f2f0abf8_a7e8_11ea_8eb5_0242ac1c0002row7_col3 {\n",
              "            background-color:  #dcee66;\n",
              "            color:  #000000;\n",
              "        }    #T_f2f0abf8_a7e8_11ea_8eb5_0242ac1c0002row7_col4 {\n",
              "            background-color:  #d1e866;\n",
              "            color:  #000000;\n",
              "        }    #T_f2f0abf8_a7e8_11ea_8eb5_0242ac1c0002row8_col0 {\n",
              "            background-color:  #52a866;\n",
              "            color:  #000000;\n",
              "        }    #T_f2f0abf8_a7e8_11ea_8eb5_0242ac1c0002row8_col1 {\n",
              "            background-color:  #dcee66;\n",
              "            color:  #000000;\n",
              "        }    #T_f2f0abf8_a7e8_11ea_8eb5_0242ac1c0002row8_col2 {\n",
              "            background-color:  #81c066;\n",
              "            color:  #000000;\n",
              "        }    #T_f2f0abf8_a7e8_11ea_8eb5_0242ac1c0002row8_col3 {\n",
              "            background-color:  #b0d866;\n",
              "            color:  #000000;\n",
              "        }    #T_f2f0abf8_a7e8_11ea_8eb5_0242ac1c0002row8_col4 {\n",
              "            background-color:  #9acc66;\n",
              "            color:  #000000;\n",
              "        }    #T_f2f0abf8_a7e8_11ea_8eb5_0242ac1c0002row9_col0 {\n",
              "            background-color:  #008066;\n",
              "            color:  #f1f1f1;\n",
              "        }    #T_f2f0abf8_a7e8_11ea_8eb5_0242ac1c0002row9_col1 {\n",
              "            background-color:  #008066;\n",
              "            color:  #f1f1f1;\n",
              "        }    #T_f2f0abf8_a7e8_11ea_8eb5_0242ac1c0002row9_col2 {\n",
              "            background-color:  #008066;\n",
              "            color:  #f1f1f1;\n",
              "        }    #T_f2f0abf8_a7e8_11ea_8eb5_0242ac1c0002row9_col3 {\n",
              "            background-color:  #008066;\n",
              "            color:  #f1f1f1;\n",
              "        }    #T_f2f0abf8_a7e8_11ea_8eb5_0242ac1c0002row9_col4 {\n",
              "            background-color:  #008066;\n",
              "            color:  #f1f1f1;\n",
              "        }</style><table id=\"T_f2f0abf8_a7e8_11ea_8eb5_0242ac1c0002\" ><thead>    <tr>        <th class=\"blank\" ></th>        <th class=\"index_name level0\" >Sex</th>        <th class=\"col_heading level0 col0\" colspan=2>female</th>        <th class=\"col_heading level0 col2\" colspan=2>male</th>        <th class=\"col_heading level0 col4\" >All</th>    </tr>    <tr>        <th class=\"blank\" ></th>        <th class=\"index_name level1\" >Survived</th>        <th class=\"col_heading level1 col0\" >0</th>        <th class=\"col_heading level1 col1\" >1</th>        <th class=\"col_heading level1 col2\" >0</th>        <th class=\"col_heading level1 col3\" >1</th>        <th class=\"col_heading level1 col4\" ></th>    </tr>    <tr>        <th class=\"index_name level0\" >Embarked</th>        <th class=\"index_name level1\" >Pclass</th>        <th class=\"blank\" ></th>        <th class=\"blank\" ></th>        <th class=\"blank\" ></th>        <th class=\"blank\" ></th>        <th class=\"blank\" ></th>    </tr></thead><tbody>\n",
              "                <tr>\n",
              "                        <th id=\"T_f2f0abf8_a7e8_11ea_8eb5_0242ac1c0002level0_row0\" class=\"row_heading level0 row0\" rowspan=3>C</th>\n",
              "                        <th id=\"T_f2f0abf8_a7e8_11ea_8eb5_0242ac1c0002level1_row0\" class=\"row_heading level1 row0\" >1</th>\n",
              "                        <td id=\"T_f2f0abf8_a7e8_11ea_8eb5_0242ac1c0002row0_col0\" class=\"data row0 col0\" >1</td>\n",
              "                        <td id=\"T_f2f0abf8_a7e8_11ea_8eb5_0242ac1c0002row0_col1\" class=\"data row0 col1\" >42</td>\n",
              "                        <td id=\"T_f2f0abf8_a7e8_11ea_8eb5_0242ac1c0002row0_col2\" class=\"data row0 col2\" >25</td>\n",
              "                        <td id=\"T_f2f0abf8_a7e8_11ea_8eb5_0242ac1c0002row0_col3\" class=\"data row0 col3\" >17</td>\n",
              "                        <td id=\"T_f2f0abf8_a7e8_11ea_8eb5_0242ac1c0002row0_col4\" class=\"data row0 col4\" >85</td>\n",
              "            </tr>\n",
              "            <tr>\n",
              "                                <th id=\"T_f2f0abf8_a7e8_11ea_8eb5_0242ac1c0002level1_row1\" class=\"row_heading level1 row1\" >2</th>\n",
              "                        <td id=\"T_f2f0abf8_a7e8_11ea_8eb5_0242ac1c0002row1_col0\" class=\"data row1 col0\" >0</td>\n",
              "                        <td id=\"T_f2f0abf8_a7e8_11ea_8eb5_0242ac1c0002row1_col1\" class=\"data row1 col1\" >7</td>\n",
              "                        <td id=\"T_f2f0abf8_a7e8_11ea_8eb5_0242ac1c0002row1_col2\" class=\"data row1 col2\" >8</td>\n",
              "                        <td id=\"T_f2f0abf8_a7e8_11ea_8eb5_0242ac1c0002row1_col3\" class=\"data row1 col3\" >2</td>\n",
              "                        <td id=\"T_f2f0abf8_a7e8_11ea_8eb5_0242ac1c0002row1_col4\" class=\"data row1 col4\" >17</td>\n",
              "            </tr>\n",
              "            <tr>\n",
              "                                <th id=\"T_f2f0abf8_a7e8_11ea_8eb5_0242ac1c0002level1_row2\" class=\"row_heading level1 row2\" >3</th>\n",
              "                        <td id=\"T_f2f0abf8_a7e8_11ea_8eb5_0242ac1c0002row2_col0\" class=\"data row2 col0\" >8</td>\n",
              "                        <td id=\"T_f2f0abf8_a7e8_11ea_8eb5_0242ac1c0002row2_col1\" class=\"data row2 col1\" >15</td>\n",
              "                        <td id=\"T_f2f0abf8_a7e8_11ea_8eb5_0242ac1c0002row2_col2\" class=\"data row2 col2\" >33</td>\n",
              "                        <td id=\"T_f2f0abf8_a7e8_11ea_8eb5_0242ac1c0002row2_col3\" class=\"data row2 col3\" >10</td>\n",
              "                        <td id=\"T_f2f0abf8_a7e8_11ea_8eb5_0242ac1c0002row2_col4\" class=\"data row2 col4\" >66</td>\n",
              "            </tr>\n",
              "            <tr>\n",
              "                        <th id=\"T_f2f0abf8_a7e8_11ea_8eb5_0242ac1c0002level0_row3\" class=\"row_heading level0 row3\" rowspan=3>Q</th>\n",
              "                        <th id=\"T_f2f0abf8_a7e8_11ea_8eb5_0242ac1c0002level1_row3\" class=\"row_heading level1 row3\" >1</th>\n",
              "                        <td id=\"T_f2f0abf8_a7e8_11ea_8eb5_0242ac1c0002row3_col0\" class=\"data row3 col0\" >0</td>\n",
              "                        <td id=\"T_f2f0abf8_a7e8_11ea_8eb5_0242ac1c0002row3_col1\" class=\"data row3 col1\" >1</td>\n",
              "                        <td id=\"T_f2f0abf8_a7e8_11ea_8eb5_0242ac1c0002row3_col2\" class=\"data row3 col2\" >1</td>\n",
              "                        <td id=\"T_f2f0abf8_a7e8_11ea_8eb5_0242ac1c0002row3_col3\" class=\"data row3 col3\" >0</td>\n",
              "                        <td id=\"T_f2f0abf8_a7e8_11ea_8eb5_0242ac1c0002row3_col4\" class=\"data row3 col4\" >2</td>\n",
              "            </tr>\n",
              "            <tr>\n",
              "                                <th id=\"T_f2f0abf8_a7e8_11ea_8eb5_0242ac1c0002level1_row4\" class=\"row_heading level1 row4\" >2</th>\n",
              "                        <td id=\"T_f2f0abf8_a7e8_11ea_8eb5_0242ac1c0002row4_col0\" class=\"data row4 col0\" >0</td>\n",
              "                        <td id=\"T_f2f0abf8_a7e8_11ea_8eb5_0242ac1c0002row4_col1\" class=\"data row4 col1\" >2</td>\n",
              "                        <td id=\"T_f2f0abf8_a7e8_11ea_8eb5_0242ac1c0002row4_col2\" class=\"data row4 col2\" >1</td>\n",
              "                        <td id=\"T_f2f0abf8_a7e8_11ea_8eb5_0242ac1c0002row4_col3\" class=\"data row4 col3\" >0</td>\n",
              "                        <td id=\"T_f2f0abf8_a7e8_11ea_8eb5_0242ac1c0002row4_col4\" class=\"data row4 col4\" >3</td>\n",
              "            </tr>\n",
              "            <tr>\n",
              "                                <th id=\"T_f2f0abf8_a7e8_11ea_8eb5_0242ac1c0002level1_row5\" class=\"row_heading level1 row5\" >3</th>\n",
              "                        <td id=\"T_f2f0abf8_a7e8_11ea_8eb5_0242ac1c0002row5_col0\" class=\"data row5 col0\" >9</td>\n",
              "                        <td id=\"T_f2f0abf8_a7e8_11ea_8eb5_0242ac1c0002row5_col1\" class=\"data row5 col1\" >24</td>\n",
              "                        <td id=\"T_f2f0abf8_a7e8_11ea_8eb5_0242ac1c0002row5_col2\" class=\"data row5 col2\" >36</td>\n",
              "                        <td id=\"T_f2f0abf8_a7e8_11ea_8eb5_0242ac1c0002row5_col3\" class=\"data row5 col3\" >3</td>\n",
              "                        <td id=\"T_f2f0abf8_a7e8_11ea_8eb5_0242ac1c0002row5_col4\" class=\"data row5 col4\" >72</td>\n",
              "            </tr>\n",
              "            <tr>\n",
              "                        <th id=\"T_f2f0abf8_a7e8_11ea_8eb5_0242ac1c0002level0_row6\" class=\"row_heading level0 row6\" rowspan=3>S</th>\n",
              "                        <th id=\"T_f2f0abf8_a7e8_11ea_8eb5_0242ac1c0002level1_row6\" class=\"row_heading level1 row6\" >1</th>\n",
              "                        <td id=\"T_f2f0abf8_a7e8_11ea_8eb5_0242ac1c0002row6_col0\" class=\"data row6 col0\" >2</td>\n",
              "                        <td id=\"T_f2f0abf8_a7e8_11ea_8eb5_0242ac1c0002row6_col1\" class=\"data row6 col1\" >46</td>\n",
              "                        <td id=\"T_f2f0abf8_a7e8_11ea_8eb5_0242ac1c0002row6_col2\" class=\"data row6 col2\" >51</td>\n",
              "                        <td id=\"T_f2f0abf8_a7e8_11ea_8eb5_0242ac1c0002row6_col3\" class=\"data row6 col3\" >28</td>\n",
              "                        <td id=\"T_f2f0abf8_a7e8_11ea_8eb5_0242ac1c0002row6_col4\" class=\"data row6 col4\" >127</td>\n",
              "            </tr>\n",
              "            <tr>\n",
              "                                <th id=\"T_f2f0abf8_a7e8_11ea_8eb5_0242ac1c0002level1_row7\" class=\"row_heading level1 row7\" >2</th>\n",
              "                        <td id=\"T_f2f0abf8_a7e8_11ea_8eb5_0242ac1c0002row7_col0\" class=\"data row7 col0\" >6</td>\n",
              "                        <td id=\"T_f2f0abf8_a7e8_11ea_8eb5_0242ac1c0002row7_col1\" class=\"data row7 col1\" >61</td>\n",
              "                        <td id=\"T_f2f0abf8_a7e8_11ea_8eb5_0242ac1c0002row7_col2\" class=\"data row7 col2\" >82</td>\n",
              "                        <td id=\"T_f2f0abf8_a7e8_11ea_8eb5_0242ac1c0002row7_col3\" class=\"data row7 col3\" >15</td>\n",
              "                        <td id=\"T_f2f0abf8_a7e8_11ea_8eb5_0242ac1c0002row7_col4\" class=\"data row7 col4\" >164</td>\n",
              "            </tr>\n",
              "            <tr>\n",
              "                                <th id=\"T_f2f0abf8_a7e8_11ea_8eb5_0242ac1c0002level1_row8\" class=\"row_heading level1 row8\" >3</th>\n",
              "                        <td id=\"T_f2f0abf8_a7e8_11ea_8eb5_0242ac1c0002row8_col0\" class=\"data row8 col0\" >55</td>\n",
              "                        <td id=\"T_f2f0abf8_a7e8_11ea_8eb5_0242ac1c0002row8_col1\" class=\"data row8 col1\" >33</td>\n",
              "                        <td id=\"T_f2f0abf8_a7e8_11ea_8eb5_0242ac1c0002row8_col2\" class=\"data row8 col2\" >231</td>\n",
              "                        <td id=\"T_f2f0abf8_a7e8_11ea_8eb5_0242ac1c0002row8_col3\" class=\"data row8 col3\" >34</td>\n",
              "                        <td id=\"T_f2f0abf8_a7e8_11ea_8eb5_0242ac1c0002row8_col4\" class=\"data row8 col4\" >353</td>\n",
              "            </tr>\n",
              "            <tr>\n",
              "                        <th id=\"T_f2f0abf8_a7e8_11ea_8eb5_0242ac1c0002level0_row9\" class=\"row_heading level0 row9\" >All</th>\n",
              "                        <th id=\"T_f2f0abf8_a7e8_11ea_8eb5_0242ac1c0002level1_row9\" class=\"row_heading level1 row9\" ></th>\n",
              "                        <td id=\"T_f2f0abf8_a7e8_11ea_8eb5_0242ac1c0002row9_col0\" class=\"data row9 col0\" >81</td>\n",
              "                        <td id=\"T_f2f0abf8_a7e8_11ea_8eb5_0242ac1c0002row9_col1\" class=\"data row9 col1\" >231</td>\n",
              "                        <td id=\"T_f2f0abf8_a7e8_11ea_8eb5_0242ac1c0002row9_col2\" class=\"data row9 col2\" >468</td>\n",
              "                        <td id=\"T_f2f0abf8_a7e8_11ea_8eb5_0242ac1c0002row9_col3\" class=\"data row9 col3\" >109</td>\n",
              "                        <td id=\"T_f2f0abf8_a7e8_11ea_8eb5_0242ac1c0002row9_col4\" class=\"data row9 col4\" >889</td>\n",
              "            </tr>\n",
              "    </tbody></table>"
            ],
            "text/plain": [
              "<pandas.io.formats.style.Styler at 0x7f3e89cb2ac8>"
            ]
          },
          "metadata": {
            "tags": []
          },
          "execution_count": 18
        }
      ]
    },
    {
      "cell_type": "code",
      "metadata": {
        "id": "9M4WZqcbZ8nj",
        "colab_type": "code",
        "colab": {
          "base_uri": "https://localhost:8080/",
          "height": 137
        },
        "outputId": "352c3fd9-c099-4b30-876e-54cf57c9b56a"
      },
      "source": [
        "train[['Embarked', 'Survived']].groupby(['Embarked'], as_index=False).mean().sort_values(by='Survived', ascending=False)"
      ],
      "execution_count": 19,
      "outputs": [
        {
          "output_type": "execute_result",
          "data": {
            "text/html": [
              "<div>\n",
              "<style scoped>\n",
              "    .dataframe tbody tr th:only-of-type {\n",
              "        vertical-align: middle;\n",
              "    }\n",
              "\n",
              "    .dataframe tbody tr th {\n",
              "        vertical-align: top;\n",
              "    }\n",
              "\n",
              "    .dataframe thead th {\n",
              "        text-align: right;\n",
              "    }\n",
              "</style>\n",
              "<table border=\"1\" class=\"dataframe\">\n",
              "  <thead>\n",
              "    <tr style=\"text-align: right;\">\n",
              "      <th></th>\n",
              "      <th>Embarked</th>\n",
              "      <th>Survived</th>\n",
              "    </tr>\n",
              "  </thead>\n",
              "  <tbody>\n",
              "    <tr>\n",
              "      <th>0</th>\n",
              "      <td>C</td>\n",
              "      <td>0.553571</td>\n",
              "    </tr>\n",
              "    <tr>\n",
              "      <th>1</th>\n",
              "      <td>Q</td>\n",
              "      <td>0.389610</td>\n",
              "    </tr>\n",
              "    <tr>\n",
              "      <th>2</th>\n",
              "      <td>S</td>\n",
              "      <td>0.336957</td>\n",
              "    </tr>\n",
              "  </tbody>\n",
              "</table>\n",
              "</div>"
            ],
            "text/plain": [
              "  Embarked  Survived\n",
              "0        C  0.553571\n",
              "1        Q  0.389610\n",
              "2        S  0.336957"
            ]
          },
          "metadata": {
            "tags": []
          },
          "execution_count": 19
        }
      ]
    },
    {
      "cell_type": "code",
      "metadata": {
        "id": "mUUuEW_F3YWw",
        "colab_type": "code",
        "outputId": "cb5504cd-f07c-4278-ad5a-4c6095adfe59",
        "colab": {
          "base_uri": "https://localhost:8080/",
          "height": 299
        }
      },
      "source": [
        "sns.factorplot('Embarked','Survived',data=train)\n",
        "fig=plt.gcf()\n",
        "fig.set_size_inches(5,3)\n",
        "plt.show()"
      ],
      "execution_count": 0,
      "outputs": [
        {
          "output_type": "stream",
          "text": [
            "/usr/local/lib/python3.6/dist-packages/seaborn/categorical.py:3666: UserWarning: The `factorplot` function has been renamed to `catplot`. The original name will be removed in a future release. Please update your code. Note that the default `kind` in `factorplot` (`'point'`) has changed `'strip'` in `catplot`.\n",
            "  warnings.warn(msg)\n"
          ],
          "name": "stderr"
        },
        {
          "output_type": "display_data",
          "data": {
            "image/png": "[encoded data removed]",
            "text/plain": [
              "<Figure size 360x216 with 1 Axes>"
            ]
          },
          "metadata": {
            "tags": [],
            "needs_background": "light"
          }
        }
      ]
    },
    {
      "cell_type": "markdown",
      "metadata": {
        "id": "KI5a8VtjZhAt",
        "colab_type": "text"
      },
      "source": [
        "The chances for survival for Port C is highest around 0.55 while it is lowest for S."
      ]
    },
    {
      "cell_type": "code",
      "metadata": {
        "id": "ZuO2Eys0gT-c",
        "colab_type": "code",
        "colab": {
          "base_uri": "https://localhost:8080/",
          "height": 266
        },
        "outputId": "8ab23f1d-b041-4707-bd43-572f00d85e09"
      },
      "source": [
        "plt.figure(figsize = (14,3))\n",
        "sns.countplot(data = train, y = \"Embarked\", hue = \"Survived\", palette = \"viridis\")\n",
        "plt.title(\"Embarked\")\n",
        "plt.show()"
      ],
      "execution_count": 31,
      "outputs": [
        {
          "output_type": "display_data",
          "data": {
            "image/png": "[encoded data removed]",
            "text/plain": [
              "<Figure size 1008x216 with 1 Axes>"
            ]
          },
          "metadata": {
            "tags": []
          }
        }
      ]
    },
    {
      "cell_type": "code",
      "metadata": {
        "id": "En8louGA4XFL",
        "colab_type": "code",
        "outputId": "1d7d03ae-713b-441d-f521-a0fa0dd774e2",
        "colab": {
          "base_uri": "https://localhost:8080/",
          "height": 299
        }
      },
      "source": [
        "sns.factorplot('PassengerId','Survived',data=train)\n",
        "fig=plt.gcf()\n",
        "fig.set_size_inches(5,3)\n",
        "plt.show()"
      ],
      "execution_count": 0,
      "outputs": [
        {
          "output_type": "stream",
          "text": [
            "/usr/local/lib/python3.6/dist-packages/seaborn/categorical.py:3666: UserWarning: The `factorplot` function has been renamed to `catplot`. The original name will be removed in a future release. Please update your code. Note that the default `kind` in `factorplot` (`'point'`) has changed `'strip'` in `catplot`.\n",
            "  warnings.warn(msg)\n"
          ],
          "name": "stderr"
        },
        {
          "output_type": "display_data",
          "data": {
            "image/png": "[encoded data removed]",
            "text/plain": [
              "<Figure size 360x216 with 1 Axes>"
            ]
          },
          "metadata": {
            "tags": [],
            "needs_background": "light"
          }
        }
      ]
    },
    {
      "cell_type": "code",
      "metadata": {
        "id": "A-S5jNvMLFbR",
        "colab_type": "code",
        "outputId": "0090ed73-3238-4371-fe22-43b554e4df10",
        "colab": {
          "base_uri": "https://localhost:8080/",
          "height": 281
        }
      },
      "source": [
        "s = sns.countplot(x = 'Survived',data = train)\n",
        "sizes=[]\n",
        "for p in s.patches:\n",
        "    height = p.get_height()\n",
        "    sizes.append(height)\n",
        "    s.text(p.get_x()+p.get_width()/2.,\n",
        "            height + 3,\n",
        "            '{:1.2f}%'.format(height/len(train)*100),\n",
        "            ha=\"center\", fontsize=14) "
      ],
      "execution_count": 0,
      "outputs": [
        {
          "output_type": "display_data",
          "data": {
            "image/png": "[encoded data removed]",
            "text/plain": [
              "<Figure size 432x288 with 1 Axes>"
            ]
          },
          "metadata": {
            "tags": [],
            "needs_background": "light"
          }
        }
      ]
    },
    {
      "cell_type": "code",
      "metadata": {
        "id": "oMi0hHfQvoYr",
        "colab_type": "code",
        "outputId": "be1b5a0b-72ca-4139-ec62-791d7a7fded7",
        "colab": {
          "base_uri": "https://localhost:8080/",
          "height": 398
        }
      },
      "source": [
        "msno.heatmap(train, figsize = (10,5))"
      ],
      "execution_count": 0,
      "outputs": [
        {
          "output_type": "execute_result",
          "data": {
            "text/plain": [
              "<matplotlib.axes._subplots.AxesSubplot at 0x7fc9c740c1d0>"
            ]
          },
          "metadata": {
            "tags": []
          },
          "execution_count": 22
        },
        {
          "output_type": "display_data",
          "data": {
            "image/png": "[encoded data removed]",
            "text/plain": [
              "<Figure size 720x360 with 2 Axes>"
            ]
          },
          "metadata": {
            "tags": [],
            "needs_background": "light"
          }
        }
      ]
    },
    {
      "cell_type": "code",
      "metadata": {
        "id": "rjGv9ROwhUQ7",
        "colab_type": "code",
        "outputId": "7f1fcb7d-7edf-4946-8e48-7386dccc59b8",
        "colab": {
          "base_uri": "https://localhost:8080/",
          "height": 406
        }
      },
      "source": [
        "msno.dendrogram(train, figsize = (10,5))"
      ],
      "execution_count": 0,
      "outputs": [
        {
          "output_type": "execute_result",
          "data": {
            "text/plain": [
              "<matplotlib.axes._subplots.AxesSubplot at 0x7f5926d922e8>"
            ]
          },
          "metadata": {
            "tags": []
          },
          "execution_count": 9
        },
        {
          "output_type": "display_data",
          "data": {
            "image/png": "[encoded data removed]",
            "text/plain": [
              "<Figure size 720x360 with 1 Axes>"
            ]
          },
          "metadata": {
            "tags": [],
            "needs_background": "light"
          }
        }
      ]
    },
    {
      "cell_type": "markdown",
      "metadata": {
        "id": "xSmTxAtfI00A",
        "colab_type": "text"
      },
      "source": [
        "The 4 C's of Data Cleaning: Correcting, Completing, Creating, and Converting"
      ]
    },
    {
      "cell_type": "markdown",
      "metadata": {
        "id": "zaY5yn6zI8_P",
        "colab_type": "text"
      },
      "source": [
        "**Cleaning Data**"
      ]
    },
    {
      "cell_type": "code",
      "metadata": {
        "id": "p26h-QpPJAqX",
        "colab_type": "code",
        "outputId": "fc5260a0-c9dd-49d6-d0f9-f785aecc6b75",
        "colab": {
          "base_uri": "https://localhost:8080/",
          "height": 401
        }
      },
      "source": [
        "###COMPLETING: complete or delete missing values in train and test/validation dataset\n",
        "train_copy = train.copy(deep = True)\n",
        "data_cleaner = [train_copy, test]\n",
        "\n",
        "for dataset in data_cleaner:    \n",
        "    #complete missing age with median\n",
        "    dataset['Age'].fillna(dataset['Age'].median(), inplace = True)\n",
        "\n",
        "    #complete embarked with mode\n",
        "    dataset['Embarked'].fillna(dataset['Embarked'].mode()[0], inplace = True)\n",
        "\n",
        "    #complete missing fare with median\n",
        "    dataset['Fare'].fillna(dataset['Fare'].median(), inplace = True)\n",
        "    \n",
        "#delete the cabin feature/column and others previously stated to exclude in train dataset\n",
        "drop_column = ['PassengerId','Cabin', 'Ticket']\n",
        "train_copy.drop(drop_column, axis=1, inplace = True)\n",
        "\n",
        "print(train_copy.isnull().sum())\n",
        "print(\"-\"*10)\n",
        "print(test.isnull().sum())"
      ],
      "execution_count": 0,
      "outputs": [
        {
          "output_type": "stream",
          "text": [
            "Survived    0\n",
            "Pclass      0\n",
            "Name        0\n",
            "Sex         0\n",
            "Age         0\n",
            "SibSp       0\n",
            "Parch       0\n",
            "Fare        0\n",
            "Embarked    0\n",
            "dtype: int64\n",
            "----------\n",
            "PassengerId      0\n",
            "Pclass           0\n",
            "Name             0\n",
            "Sex              0\n",
            "Age              0\n",
            "SibSp            0\n",
            "Parch            0\n",
            "Ticket           0\n",
            "Fare             0\n",
            "Cabin          327\n",
            "Embarked         0\n",
            "dtype: int64\n"
          ],
          "name": "stdout"
        }
      ]
    },
    {
      "cell_type": "markdown",
      "metadata": {
        "id": "13eS7rBK0c5r",
        "colab_type": "text"
      },
      "source": [
        "**Converting a categorical feature**\n",
        "\n",
        "\n",
        "Now we can convert features which contain strings to numerical values. This is required by most model algorithms. Doing so will also help us in achieving the feature completing goal.\n",
        "\n",
        "Let us start by converting Sex feature to a new feature called Gender where female=1 and male=0."
      ]
    },
    {
      "cell_type": "code",
      "metadata": {
        "id": "fZ1QJWtv0X_c",
        "colab_type": "code",
        "outputId": "febfd1df-49d4-40f1-874f-eaaba4b04fda",
        "colab": {
          "base_uri": "https://localhost:8080/",
          "height": 369
        }
      },
      "source": [
        "train_copy = train.copy(deep = True)\n",
        "data_cleaner = [train_copy, test]\n",
        "\n",
        "for dataset in data_cleaner:\n",
        "    dataset['Sex'] = dataset['Sex'].map( {'female': 1, 'male': 0} ).astype(int)\n",
        "\n",
        "train_copy.head()"
      ],
      "execution_count": 0,
      "outputs": [
        {
          "output_type": "error",
          "ename": "ValueError",
          "evalue": "ignored",
          "traceback": [
            "\u001b[0;31m---------------------------------------------------------------------------\u001b[0m",
            "\u001b[0;31mValueError\u001b[0m                                Traceback (most recent call last)",
            "\u001b[0;32m<ipython-input-46-be4d78d93195>\u001b[0m in \u001b[0;36m<module>\u001b[0;34m()\u001b[0m\n\u001b[1;32m      3\u001b[0m \u001b[0;34m\u001b[0m\u001b[0m\n\u001b[1;32m      4\u001b[0m \u001b[0;32mfor\u001b[0m \u001b[0mdataset\u001b[0m \u001b[0;32min\u001b[0m \u001b[0mdata_cleaner\u001b[0m\u001b[0;34m:\u001b[0m\u001b[0;34m\u001b[0m\u001b[0;34m\u001b[0m\u001b[0m\n\u001b[0;32m----> 5\u001b[0;31m     \u001b[0mdataset\u001b[0m\u001b[0;34m[\u001b[0m\u001b[0;34m'Sex'\u001b[0m\u001b[0;34m]\u001b[0m \u001b[0;34m=\u001b[0m \u001b[0mdataset\u001b[0m\u001b[0;34m[\u001b[0m\u001b[0;34m'Sex'\u001b[0m\u001b[0;34m]\u001b[0m\u001b[0;34m.\u001b[0m\u001b[0mmap\u001b[0m\u001b[0;34m(\u001b[0m \u001b[0;34m{\u001b[0m\u001b[0;34m'female'\u001b[0m\u001b[0;34m:\u001b[0m \u001b[0;36m1\u001b[0m\u001b[0;34m,\u001b[0m \u001b[0;34m'male'\u001b[0m\u001b[0;34m:\u001b[0m \u001b[0;36m0\u001b[0m\u001b[0;34m}\u001b[0m \u001b[0;34m)\u001b[0m\u001b[0;34m.\u001b[0m\u001b[0mastype\u001b[0m\u001b[0;34m(\u001b[0m\u001b[0mint\u001b[0m\u001b[0;34m)\u001b[0m\u001b[0;34m\u001b[0m\u001b[0;34m\u001b[0m\u001b[0m\n\u001b[0m\u001b[1;32m      6\u001b[0m \u001b[0;34m\u001b[0m\u001b[0m\n\u001b[1;32m      7\u001b[0m \u001b[0mtrain_copy\u001b[0m\u001b[0;34m.\u001b[0m\u001b[0mhead\u001b[0m\u001b[0;34m(\u001b[0m\u001b[0;34m)\u001b[0m\u001b[0;34m\u001b[0m\u001b[0;34m\u001b[0m\u001b[0m\n",
            "\u001b[0;32m/usr/local/lib/python3.6/dist-packages/pandas/core/generic.py\u001b[0m in \u001b[0;36mastype\u001b[0;34m(self, dtype, copy, errors)\u001b[0m\n\u001b[1;32m   5696\u001b[0m         \u001b[0;32melse\u001b[0m\u001b[0;34m:\u001b[0m\u001b[0;34m\u001b[0m\u001b[0;34m\u001b[0m\u001b[0m\n\u001b[1;32m   5697\u001b[0m             \u001b[0;31m# else, only a single dtype is given\u001b[0m\u001b[0;34m\u001b[0m\u001b[0;34m\u001b[0m\u001b[0;34m\u001b[0m\u001b[0m\n\u001b[0;32m-> 5698\u001b[0;31m             \u001b[0mnew_data\u001b[0m \u001b[0;34m=\u001b[0m \u001b[0mself\u001b[0m\u001b[0;34m.\u001b[0m\u001b[0m_data\u001b[0m\u001b[0;34m.\u001b[0m\u001b[0mastype\u001b[0m\u001b[0;34m(\u001b[0m\u001b[0mdtype\u001b[0m\u001b[0;34m=\u001b[0m\u001b[0mdtype\u001b[0m\u001b[0;34m,\u001b[0m \u001b[0mcopy\u001b[0m\u001b[0;34m=\u001b[0m\u001b[0mcopy\u001b[0m\u001b[0;34m,\u001b[0m \u001b[0merrors\u001b[0m\u001b[0;34m=\u001b[0m\u001b[0merrors\u001b[0m\u001b[0;34m)\u001b[0m\u001b[0;34m\u001b[0m\u001b[0;34m\u001b[0m\u001b[0m\n\u001b[0m\u001b[1;32m   5699\u001b[0m             \u001b[0;32mreturn\u001b[0m \u001b[0mself\u001b[0m\u001b[0;34m.\u001b[0m\u001b[0m_constructor\u001b[0m\u001b[0;34m(\u001b[0m\u001b[0mnew_data\u001b[0m\u001b[0;34m)\u001b[0m\u001b[0;34m.\u001b[0m\u001b[0m__finalize__\u001b[0m\u001b[0;34m(\u001b[0m\u001b[0mself\u001b[0m\u001b[0;34m)\u001b[0m\u001b[0;34m\u001b[0m\u001b[0;34m\u001b[0m\u001b[0m\n\u001b[1;32m   5700\u001b[0m \u001b[0;34m\u001b[0m\u001b[0m\n",
            "\u001b[0;32m/usr/local/lib/python3.6/dist-packages/pandas/core/internals/managers.py\u001b[0m in \u001b[0;36mastype\u001b[0;34m(self, dtype, copy, errors)\u001b[0m\n\u001b[1;32m    580\u001b[0m \u001b[0;34m\u001b[0m\u001b[0m\n\u001b[1;32m    581\u001b[0m     \u001b[0;32mdef\u001b[0m \u001b[0mastype\u001b[0m\u001b[0;34m(\u001b[0m\u001b[0mself\u001b[0m\u001b[0;34m,\u001b[0m \u001b[0mdtype\u001b[0m\u001b[0;34m,\u001b[0m \u001b[0mcopy\u001b[0m\u001b[0;34m:\u001b[0m \u001b[0mbool\u001b[0m \u001b[0;34m=\u001b[0m \u001b[0;32mFalse\u001b[0m\u001b[0;34m,\u001b[0m \u001b[0merrors\u001b[0m\u001b[0;34m:\u001b[0m \u001b[0mstr\u001b[0m \u001b[0;34m=\u001b[0m \u001b[0;34m\"raise\"\u001b[0m\u001b[0;34m)\u001b[0m\u001b[0;34m:\u001b[0m\u001b[0;34m\u001b[0m\u001b[0;34m\u001b[0m\u001b[0m\n\u001b[0;32m--> 582\u001b[0;31m         \u001b[0;32mreturn\u001b[0m \u001b[0mself\u001b[0m\u001b[0;34m.\u001b[0m\u001b[0mapply\u001b[0m\u001b[0;34m(\u001b[0m\u001b[0;34m\"astype\"\u001b[0m\u001b[0;34m,\u001b[0m \u001b[0mdtype\u001b[0m\u001b[0;34m=\u001b[0m\u001b[0mdtype\u001b[0m\u001b[0;34m,\u001b[0m \u001b[0mcopy\u001b[0m\u001b[0;34m=\u001b[0m\u001b[0mcopy\u001b[0m\u001b[0;34m,\u001b[0m \u001b[0merrors\u001b[0m\u001b[0;34m=\u001b[0m\u001b[0merrors\u001b[0m\u001b[0;34m)\u001b[0m\u001b[0;34m\u001b[0m\u001b[0;34m\u001b[0m\u001b[0m\n\u001b[0m\u001b[1;32m    583\u001b[0m \u001b[0;34m\u001b[0m\u001b[0m\n\u001b[1;32m    584\u001b[0m     \u001b[0;32mdef\u001b[0m \u001b[0mconvert\u001b[0m\u001b[0;34m(\u001b[0m\u001b[0mself\u001b[0m\u001b[0;34m,\u001b[0m \u001b[0;34m**\u001b[0m\u001b[0mkwargs\u001b[0m\u001b[0;34m)\u001b[0m\u001b[0;34m:\u001b[0m\u001b[0;34m\u001b[0m\u001b[0;34m\u001b[0m\u001b[0m\n",
            "\u001b[0;32m/usr/local/lib/python3.6/dist-packages/pandas/core/internals/managers.py\u001b[0m in \u001b[0;36mapply\u001b[0;34m(self, f, filter, **kwargs)\u001b[0m\n\u001b[1;32m    440\u001b[0m                 \u001b[0mapplied\u001b[0m \u001b[0;34m=\u001b[0m \u001b[0mb\u001b[0m\u001b[0;34m.\u001b[0m\u001b[0mapply\u001b[0m\u001b[0;34m(\u001b[0m\u001b[0mf\u001b[0m\u001b[0;34m,\u001b[0m \u001b[0;34m**\u001b[0m\u001b[0mkwargs\u001b[0m\u001b[0;34m)\u001b[0m\u001b[0;34m\u001b[0m\u001b[0;34m\u001b[0m\u001b[0m\n\u001b[1;32m    441\u001b[0m             \u001b[0;32melse\u001b[0m\u001b[0;34m:\u001b[0m\u001b[0;34m\u001b[0m\u001b[0;34m\u001b[0m\u001b[0m\n\u001b[0;32m--> 442\u001b[0;31m                 \u001b[0mapplied\u001b[0m \u001b[0;34m=\u001b[0m \u001b[0mgetattr\u001b[0m\u001b[0;34m(\u001b[0m\u001b[0mb\u001b[0m\u001b[0;34m,\u001b[0m \u001b[0mf\u001b[0m\u001b[0;34m)\u001b[0m\u001b[0;34m(\u001b[0m\u001b[0;34m**\u001b[0m\u001b[0mkwargs\u001b[0m\u001b[0;34m)\u001b[0m\u001b[0;34m\u001b[0m\u001b[0;34m\u001b[0m\u001b[0m\n\u001b[0m\u001b[1;32m    443\u001b[0m             \u001b[0mresult_blocks\u001b[0m \u001b[0;34m=\u001b[0m \u001b[0m_extend_blocks\u001b[0m\u001b[0;34m(\u001b[0m\u001b[0mapplied\u001b[0m\u001b[0;34m,\u001b[0m \u001b[0mresult_blocks\u001b[0m\u001b[0;34m)\u001b[0m\u001b[0;34m\u001b[0m\u001b[0;34m\u001b[0m\u001b[0m\n\u001b[1;32m    444\u001b[0m \u001b[0;34m\u001b[0m\u001b[0m\n",
            "\u001b[0;32m/usr/local/lib/python3.6/dist-packages/pandas/core/internals/blocks.py\u001b[0m in \u001b[0;36mastype\u001b[0;34m(self, dtype, copy, errors)\u001b[0m\n\u001b[1;32m    623\u001b[0m             \u001b[0mvals1d\u001b[0m \u001b[0;34m=\u001b[0m \u001b[0mvalues\u001b[0m\u001b[0;34m.\u001b[0m\u001b[0mravel\u001b[0m\u001b[0;34m(\u001b[0m\u001b[0;34m)\u001b[0m\u001b[0;34m\u001b[0m\u001b[0;34m\u001b[0m\u001b[0m\n\u001b[1;32m    624\u001b[0m             \u001b[0;32mtry\u001b[0m\u001b[0;34m:\u001b[0m\u001b[0;34m\u001b[0m\u001b[0;34m\u001b[0m\u001b[0m\n\u001b[0;32m--> 625\u001b[0;31m                 \u001b[0mvalues\u001b[0m \u001b[0;34m=\u001b[0m \u001b[0mastype_nansafe\u001b[0m\u001b[0;34m(\u001b[0m\u001b[0mvals1d\u001b[0m\u001b[0;34m,\u001b[0m \u001b[0mdtype\u001b[0m\u001b[0;34m,\u001b[0m \u001b[0mcopy\u001b[0m\u001b[0;34m=\u001b[0m\u001b[0;32mTrue\u001b[0m\u001b[0;34m)\u001b[0m\u001b[0;34m\u001b[0m\u001b[0;34m\u001b[0m\u001b[0m\n\u001b[0m\u001b[1;32m    626\u001b[0m             \u001b[0;32mexcept\u001b[0m \u001b[0;34m(\u001b[0m\u001b[0mValueError\u001b[0m\u001b[0;34m,\u001b[0m \u001b[0mTypeError\u001b[0m\u001b[0;34m)\u001b[0m\u001b[0;34m:\u001b[0m\u001b[0;34m\u001b[0m\u001b[0;34m\u001b[0m\u001b[0m\n\u001b[1;32m    627\u001b[0m                 \u001b[0;31m# e.g. astype_nansafe can fail on object-dtype of strings\u001b[0m\u001b[0;34m\u001b[0m\u001b[0;34m\u001b[0m\u001b[0;34m\u001b[0m\u001b[0m\n",
            "\u001b[0;32m/usr/local/lib/python3.6/dist-packages/pandas/core/dtypes/cast.py\u001b[0m in \u001b[0;36mastype_nansafe\u001b[0;34m(arr, dtype, copy, skipna)\u001b[0m\n\u001b[1;32m    866\u001b[0m \u001b[0;34m\u001b[0m\u001b[0m\n\u001b[1;32m    867\u001b[0m         \u001b[0;32mif\u001b[0m \u001b[0;32mnot\u001b[0m \u001b[0mnp\u001b[0m\u001b[0;34m.\u001b[0m\u001b[0misfinite\u001b[0m\u001b[0;34m(\u001b[0m\u001b[0marr\u001b[0m\u001b[0;34m)\u001b[0m\u001b[0;34m.\u001b[0m\u001b[0mall\u001b[0m\u001b[0;34m(\u001b[0m\u001b[0;34m)\u001b[0m\u001b[0;34m:\u001b[0m\u001b[0;34m\u001b[0m\u001b[0;34m\u001b[0m\u001b[0m\n\u001b[0;32m--> 868\u001b[0;31m             \u001b[0;32mraise\u001b[0m \u001b[0mValueError\u001b[0m\u001b[0;34m(\u001b[0m\u001b[0;34m\"Cannot convert non-finite values (NA or inf) to integer\"\u001b[0m\u001b[0;34m)\u001b[0m\u001b[0;34m\u001b[0m\u001b[0;34m\u001b[0m\u001b[0m\n\u001b[0m\u001b[1;32m    869\u001b[0m \u001b[0;34m\u001b[0m\u001b[0m\n\u001b[1;32m    870\u001b[0m     \u001b[0;32melif\u001b[0m \u001b[0mis_object_dtype\u001b[0m\u001b[0;34m(\u001b[0m\u001b[0marr\u001b[0m\u001b[0;34m)\u001b[0m\u001b[0;34m:\u001b[0m\u001b[0;34m\u001b[0m\u001b[0;34m\u001b[0m\u001b[0m\n",
            "\u001b[0;31mValueError\u001b[0m: Cannot convert non-finite values (NA or inf) to integer"
          ]
        }
      ]
    },
    {
      "cell_type": "markdown",
      "metadata": {
        "id": "qOFNtyLbosBG",
        "colab_type": "text"
      },
      "source": [
        "**Analyze by pivoting features**\n",
        "\n",
        "\n",
        "To confirm some of our observations and assumptions, we can quickly analyze our feature correlations by pivoting features against each other. We can only do so at this stage for features which do not have any empty values. It also makes sense doing so only for features which are categorical (Sex), ordinal (Pclass) or discrete (SibSp, Parch) type.\n",
        "\n",
        "Pclass We observe significant correlation (>0.5) among Pclass=1 and Survived (classifying #3). We decide to include this feature in our model.\n",
        "Sex We confirm the observation during problem definition that Sex=female had very high survival rate at 74% (classifying #1).\n",
        "SibSp and Parch These features have zero correlation for certain values. It may be best to derive a feature or a set of features from these individual features (creating #1)."
      ]
    },
    {
      "cell_type": "code",
      "metadata": {
        "id": "qr8skR_norc_",
        "colab_type": "code",
        "outputId": "43ceb616-8687-4ee7-c818-2c034699af54",
        "colab": {
          "base_uri": "https://localhost:8080/",
          "height": 137
        }
      },
      "source": [
        "train[['Pclass', 'Survived']].groupby(['Pclass'], as_index=False).mean().sort_values(by='Survived', ascending=False)"
      ],
      "execution_count": 0,
      "outputs": [
        {
          "output_type": "execute_result",
          "data": {
            "text/html": [
              "<div>\n",
              "<style scoped>\n",
              "    .dataframe tbody tr th:only-of-type {\n",
              "        vertical-align: middle;\n",
              "    }\n",
              "\n",
              "    .dataframe tbody tr th {\n",
              "        vertical-align: top;\n",
              "    }\n",
              "\n",
              "    .dataframe thead th {\n",
              "        text-align: right;\n",
              "    }\n",
              "</style>\n",
              "<table border=\"1\" class=\"dataframe\">\n",
              "  <thead>\n",
              "    <tr style=\"text-align: right;\">\n",
              "      <th></th>\n",
              "      <th>Pclass</th>\n",
              "      <th>Survived</th>\n",
              "    </tr>\n",
              "  </thead>\n",
              "  <tbody>\n",
              "    <tr>\n",
              "      <th>0</th>\n",
              "      <td>1</td>\n",
              "      <td>0.629630</td>\n",
              "    </tr>\n",
              "    <tr>\n",
              "      <th>1</th>\n",
              "      <td>2</td>\n",
              "      <td>0.472826</td>\n",
              "    </tr>\n",
              "    <tr>\n",
              "      <th>2</th>\n",
              "      <td>3</td>\n",
              "      <td>0.242363</td>\n",
              "    </tr>\n",
              "  </tbody>\n",
              "</table>\n",
              "</div>"
            ],
            "text/plain": [
              "   Pclass  Survived\n",
              "0       1  0.629630\n",
              "1       2  0.472826\n",
              "2       3  0.242363"
            ]
          },
          "metadata": {
            "tags": []
          },
          "execution_count": 6
        }
      ]
    },
    {
      "cell_type": "code",
      "metadata": {
        "id": "8m95Wfblo6Yd",
        "colab_type": "code",
        "outputId": "3f2857eb-dec5-47bc-b467-19045a7372e0",
        "colab": {
          "base_uri": "https://localhost:8080/",
          "height": 107
        }
      },
      "source": [
        "train[[\"Sex\", \"Survived\"]].groupby(['Sex'], as_index=False).mean().sort_values(by='Survived', ascending=False)"
      ],
      "execution_count": 0,
      "outputs": [
        {
          "output_type": "execute_result",
          "data": {
            "text/html": [
              "<div>\n",
              "<style scoped>\n",
              "    .dataframe tbody tr th:only-of-type {\n",
              "        vertical-align: middle;\n",
              "    }\n",
              "\n",
              "    .dataframe tbody tr th {\n",
              "        vertical-align: top;\n",
              "    }\n",
              "\n",
              "    .dataframe thead th {\n",
              "        text-align: right;\n",
              "    }\n",
              "</style>\n",
              "<table border=\"1\" class=\"dataframe\">\n",
              "  <thead>\n",
              "    <tr style=\"text-align: right;\">\n",
              "      <th></th>\n",
              "      <th>Sex</th>\n",
              "      <th>Survived</th>\n",
              "    </tr>\n",
              "  </thead>\n",
              "  <tbody>\n",
              "    <tr>\n",
              "      <th>0</th>\n",
              "      <td>female</td>\n",
              "      <td>0.742038</td>\n",
              "    </tr>\n",
              "    <tr>\n",
              "      <th>1</th>\n",
              "      <td>male</td>\n",
              "      <td>0.188908</td>\n",
              "    </tr>\n",
              "  </tbody>\n",
              "</table>\n",
              "</div>"
            ],
            "text/plain": [
              "      Sex  Survived\n",
              "0  female  0.742038\n",
              "1    male  0.188908"
            ]
          },
          "metadata": {
            "tags": []
          },
          "execution_count": 8
        }
      ]
    },
    {
      "cell_type": "code",
      "metadata": {
        "id": "_LSdj5Aoo_-H",
        "colab_type": "code",
        "outputId": "29c43906-0a50-4e88-fccf-2ecb5f83b577",
        "colab": {
          "base_uri": "https://localhost:8080/",
          "height": 256
        }
      },
      "source": [
        "train[[\"SibSp\", \"Survived\"]].groupby(['SibSp'], as_index=False).mean().sort_values(by='Survived', ascending=False)"
      ],
      "execution_count": 0,
      "outputs": [
        {
          "output_type": "execute_result",
          "data": {
            "text/html": [
              "<div>\n",
              "<style scoped>\n",
              "    .dataframe tbody tr th:only-of-type {\n",
              "        vertical-align: middle;\n",
              "    }\n",
              "\n",
              "    .dataframe tbody tr th {\n",
              "        vertical-align: top;\n",
              "    }\n",
              "\n",
              "    .dataframe thead th {\n",
              "        text-align: right;\n",
              "    }\n",
              "</style>\n",
              "<table border=\"1\" class=\"dataframe\">\n",
              "  <thead>\n",
              "    <tr style=\"text-align: right;\">\n",
              "      <th></th>\n",
              "      <th>SibSp</th>\n",
              "      <th>Survived</th>\n",
              "    </tr>\n",
              "  </thead>\n",
              "  <tbody>\n",
              "    <tr>\n",
              "      <th>1</th>\n",
              "      <td>1</td>\n",
              "      <td>0.535885</td>\n",
              "    </tr>\n",
              "    <tr>\n",
              "      <th>2</th>\n",
              "      <td>2</td>\n",
              "      <td>0.464286</td>\n",
              "    </tr>\n",
              "    <tr>\n",
              "      <th>0</th>\n",
              "      <td>0</td>\n",
              "      <td>0.345395</td>\n",
              "    </tr>\n",
              "    <tr>\n",
              "      <th>3</th>\n",
              "      <td>3</td>\n",
              "      <td>0.250000</td>\n",
              "    </tr>\n",
              "    <tr>\n",
              "      <th>4</th>\n",
              "      <td>4</td>\n",
              "      <td>0.166667</td>\n",
              "    </tr>\n",
              "    <tr>\n",
              "      <th>5</th>\n",
              "      <td>5</td>\n",
              "      <td>0.000000</td>\n",
              "    </tr>\n",
              "    <tr>\n",
              "      <th>6</th>\n",
              "      <td>8</td>\n",
              "      <td>0.000000</td>\n",
              "    </tr>\n",
              "  </tbody>\n",
              "</table>\n",
              "</div>"
            ],
            "text/plain": [
              "   SibSp  Survived\n",
              "1      1  0.535885\n",
              "2      2  0.464286\n",
              "0      0  0.345395\n",
              "3      3  0.250000\n",
              "4      4  0.166667\n",
              "5      5  0.000000\n",
              "6      8  0.000000"
            ]
          },
          "metadata": {
            "tags": []
          },
          "execution_count": 9
        }
      ]
    },
    {
      "cell_type": "code",
      "metadata": {
        "id": "bbiQ9GO8pRSm",
        "colab_type": "code",
        "outputId": "25502fc9-f681-46f5-838f-7d930f1bb861",
        "colab": {
          "base_uri": "https://localhost:8080/",
          "height": 256
        }
      },
      "source": [
        "train[[\"Parch\", \"Survived\"]].groupby(['Parch'], as_index=False).mean().sort_values(by='Survived', ascending=False)"
      ],
      "execution_count": 0,
      "outputs": [
        {
          "output_type": "execute_result",
          "data": {
            "text/html": [
              "<div>\n",
              "<style scoped>\n",
              "    .dataframe tbody tr th:only-of-type {\n",
              "        vertical-align: middle;\n",
              "    }\n",
              "\n",
              "    .dataframe tbody tr th {\n",
              "        vertical-align: top;\n",
              "    }\n",
              "\n",
              "    .dataframe thead th {\n",
              "        text-align: right;\n",
              "    }\n",
              "</style>\n",
              "<table border=\"1\" class=\"dataframe\">\n",
              "  <thead>\n",
              "    <tr style=\"text-align: right;\">\n",
              "      <th></th>\n",
              "      <th>Parch</th>\n",
              "      <th>Survived</th>\n",
              "    </tr>\n",
              "  </thead>\n",
              "  <tbody>\n",
              "    <tr>\n",
              "      <th>3</th>\n",
              "      <td>3</td>\n",
              "      <td>0.600000</td>\n",
              "    </tr>\n",
              "    <tr>\n",
              "      <th>1</th>\n",
              "      <td>1</td>\n",
              "      <td>0.550847</td>\n",
              "    </tr>\n",
              "    <tr>\n",
              "      <th>2</th>\n",
              "      <td>2</td>\n",
              "      <td>0.500000</td>\n",
              "    </tr>\n",
              "    <tr>\n",
              "      <th>0</th>\n",
              "      <td>0</td>\n",
              "      <td>0.343658</td>\n",
              "    </tr>\n",
              "    <tr>\n",
              "      <th>5</th>\n",
              "      <td>5</td>\n",
              "      <td>0.200000</td>\n",
              "    </tr>\n",
              "    <tr>\n",
              "      <th>4</th>\n",
              "      <td>4</td>\n",
              "      <td>0.000000</td>\n",
              "    </tr>\n",
              "    <tr>\n",
              "      <th>6</th>\n",
              "      <td>6</td>\n",
              "      <td>0.000000</td>\n",
              "    </tr>\n",
              "  </tbody>\n",
              "</table>\n",
              "</div>"
            ],
            "text/plain": [
              "   Parch  Survived\n",
              "3      3  0.600000\n",
              "1      1  0.550847\n",
              "2      2  0.500000\n",
              "0      0  0.343658\n",
              "5      5  0.200000\n",
              "4      4  0.000000\n",
              "6      6  0.000000"
            ]
          },
          "metadata": {
            "tags": []
          },
          "execution_count": 13
        }
      ]
    },
    {
      "cell_type": "markdown",
      "metadata": {
        "id": "76pcVWl0qCFz",
        "colab_type": "text"
      },
      "source": [
        "**Analyze by visualizing data**\n",
        "\n",
        "Now we can continue confirming some of our assumptions using visualizations for analyzing the data.\n",
        "\n",
        "**Correlating numerical features**\n",
        "\n",
        "\n",
        "Let us start by understanding correlations between numerical features and our solution goal (Survived).\n",
        "\n",
        "A histogram chart is useful for analyzing continous numerical variables like Age where banding or ranges will help identify useful patterns. The histogram can indicate distribution of samples using automatically defined bins or equally ranged bands. This helps us answer questions relating to specific bands (Did infants have better survival rate?)\n",
        "\n",
        "Note that x-axis in historgram visualizations represents the count of samples or passengers.\n",
        "\n",
        "**Observations.**\n",
        "\n",
        "Infants (Age <=4) had high survival rate.\n",
        "Oldest passengers (Age = 80) survived.\n",
        "Large number of 15-25 year olds did not survive.\n",
        "Most passengers are in 15-35 age range.\n",
        "\n",
        "**Decisions.**\n",
        "\n",
        "This simple analysis confirms our assumptions as decisions for subsequent workflow stages.\n",
        "\n",
        "We should consider Age (our assumption classifying #2) in our model training.\n",
        "Complete the Age feature for null values (completing #1).\n",
        "We should band age groups (creating #3)."
      ]
    },
    {
      "cell_type": "code",
      "metadata": {
        "id": "3QMX9PdmqYDR",
        "colab_type": "code",
        "outputId": "fec2b91e-b433-4bf7-bad3-90d04d59bb79",
        "colab": {
          "base_uri": "https://localhost:8080/",
          "height": 241
        }
      },
      "source": [
        "g = sns.FacetGrid(train, col='Survived')\n",
        "g.map(plt.hist, 'Age', bins=20)"
      ],
      "execution_count": 0,
      "outputs": [
        {
          "output_type": "execute_result",
          "data": {
            "text/plain": [
              "<seaborn.axisgrid.FacetGrid at 0x7f9e3e418048>"
            ]
          },
          "metadata": {
            "tags": []
          },
          "execution_count": 11
        },
        {
          "output_type": "display_data",
          "data": {
            "image/png": "[encoded data removed]",
            "text/plain": [
              "<Figure size 432x216 with 2 Axes>"
            ]
          },
          "metadata": {
            "tags": [],
            "needs_background": "light"
          }
        }
      ]
    },
    {
      "cell_type": "markdown",
      "metadata": {
        "id": "MrCRVNfIvZaP",
        "colab_type": "text"
      },
      "source": [
        "**Correlating numerical and ordinal features**\n",
        "\n",
        "\n",
        "We can combine multiple features for identifying correlations using a single plot. This can be done with numerical and categorical features which have numeric values.\n",
        "\n",
        "**Observations.**\n",
        "\n",
        "Pclass=3 had most passengers, however most did not survive. Confirms our classifying assumption #2.\n",
        "Infant passengers in Pclass=2 and Pclass=3 mostly survived. Further qualifies our classifying assumption #2.\n",
        "Most passengers in Pclass=1 survived. Confirms our classifying assumption #3.\n",
        "Pclass varies in terms of Age distribution of passengers.\n",
        "\n",
        "**Decisions.**\n",
        "\n",
        "Consider Pclass for model training."
      ]
    },
    {
      "cell_type": "code",
      "metadata": {
        "id": "QfIKuWutvsf2",
        "colab_type": "code",
        "outputId": "814d4013-e98d-4c47-d1a7-a1c54b4c698b",
        "colab": {
          "base_uri": "https://localhost:8080/",
          "height": 518
        }
      },
      "source": [
        "# grid = sns.FacetGrid(train_df, col='Pclass', hue='Survived')\n",
        "grid = sns.FacetGrid(train, col='Survived', row='Pclass', size=2.2, aspect=1.6)\n",
        "grid.map(plt.hist, 'Age', alpha=.5, bins=20)\n",
        "grid.add_legend();"
      ],
      "execution_count": 0,
      "outputs": [
        {
          "output_type": "stream",
          "text": [
            "/usr/local/lib/python3.6/dist-packages/seaborn/axisgrid.py:243: UserWarning: The `size` parameter has been renamed to `height`; please update your code.\n",
            "  warnings.warn(msg, UserWarning)\n"
          ],
          "name": "stderr"
        },
        {
          "output_type": "display_data",
          "data": {
            "image/png": "[encoded data removed]",
            "text/plain": [
              "<Figure size 514.88x475.2 with 6 Axes>"
            ]
          },
          "metadata": {
            "tags": [],
            "needs_background": "light"
          }
        }
      ]
    },
    {
      "cell_type": "markdown",
      "metadata": {
        "id": "S7ygYbU4wbbw",
        "colab_type": "text"
      },
      "source": [
        "**Correlating categorical features**\n",
        "\n",
        "\n",
        "Now we can correlate categorical features with our solution goal.\n",
        "\n",
        "**Observations.**\n",
        "\n",
        "Female passengers had much better survival rate than males. Confirms classifying (#1).\n",
        "Exception in Embarked=C where males had higher survival rate. This could be a correlation between Pclass and Embarked and in turn Pclass and Survived, not necessarily direct correlation between Embarked and Survived.\n",
        "Males had better survival rate in Pclass=3 when compared with Pclass=2 for C and Q ports. Completing (#2).\n",
        "Ports of embarkation have varying survival rates for Pclass=3 and among male passengers. Correlating (#1).\n",
        "\n",
        "**Decisions.**\n",
        "\n",
        "Add Sex feature to model training.\n",
        "Complete and add Embarked feature to model training."
      ]
    },
    {
      "cell_type": "code",
      "metadata": {
        "id": "LqChBYTxxo4B",
        "colab_type": "code",
        "outputId": "c93f83e4-f5f8-4c55-8d52-8b68dc6957f7",
        "colab": {
          "base_uri": "https://localhost:8080/",
          "height": 622
        }
      },
      "source": [
        "# grid = sns.FacetGrid(train_df, col='Embarked')\n",
        "grid = sns.FacetGrid(train, row='Embarked', size=2.2, aspect=1.6)\n",
        "grid.map(sns.pointplot, 'Pclass', 'Survived', 'Sex', palette='deep')\n",
        "grid.add_legend()"
      ],
      "execution_count": 0,
      "outputs": [
        {
          "output_type": "stream",
          "text": [
            "/usr/local/lib/python3.6/dist-packages/seaborn/axisgrid.py:243: UserWarning: The `size` parameter has been renamed to `height`; please update your code.\n",
            "  warnings.warn(msg, UserWarning)\n",
            "/usr/local/lib/python3.6/dist-packages/seaborn/axisgrid.py:723: UserWarning: Using the pointplot function without specifying `order` is likely to produce an incorrect plot.\n",
            "  warnings.warn(warning)\n",
            "/usr/local/lib/python3.6/dist-packages/seaborn/axisgrid.py:728: UserWarning: Using the pointplot function without specifying `hue_order` is likely to produce an incorrect plot.\n",
            "  warnings.warn(warning)\n"
          ],
          "name": "stderr"
        },
        {
          "output_type": "execute_result",
          "data": {
            "text/plain": [
              "<seaborn.axisgrid.FacetGrid at 0x7f59264a63c8>"
            ]
          },
          "metadata": {
            "tags": []
          },
          "execution_count": 18
        },
        {
          "output_type": "display_data",
          "data": {
            "image/png": "[encoded data removed]",
            "text/plain": [
              "<Figure size 323.94x475.2 with 3 Axes>"
            ]
          },
          "metadata": {
            "tags": [],
            "needs_background": "light"
          }
        }
      ]
    },
    {
      "cell_type": "markdown",
      "metadata": {
        "id": "Yiaz1QE3xzrA",
        "colab_type": "text"
      },
      "source": [
        "**Correlating categorical features**\n",
        "\n",
        "\n",
        "Now we can correlate categorical features with our solution goal.\n",
        "\n",
        "**Observations.**\n",
        "\n",
        "Female passengers had much better survival rate than males. Confirms classifying (#1).\n",
        "Exception in Embarked=C where males had higher survival rate. This could be a correlation between Pclass and Embarked and in turn Pclass and Survived, not necessarily direct correlation between Embarked and Survived.\n",
        "Males had better survival rate in Pclass=3 when compared with Pclass=2 for C and Q ports. Completing (#2).\n",
        "Ports of embarkation have varying survival rates for Pclass=3 and among male passengers. Correlating (#1).\n",
        "\n",
        "\n",
        "**Decisions.**\n",
        "\n",
        "Add Sex feature to model training.\n",
        "Complete and add Embarked feature to model training."
      ]
    },
    {
      "cell_type": "code",
      "metadata": {
        "id": "kLR6p8ZgbgaF",
        "colab_type": "code",
        "outputId": "6326bbd5-6d95-4be6-97dd-60a5fe65bde7",
        "colab": {
          "base_uri": "https://localhost:8080/",
          "height": 241
        }
      },
      "source": [
        "plt.figure(figsize = (14,3))\n",
        "sns.countplot(data = train, y = \"Pclass\", hue = \"Survived\", palette = \"viridis\")\n",
        "plt.title(\"Class\")\n",
        "plt.show()"
      ],
      "execution_count": 0,
      "outputs": [
        {
          "output_type": "display_data",
          "data": {
            "image/png": "[encoded data removed]",
            "text/plain": [
              "<Figure size 1008x216 with 1 Axes>"
            ]
          },
          "metadata": {
            "tags": [],
            "needs_background": "light"
          }
        }
      ]
    },
    {
      "cell_type": "code",
      "metadata": {
        "id": "fJ5RCsZYcVWy",
        "colab_type": "code",
        "outputId": "730597d6-1216-41ce-9be4-86d4f0faa011",
        "colab": {
          "base_uri": "https://localhost:8080/",
          "height": 187
        }
      },
      "source": [
        "plt.figure(figsize = (14,2))\n",
        "sns.countplot(data = train, y = \"Sex\", hue = \"Survived\", palette = \"viridis\")\n",
        "plt.title(\"Gender\")\n",
        "plt.show()"
      ],
      "execution_count": 0,
      "outputs": [
        {
          "output_type": "display_data",
          "data": {
            "image/png": "[encoded data removed]",
            "text/plain": [
              "<Figure size 1008x144 with 1 Axes>"
            ]
          },
          "metadata": {
            "tags": [],
            "needs_background": "light"
          }
        }
      ]
    },
    {
      "cell_type": "code",
      "metadata": {
        "id": "wJcwGjYDcbM_",
        "colab_type": "code",
        "outputId": "d91a275f-1fdf-4e84-f2f5-5fb2767ee0e4",
        "colab": {
          "base_uri": "https://localhost:8080/",
          "height": 241
        }
      },
      "source": [
        "plt.figure(figsize = (14,3))\n",
        "sns.countplot(data = train, y = \"Embarked\", hue = \"Survived\", palette = \"viridis\")\n",
        "plt.title(\"Embarked\")\n",
        "plt.show()"
      ],
      "execution_count": 0,
      "outputs": [
        {
          "output_type": "display_data",
          "data": {
            "image/png": "[encoded data removed]",
            "text/plain": [
              "<Figure size 1008x216 with 1 Axes>"
            ]
          },
          "metadata": {
            "tags": [],
            "needs_background": "light"
          }
        }
      ]
    },
    {
      "cell_type": "markdown",
      "metadata": {
        "id": "9qRe2bbcqByd",
        "colab_type": "text"
      },
      "source": [
        "**Correlation**"
      ]
    },
    {
      "cell_type": "code",
      "metadata": {
        "id": "KR0i2jx7d5vK",
        "colab_type": "code",
        "outputId": "6b570b39-1e57-45b1-ae82-1be5b251c4a9",
        "colab": {
          "base_uri": "https://localhost:8080/",
          "height": 441
        }
      },
      "source": [
        "corr = train.corr()\n",
        "plt.figure(figsize = (8,6))\n",
        "sns.heatmap(corr, cmap = \"coolwarm\", linewidth = 4, linecolor = \"white\", annot=True)\n",
        "plt.title(\"Correlation\")\n",
        "plt.show()"
      ],
      "execution_count": 0,
      "outputs": [
        {
          "output_type": "display_data",
          "data": {
            "image/png": "[encoded data removed]",
            "text/plain": [
              "<Figure size 576x432 with 2 Axes>"
            ]
          },
          "metadata": {
            "tags": [],
            "needs_background": "light"
          }
        }
      ]
    },
    {
      "cell_type": "code",
      "metadata": {
        "id": "MbV0rGBWq2RE",
        "colab_type": "code",
        "outputId": "6b6b4afd-cc4f-47a7-b869-28910acfd65d",
        "colab": {
          "base_uri": "https://localhost:8080/",
          "height": 800
        }
      },
      "source": [
        "pair_plot = train.dropna()\n",
        "sns.pairplot(pair_plot, height=1.5)"
      ],
      "execution_count": 0,
      "outputs": [
        {
          "output_type": "execute_result",
          "data": {
            "text/plain": [
              "<seaborn.axisgrid.PairGrid at 0x7f5924be1048>"
            ]
          },
          "metadata": {
            "tags": []
          },
          "execution_count": 36
        },
        {
          "output_type": "display_data",
          "data": {
            "image/png": "[encoded data removed]",
            "text/plain": [
              "<Figure size 756x756 with 56 Axes>"
            ]
          },
          "metadata": {
            "tags": [],
            "needs_background": "light"
          }
        }
      ]
    },
    {
      "cell_type": "code",
      "metadata": {
        "id": "gVHEVHPWWEN-",
        "colab_type": "code",
        "colab": {}
      },
      "source": [
        "train_data = train.drop('Survived', axis=1)\n",
        "X_train = train_data.values.astype('float32') \n",
        "y_train = train.iloc[:, 1].values.astype('float32')\n",
        "\n",
        "y_train = to_categorical(y_train, num_classes = 2)"
      ],
      "execution_count": 0,
      "outputs": []
    },
    {
      "cell_type": "code",
      "metadata": {
        "id": "uwEFvVr2XYhv",
        "colab_type": "code",
        "outputId": "e4cd3a45-dc4c-49ba-9beb-51f33bea05bb",
        "colab": {
          "base_uri": "https://localhost:8080/",
          "height": 284
        }
      },
      "source": [
        "print(X_train)\n",
        "print('\\n')\n",
        "print(y_train)"
      ],
      "execution_count": 0,
      "outputs": [
        {
          "output_type": "stream",
          "text": [
            "[[299.       1.       0.     ...   0.      30.5      0.    ]\n",
            " [885.       3.       0.     ...   0.       7.05     0.    ]\n",
            " [248.       2.       1.     ...   2.      14.5      2.    ]\n",
            " ...\n",
            " [861.       3.       0.     ...   0.      14.1083   0.    ]\n",
            " [436.       1.       1.     ...   2.     120.       1.    ]\n",
            " [103.       1.       0.     ...   1.      77.2875   0.    ]]\n",
            "\n",
            "\n",
            "[[0. 1.]\n",
            " [1. 0.]\n",
            " [0. 1.]\n",
            " ...\n",
            " [1. 0.]\n",
            " [0. 1.]\n",
            " [1. 0.]]\n"
          ],
          "name": "stdout"
        }
      ]
    },
    {
      "cell_type": "code",
      "metadata": {
        "id": "wFQaLrAHZE4G",
        "colab_type": "code",
        "colab": {}
      },
      "source": [
        "X_train, X_val, y_train, y_val = train_test_split(X_train, y_train, test_size = 0.25, random_state=42)\n",
        "\n",
        "X_val = X_val.astype(np.float32)\n",
        "y_val = y_val.astype(np.float32)"
      ],
      "execution_count": 0,
      "outputs": []
    },
    {
      "cell_type": "code",
      "metadata": {
        "id": "vGvCVugOX9Te",
        "colab_type": "code",
        "colab": {}
      },
      "source": [
        "# Build Model\n",
        "def model():\n",
        "    \n",
        "    model = tf.keras.Sequential()\n",
        "\n",
        "    model.add(tf.keras.layers.Flatten())\n",
        "    model.add(tf.keras.layers.Dense(512, activation = \"relu\"))\n",
        "    model.add(tf.keras.layers.Dropout(0.5))\n",
        "    model.add(tf.keras.layers.Dense(2, activation = \"sigmoid\"))\n",
        "    \n",
        "    return model\n",
        "\n",
        "model = model() "
      ],
      "execution_count": 0,
      "outputs": []
    },
    {
      "cell_type": "code",
      "metadata": {
        "id": "4L97d2EeYwOZ",
        "colab_type": "code",
        "colab": {}
      },
      "source": [
        "# Compile the model\n",
        "model.compile(optimizer = 'adam' , loss = \"binary_crossentropy\", metrics=[\"accuracy\"])"
      ],
      "execution_count": 0,
      "outputs": []
    },
    {
      "cell_type": "code",
      "metadata": {
        "id": "PkyP-Pg3Y3O6",
        "colab_type": "code",
        "outputId": "62a02d97-b983-4d79-dc6c-4484bd48dcad",
        "colab": {
          "base_uri": "https://localhost:8080/",
          "height": 1000
        }
      },
      "source": [
        "history = model.fit(X_train, y_train, epochs=500, validation_data = (X_val, y_val))"
      ],
      "execution_count": 0,
      "outputs": [
        {
          "output_type": "stream",
          "text": [
            "Epoch 1/500\n",
            "16/16 [==============================] - 0s 8ms/step - loss: 12.5101 - accuracy: 0.5150 - val_loss: 5.0388 - val_accuracy: 0.5928\n",
            "Epoch 2/500\n",
            "16/16 [==============================] - 0s 4ms/step - loss: 11.0300 - accuracy: 0.5429 - val_loss: 2.6572 - val_accuracy: 0.6647\n",
            "Epoch 3/500\n",
            "16/16 [==============================] - 0s 4ms/step - loss: 8.6494 - accuracy: 0.6088 - val_loss: 1.7084 - val_accuracy: 0.6108\n",
            "Epoch 4/500\n",
            "16/16 [==============================] - 0s 4ms/step - loss: 8.3581 - accuracy: 0.5808 - val_loss: 2.3831 - val_accuracy: 0.6826\n",
            "Epoch 5/500\n",
            "16/16 [==============================] - 0s 4ms/step - loss: 7.8171 - accuracy: 0.5649 - val_loss: 1.8276 - val_accuracy: 0.6527\n",
            "Epoch 6/500\n",
            "16/16 [==============================] - 0s 4ms/step - loss: 6.6113 - accuracy: 0.5709 - val_loss: 1.3592 - val_accuracy: 0.6467\n",
            "Epoch 7/500\n",
            "16/16 [==============================] - 0s 4ms/step - loss: 6.2373 - accuracy: 0.5928 - val_loss: 1.3442 - val_accuracy: 0.6707\n",
            "Epoch 8/500\n",
            "16/16 [==============================] - 0s 4ms/step - loss: 5.4916 - accuracy: 0.6008 - val_loss: 1.1913 - val_accuracy: 0.6826\n",
            "Epoch 9/500\n",
            "16/16 [==============================] - 0s 4ms/step - loss: 4.8667 - accuracy: 0.5868 - val_loss: 1.9516 - val_accuracy: 0.6766\n",
            "Epoch 10/500\n",
            "16/16 [==============================] - 0s 4ms/step - loss: 5.0596 - accuracy: 0.5569 - val_loss: 0.9958 - val_accuracy: 0.6886\n",
            "Epoch 11/500\n",
            "16/16 [==============================] - 0s 4ms/step - loss: 4.6584 - accuracy: 0.5908 - val_loss: 1.1240 - val_accuracy: 0.6886\n",
            "Epoch 12/500\n",
            "16/16 [==============================] - 0s 4ms/step - loss: 4.3353 - accuracy: 0.5888 - val_loss: 0.8961 - val_accuracy: 0.7186\n",
            "Epoch 13/500\n",
            "16/16 [==============================] - 0s 4ms/step - loss: 3.7740 - accuracy: 0.5988 - val_loss: 0.9553 - val_accuracy: 0.7006\n",
            "Epoch 14/500\n",
            "16/16 [==============================] - 0s 4ms/step - loss: 3.1933 - accuracy: 0.6208 - val_loss: 0.8963 - val_accuracy: 0.7066\n",
            "Epoch 15/500\n",
            "16/16 [==============================] - 0s 4ms/step - loss: 2.7725 - accuracy: 0.6168 - val_loss: 1.1585 - val_accuracy: 0.6826\n",
            "Epoch 16/500\n",
            "16/16 [==============================] - 0s 4ms/step - loss: 2.7052 - accuracy: 0.6088 - val_loss: 0.9040 - val_accuracy: 0.7186\n",
            "Epoch 17/500\n",
            "16/16 [==============================] - 0s 4ms/step - loss: 2.3596 - accuracy: 0.6487 - val_loss: 0.9247 - val_accuracy: 0.6826\n",
            "Epoch 18/500\n",
            "16/16 [==============================] - 0s 4ms/step - loss: 2.0916 - accuracy: 0.6687 - val_loss: 0.7122 - val_accuracy: 0.6946\n",
            "Epoch 19/500\n",
            "16/16 [==============================] - 0s 4ms/step - loss: 1.7254 - accuracy: 0.6527 - val_loss: 0.7163 - val_accuracy: 0.6946\n",
            "Epoch 20/500\n",
            "16/16 [==============================] - 0s 6ms/step - loss: 1.8732 - accuracy: 0.6507 - val_loss: 0.6275 - val_accuracy: 0.7665\n",
            "Epoch 21/500\n",
            "16/16 [==============================] - 0s 4ms/step - loss: 1.5508 - accuracy: 0.6527 - val_loss: 0.6913 - val_accuracy: 0.7066\n",
            "Epoch 22/500\n",
            "16/16 [==============================] - 0s 4ms/step - loss: 1.2309 - accuracy: 0.7106 - val_loss: 0.5931 - val_accuracy: 0.7605\n",
            "Epoch 23/500\n",
            "16/16 [==============================] - 0s 4ms/step - loss: 1.2019 - accuracy: 0.6906 - val_loss: 0.5889 - val_accuracy: 0.7006\n",
            "Epoch 24/500\n",
            "16/16 [==============================] - 0s 4ms/step - loss: 1.3874 - accuracy: 0.6327 - val_loss: 0.5646 - val_accuracy: 0.7305\n",
            "Epoch 25/500\n",
            "16/16 [==============================] - 0s 4ms/step - loss: 1.1272 - accuracy: 0.6747 - val_loss: 0.5067 - val_accuracy: 0.7485\n",
            "Epoch 26/500\n",
            "16/16 [==============================] - 0s 4ms/step - loss: 0.9881 - accuracy: 0.6946 - val_loss: 0.4894 - val_accuracy: 0.7485\n",
            "Epoch 27/500\n",
            "16/16 [==============================] - 0s 4ms/step - loss: 0.9163 - accuracy: 0.6846 - val_loss: 0.5305 - val_accuracy: 0.7246\n",
            "Epoch 28/500\n",
            "16/16 [==============================] - 0s 4ms/step - loss: 0.7756 - accuracy: 0.7146 - val_loss: 0.5014 - val_accuracy: 0.7425\n",
            "Epoch 29/500\n",
            "16/16 [==============================] - 0s 4ms/step - loss: 0.8701 - accuracy: 0.6886 - val_loss: 0.5060 - val_accuracy: 0.7126\n",
            "Epoch 30/500\n",
            "16/16 [==============================] - 0s 4ms/step - loss: 0.7809 - accuracy: 0.7006 - val_loss: 0.4870 - val_accuracy: 0.7485\n",
            "Epoch 31/500\n",
            "16/16 [==============================] - 0s 4ms/step - loss: 0.6914 - accuracy: 0.7166 - val_loss: 0.4835 - val_accuracy: 0.7665\n",
            "Epoch 32/500\n",
            "16/16 [==============================] - 0s 4ms/step - loss: 0.6746 - accuracy: 0.7206 - val_loss: 0.5135 - val_accuracy: 0.7126\n",
            "Epoch 33/500\n",
            "16/16 [==============================] - 0s 4ms/step - loss: 0.6351 - accuracy: 0.7305 - val_loss: 0.5117 - val_accuracy: 0.6946\n",
            "Epoch 34/500\n",
            "16/16 [==============================] - 0s 4ms/step - loss: 0.6306 - accuracy: 0.7385 - val_loss: 0.4861 - val_accuracy: 0.7605\n",
            "Epoch 35/500\n",
            "16/16 [==============================] - 0s 16ms/step - loss: 0.6277 - accuracy: 0.7425 - val_loss: 0.4960 - val_accuracy: 0.7665\n",
            "Epoch 36/500\n",
            "16/16 [==============================] - 0s 4ms/step - loss: 0.5675 - accuracy: 0.7545 - val_loss: 0.4765 - val_accuracy: 0.7784\n",
            "Epoch 37/500\n",
            "16/16 [==============================] - 0s 4ms/step - loss: 0.6040 - accuracy: 0.7405 - val_loss: 0.4707 - val_accuracy: 0.7665\n",
            "Epoch 38/500\n",
            "16/16 [==============================] - 0s 4ms/step - loss: 0.5715 - accuracy: 0.7525 - val_loss: 0.5882 - val_accuracy: 0.6707\n",
            "Epoch 39/500\n",
            "16/16 [==============================] - 0s 4ms/step - loss: 0.5677 - accuracy: 0.7265 - val_loss: 0.4724 - val_accuracy: 0.7844\n",
            "Epoch 40/500\n",
            "16/16 [==============================] - 0s 4ms/step - loss: 0.5543 - accuracy: 0.7325 - val_loss: 0.5128 - val_accuracy: 0.7066\n",
            "Epoch 41/500\n",
            "16/16 [==============================] - 0s 4ms/step - loss: 0.5622 - accuracy: 0.7445 - val_loss: 0.5041 - val_accuracy: 0.7485\n",
            "Epoch 42/500\n",
            "16/16 [==============================] - 0s 4ms/step - loss: 0.5597 - accuracy: 0.7485 - val_loss: 0.4839 - val_accuracy: 0.7725\n",
            "Epoch 43/500\n",
            "16/16 [==============================] - 0s 4ms/step - loss: 0.5261 - accuracy: 0.7565 - val_loss: 0.5294 - val_accuracy: 0.7425\n",
            "Epoch 44/500\n",
            "16/16 [==============================] - 0s 5ms/step - loss: 0.5965 - accuracy: 0.7385 - val_loss: 0.4950 - val_accuracy: 0.7665\n",
            "Epoch 45/500\n",
            "16/16 [==============================] - 0s 4ms/step - loss: 0.5732 - accuracy: 0.7525 - val_loss: 0.4777 - val_accuracy: 0.7665\n",
            "Epoch 46/500\n",
            "16/16 [==============================] - 0s 4ms/step - loss: 0.5434 - accuracy: 0.7725 - val_loss: 0.4905 - val_accuracy: 0.7126\n",
            "Epoch 47/500\n",
            "16/16 [==============================] - 0s 4ms/step - loss: 0.5415 - accuracy: 0.7745 - val_loss: 0.4947 - val_accuracy: 0.7186\n",
            "Epoch 48/500\n",
            "16/16 [==============================] - 0s 4ms/step - loss: 0.5179 - accuracy: 0.7445 - val_loss: 0.5404 - val_accuracy: 0.6886\n",
            "Epoch 49/500\n",
            "16/16 [==============================] - 0s 4ms/step - loss: 0.5271 - accuracy: 0.7605 - val_loss: 0.4731 - val_accuracy: 0.7964\n",
            "Epoch 50/500\n",
            "16/16 [==============================] - 0s 4ms/step - loss: 0.5407 - accuracy: 0.7665 - val_loss: 0.5358 - val_accuracy: 0.7365\n",
            "Epoch 51/500\n",
            "16/16 [==============================] - 0s 4ms/step - loss: 0.5480 - accuracy: 0.7545 - val_loss: 0.5170 - val_accuracy: 0.7365\n",
            "Epoch 52/500\n",
            "16/16 [==============================] - 0s 4ms/step - loss: 0.5115 - accuracy: 0.7904 - val_loss: 0.4741 - val_accuracy: 0.7904\n",
            "Epoch 53/500\n",
            "16/16 [==============================] - 0s 4ms/step - loss: 0.5005 - accuracy: 0.7864 - val_loss: 0.4774 - val_accuracy: 0.7784\n",
            "Epoch 54/500\n",
            "16/16 [==============================] - 0s 4ms/step - loss: 0.5157 - accuracy: 0.7745 - val_loss: 0.4739 - val_accuracy: 0.7844\n",
            "Epoch 55/500\n",
            "16/16 [==============================] - 0s 4ms/step - loss: 0.5191 - accuracy: 0.7625 - val_loss: 0.4719 - val_accuracy: 0.7784\n",
            "Epoch 56/500\n",
            "16/16 [==============================] - 0s 4ms/step - loss: 0.5198 - accuracy: 0.7725 - val_loss: 0.4739 - val_accuracy: 0.7844\n",
            "Epoch 57/500\n",
            "16/16 [==============================] - 0s 4ms/step - loss: 0.5007 - accuracy: 0.7804 - val_loss: 0.4746 - val_accuracy: 0.7844\n",
            "Epoch 58/500\n",
            "16/16 [==============================] - 0s 4ms/step - loss: 0.4941 - accuracy: 0.7804 - val_loss: 0.4737 - val_accuracy: 0.7725\n",
            "Epoch 59/500\n",
            "16/16 [==============================] - 0s 4ms/step - loss: 0.5033 - accuracy: 0.7904 - val_loss: 0.4652 - val_accuracy: 0.7784\n",
            "Epoch 60/500\n",
            "16/16 [==============================] - 0s 4ms/step - loss: 0.4960 - accuracy: 0.7705 - val_loss: 0.4691 - val_accuracy: 0.7844\n",
            "Epoch 61/500\n",
            "16/16 [==============================] - 0s 4ms/step - loss: 0.5084 - accuracy: 0.7645 - val_loss: 0.4998 - val_accuracy: 0.7725\n",
            "Epoch 62/500\n",
            "16/16 [==============================] - 0s 4ms/step - loss: 0.5154 - accuracy: 0.7585 - val_loss: 0.4984 - val_accuracy: 0.7725\n",
            "Epoch 63/500\n",
            "16/16 [==============================] - 0s 4ms/step - loss: 0.4996 - accuracy: 0.7784 - val_loss: 0.4614 - val_accuracy: 0.7725\n",
            "Epoch 64/500\n",
            "16/16 [==============================] - 0s 4ms/step - loss: 0.4947 - accuracy: 0.7844 - val_loss: 0.4862 - val_accuracy: 0.7545\n",
            "Epoch 65/500\n",
            "16/16 [==============================] - 0s 4ms/step - loss: 0.5101 - accuracy: 0.7725 - val_loss: 0.4684 - val_accuracy: 0.7605\n",
            "Epoch 66/500\n",
            "16/16 [==============================] - 0s 4ms/step - loss: 0.4949 - accuracy: 0.7784 - val_loss: 0.4648 - val_accuracy: 0.7784\n",
            "Epoch 67/500\n",
            "16/16 [==============================] - 0s 4ms/step - loss: 0.4840 - accuracy: 0.7864 - val_loss: 0.4748 - val_accuracy: 0.7665\n",
            "Epoch 68/500\n",
            "16/16 [==============================] - 0s 4ms/step - loss: 0.4961 - accuracy: 0.7864 - val_loss: 0.4803 - val_accuracy: 0.7665\n",
            "Epoch 69/500\n",
            "16/16 [==============================] - 0s 4ms/step - loss: 0.5354 - accuracy: 0.7665 - val_loss: 0.5026 - val_accuracy: 0.7605\n",
            "Epoch 70/500\n",
            "16/16 [==============================] - 0s 4ms/step - loss: 0.4888 - accuracy: 0.7924 - val_loss: 0.4655 - val_accuracy: 0.7964\n",
            "Epoch 71/500\n",
            "16/16 [==============================] - 0s 4ms/step - loss: 0.4850 - accuracy: 0.7784 - val_loss: 0.4691 - val_accuracy: 0.7844\n",
            "Epoch 72/500\n",
            "16/16 [==============================] - 0s 4ms/step - loss: 0.5053 - accuracy: 0.7844 - val_loss: 0.5365 - val_accuracy: 0.7066\n",
            "Epoch 73/500\n",
            "16/16 [==============================] - 0s 4ms/step - loss: 0.5325 - accuracy: 0.7445 - val_loss: 0.5029 - val_accuracy: 0.7365\n",
            "Epoch 74/500\n",
            "16/16 [==============================] - 0s 4ms/step - loss: 0.4969 - accuracy: 0.7705 - val_loss: 0.4922 - val_accuracy: 0.7545\n",
            "Epoch 75/500\n",
            "16/16 [==============================] - 0s 4ms/step - loss: 0.4923 - accuracy: 0.7705 - val_loss: 0.4763 - val_accuracy: 0.7545\n",
            "Epoch 76/500\n",
            "16/16 [==============================] - 0s 4ms/step - loss: 0.4790 - accuracy: 0.8044 - val_loss: 0.4658 - val_accuracy: 0.8024\n",
            "Epoch 77/500\n",
            "16/16 [==============================] - 0s 4ms/step - loss: 0.5239 - accuracy: 0.7824 - val_loss: 0.4999 - val_accuracy: 0.7605\n",
            "Epoch 78/500\n",
            "16/16 [==============================] - 0s 4ms/step - loss: 0.5235 - accuracy: 0.7585 - val_loss: 0.4881 - val_accuracy: 0.7904\n",
            "Epoch 79/500\n",
            "16/16 [==============================] - 0s 4ms/step - loss: 0.4892 - accuracy: 0.7864 - val_loss: 0.5109 - val_accuracy: 0.7246\n",
            "Epoch 80/500\n",
            "16/16 [==============================] - 0s 4ms/step - loss: 0.4755 - accuracy: 0.7764 - val_loss: 0.4625 - val_accuracy: 0.7844\n",
            "Epoch 81/500\n",
            "16/16 [==============================] - 0s 4ms/step - loss: 0.4849 - accuracy: 0.7705 - val_loss: 0.5235 - val_accuracy: 0.7665\n",
            "Epoch 82/500\n",
            "16/16 [==============================] - 0s 4ms/step - loss: 0.5577 - accuracy: 0.7365 - val_loss: 0.5144 - val_accuracy: 0.7665\n",
            "Epoch 83/500\n",
            "16/16 [==============================] - 0s 4ms/step - loss: 0.4882 - accuracy: 0.8004 - val_loss: 0.4675 - val_accuracy: 0.7844\n",
            "Epoch 84/500\n",
            "16/16 [==============================] - 0s 4ms/step - loss: 0.4869 - accuracy: 0.7844 - val_loss: 0.4622 - val_accuracy: 0.7665\n",
            "Epoch 85/500\n",
            "16/16 [==============================] - 0s 4ms/step - loss: 0.4648 - accuracy: 0.8024 - val_loss: 0.4660 - val_accuracy: 0.7904\n",
            "Epoch 86/500\n",
            "16/16 [==============================] - 0s 4ms/step - loss: 0.4903 - accuracy: 0.7565 - val_loss: 0.4925 - val_accuracy: 0.7725\n",
            "Epoch 87/500\n",
            "16/16 [==============================] - 0s 4ms/step - loss: 0.4974 - accuracy: 0.7864 - val_loss: 0.4505 - val_accuracy: 0.7964\n",
            "Epoch 88/500\n",
            "16/16 [==============================] - 0s 4ms/step - loss: 0.4844 - accuracy: 0.8104 - val_loss: 0.4488 - val_accuracy: 0.8024\n",
            "Epoch 89/500\n",
            "16/16 [==============================] - 0s 5ms/step - loss: 0.4708 - accuracy: 0.7844 - val_loss: 0.4525 - val_accuracy: 0.7964\n",
            "Epoch 90/500\n",
            "16/16 [==============================] - 0s 4ms/step - loss: 0.4665 - accuracy: 0.8044 - val_loss: 0.4530 - val_accuracy: 0.8024\n",
            "Epoch 91/500\n",
            "16/16 [==============================] - 0s 4ms/step - loss: 0.4698 - accuracy: 0.8204 - val_loss: 0.4634 - val_accuracy: 0.7784\n",
            "Epoch 92/500\n",
            "16/16 [==============================] - 0s 4ms/step - loss: 0.5018 - accuracy: 0.7784 - val_loss: 0.4664 - val_accuracy: 0.8024\n",
            "Epoch 93/500\n",
            "16/16 [==============================] - 0s 4ms/step - loss: 0.4794 - accuracy: 0.7864 - val_loss: 0.4603 - val_accuracy: 0.7964\n",
            "Epoch 94/500\n",
            "16/16 [==============================] - 0s 4ms/step - loss: 0.4882 - accuracy: 0.7685 - val_loss: 0.4665 - val_accuracy: 0.7665\n",
            "Epoch 95/500\n",
            "16/16 [==============================] - 0s 4ms/step - loss: 0.4905 - accuracy: 0.7844 - val_loss: 0.4754 - val_accuracy: 0.7665\n",
            "Epoch 96/500\n",
            "16/16 [==============================] - 0s 5ms/step - loss: 0.4644 - accuracy: 0.7964 - val_loss: 0.4656 - val_accuracy: 0.7844\n",
            "Epoch 97/500\n",
            "16/16 [==============================] - 0s 4ms/step - loss: 0.4652 - accuracy: 0.7884 - val_loss: 0.4950 - val_accuracy: 0.7784\n",
            "Epoch 98/500\n",
            "16/16 [==============================] - 0s 4ms/step - loss: 0.4747 - accuracy: 0.7964 - val_loss: 0.4517 - val_accuracy: 0.8024\n",
            "Epoch 99/500\n",
            "16/16 [==============================] - 0s 4ms/step - loss: 0.4683 - accuracy: 0.8024 - val_loss: 0.4681 - val_accuracy: 0.7725\n",
            "Epoch 100/500\n",
            "16/16 [==============================] - 0s 4ms/step - loss: 0.4845 - accuracy: 0.7844 - val_loss: 0.4661 - val_accuracy: 0.7725\n",
            "Epoch 101/500\n",
            "16/16 [==============================] - 0s 4ms/step - loss: 0.4744 - accuracy: 0.7904 - val_loss: 0.4739 - val_accuracy: 0.7725\n",
            "Epoch 102/500\n",
            "16/16 [==============================] - 0s 4ms/step - loss: 0.4586 - accuracy: 0.8024 - val_loss: 0.4811 - val_accuracy: 0.7784\n",
            "Epoch 103/500\n",
            "16/16 [==============================] - 0s 4ms/step - loss: 0.5047 - accuracy: 0.7705 - val_loss: 0.5452 - val_accuracy: 0.7305\n",
            "Epoch 104/500\n",
            "16/16 [==============================] - 0s 5ms/step - loss: 0.5062 - accuracy: 0.7844 - val_loss: 0.4671 - val_accuracy: 0.7844\n",
            "Epoch 105/500\n",
            "16/16 [==============================] - 0s 4ms/step - loss: 0.4669 - accuracy: 0.7924 - val_loss: 0.4738 - val_accuracy: 0.7725\n",
            "Epoch 106/500\n",
            "16/16 [==============================] - 0s 4ms/step - loss: 0.5034 - accuracy: 0.7725 - val_loss: 0.4670 - val_accuracy: 0.7665\n",
            "Epoch 107/500\n",
            "16/16 [==============================] - 0s 4ms/step - loss: 0.4860 - accuracy: 0.7824 - val_loss: 0.4622 - val_accuracy: 0.7725\n",
            "Epoch 108/500\n",
            "16/16 [==============================] - 0s 4ms/step - loss: 0.4782 - accuracy: 0.7745 - val_loss: 0.4754 - val_accuracy: 0.7725\n",
            "Epoch 109/500\n",
            "16/16 [==============================] - 0s 4ms/step - loss: 0.4707 - accuracy: 0.8084 - val_loss: 0.4588 - val_accuracy: 0.7844\n",
            "Epoch 110/500\n",
            "16/16 [==============================] - 0s 4ms/step - loss: 0.4648 - accuracy: 0.7784 - val_loss: 0.4644 - val_accuracy: 0.7784\n",
            "Epoch 111/500\n",
            "16/16 [==============================] - 0s 4ms/step - loss: 0.4654 - accuracy: 0.8024 - val_loss: 0.4826 - val_accuracy: 0.7725\n",
            "Epoch 112/500\n",
            "16/16 [==============================] - 0s 4ms/step - loss: 0.4743 - accuracy: 0.7824 - val_loss: 0.4842 - val_accuracy: 0.7844\n",
            "Epoch 113/500\n",
            "16/16 [==============================] - 0s 4ms/step - loss: 0.4839 - accuracy: 0.7824 - val_loss: 0.4777 - val_accuracy: 0.7784\n",
            "Epoch 114/500\n",
            "16/16 [==============================] - 0s 4ms/step - loss: 0.4730 - accuracy: 0.8004 - val_loss: 0.4518 - val_accuracy: 0.8084\n",
            "Epoch 115/500\n",
            "16/16 [==============================] - 0s 4ms/step - loss: 0.4492 - accuracy: 0.7944 - val_loss: 0.4600 - val_accuracy: 0.8084\n",
            "Epoch 116/500\n",
            "16/16 [==============================] - 0s 4ms/step - loss: 0.4569 - accuracy: 0.7944 - val_loss: 0.4548 - val_accuracy: 0.7844\n",
            "Epoch 117/500\n",
            "16/16 [==============================] - 0s 4ms/step - loss: 0.4660 - accuracy: 0.7884 - val_loss: 0.4658 - val_accuracy: 0.7784\n",
            "Epoch 118/500\n",
            "16/16 [==============================] - 0s 4ms/step - loss: 0.4863 - accuracy: 0.7864 - val_loss: 0.4824 - val_accuracy: 0.7605\n",
            "Epoch 119/500\n",
            "16/16 [==============================] - 0s 4ms/step - loss: 0.4593 - accuracy: 0.7864 - val_loss: 0.4623 - val_accuracy: 0.7844\n",
            "Epoch 120/500\n",
            "16/16 [==============================] - 0s 4ms/step - loss: 0.4619 - accuracy: 0.7864 - val_loss: 0.4620 - val_accuracy: 0.7844\n",
            "Epoch 121/500\n",
            "16/16 [==============================] - 0s 4ms/step - loss: 0.4610 - accuracy: 0.7844 - val_loss: 0.4582 - val_accuracy: 0.7904\n",
            "Epoch 122/500\n",
            "16/16 [==============================] - 0s 4ms/step - loss: 0.4672 - accuracy: 0.7944 - val_loss: 0.4671 - val_accuracy: 0.8024\n",
            "Epoch 123/500\n",
            "16/16 [==============================] - 0s 4ms/step - loss: 0.4851 - accuracy: 0.7924 - val_loss: 0.4649 - val_accuracy: 0.7844\n",
            "Epoch 124/500\n",
            "16/16 [==============================] - 0s 4ms/step - loss: 0.4439 - accuracy: 0.8004 - val_loss: 0.4560 - val_accuracy: 0.7844\n",
            "Epoch 125/500\n",
            "16/16 [==============================] - 0s 4ms/step - loss: 0.4807 - accuracy: 0.8024 - val_loss: 0.4681 - val_accuracy: 0.7844\n",
            "Epoch 126/500\n",
            "16/16 [==============================] - 0s 4ms/step - loss: 0.4622 - accuracy: 0.7964 - val_loss: 0.5560 - val_accuracy: 0.7006\n",
            "Epoch 127/500\n",
            "16/16 [==============================] - 0s 4ms/step - loss: 0.5012 - accuracy: 0.7725 - val_loss: 0.5316 - val_accuracy: 0.6946\n",
            "Epoch 128/500\n",
            "16/16 [==============================] - 0s 4ms/step - loss: 0.5618 - accuracy: 0.7425 - val_loss: 0.5674 - val_accuracy: 0.6707\n",
            "Epoch 129/500\n",
            "16/16 [==============================] - 0s 4ms/step - loss: 0.4955 - accuracy: 0.7645 - val_loss: 0.4854 - val_accuracy: 0.7665\n",
            "Epoch 130/500\n",
            "16/16 [==============================] - 0s 4ms/step - loss: 0.4836 - accuracy: 0.7685 - val_loss: 0.4689 - val_accuracy: 0.7844\n",
            "Epoch 131/500\n",
            "16/16 [==============================] - 0s 4ms/step - loss: 0.4580 - accuracy: 0.7784 - val_loss: 0.4652 - val_accuracy: 0.7725\n",
            "Epoch 132/500\n",
            "16/16 [==============================] - 0s 4ms/step - loss: 0.4813 - accuracy: 0.7804 - val_loss: 0.4632 - val_accuracy: 0.7844\n",
            "Epoch 133/500\n",
            "16/16 [==============================] - 0s 4ms/step - loss: 0.4636 - accuracy: 0.7944 - val_loss: 0.4562 - val_accuracy: 0.7904\n",
            "Epoch 134/500\n",
            "16/16 [==============================] - 0s 4ms/step - loss: 0.4733 - accuracy: 0.7944 - val_loss: 0.4591 - val_accuracy: 0.7904\n",
            "Epoch 135/500\n",
            "16/16 [==============================] - 0s 5ms/step - loss: 0.4664 - accuracy: 0.8044 - val_loss: 0.4637 - val_accuracy: 0.7665\n",
            "Epoch 136/500\n",
            "16/16 [==============================] - 0s 4ms/step - loss: 0.4579 - accuracy: 0.8024 - val_loss: 0.4544 - val_accuracy: 0.7725\n",
            "Epoch 137/500\n",
            "16/16 [==============================] - 0s 4ms/step - loss: 0.4527 - accuracy: 0.8004 - val_loss: 0.4592 - val_accuracy: 0.7844\n",
            "Epoch 138/500\n",
            "16/16 [==============================] - 0s 4ms/step - loss: 0.4648 - accuracy: 0.8144 - val_loss: 0.4601 - val_accuracy: 0.8263\n",
            "Epoch 139/500\n",
            "16/16 [==============================] - 0s 4ms/step - loss: 0.4550 - accuracy: 0.7944 - val_loss: 0.4631 - val_accuracy: 0.7964\n",
            "Epoch 140/500\n",
            "16/16 [==============================] - 0s 4ms/step - loss: 0.4616 - accuracy: 0.8044 - val_loss: 0.4897 - val_accuracy: 0.7904\n",
            "Epoch 141/500\n",
            "16/16 [==============================] - 0s 4ms/step - loss: 0.5051 - accuracy: 0.7824 - val_loss: 0.4835 - val_accuracy: 0.7964\n",
            "Epoch 142/500\n",
            "16/16 [==============================] - 0s 4ms/step - loss: 0.4904 - accuracy: 0.7864 - val_loss: 0.4882 - val_accuracy: 0.7784\n",
            "Epoch 143/500\n",
            "16/16 [==============================] - 0s 4ms/step - loss: 0.4665 - accuracy: 0.7844 - val_loss: 0.4628 - val_accuracy: 0.8084\n",
            "Epoch 144/500\n",
            "16/16 [==============================] - 0s 4ms/step - loss: 0.4776 - accuracy: 0.7944 - val_loss: 0.4846 - val_accuracy: 0.7784\n",
            "Epoch 145/500\n",
            "16/16 [==============================] - 0s 5ms/step - loss: 0.4635 - accuracy: 0.7924 - val_loss: 0.4817 - val_accuracy: 0.7784\n",
            "Epoch 146/500\n",
            "16/16 [==============================] - 0s 4ms/step - loss: 0.4646 - accuracy: 0.7964 - val_loss: 0.4714 - val_accuracy: 0.7844\n",
            "Epoch 147/500\n",
            "16/16 [==============================] - 0s 4ms/step - loss: 0.4568 - accuracy: 0.7944 - val_loss: 0.4782 - val_accuracy: 0.7964\n",
            "Epoch 148/500\n",
            "16/16 [==============================] - 0s 4ms/step - loss: 0.4635 - accuracy: 0.7964 - val_loss: 0.4792 - val_accuracy: 0.7964\n",
            "Epoch 149/500\n",
            "16/16 [==============================] - 0s 4ms/step - loss: 0.4669 - accuracy: 0.8024 - val_loss: 0.4644 - val_accuracy: 0.7784\n",
            "Epoch 150/500\n",
            "16/16 [==============================] - 0s 4ms/step - loss: 0.4563 - accuracy: 0.8044 - val_loss: 0.4704 - val_accuracy: 0.8144\n",
            "Epoch 151/500\n",
            "16/16 [==============================] - 0s 4ms/step - loss: 0.4536 - accuracy: 0.8184 - val_loss: 0.4581 - val_accuracy: 0.8144\n",
            "Epoch 152/500\n",
            "16/16 [==============================] - 0s 4ms/step - loss: 0.4578 - accuracy: 0.8144 - val_loss: 0.4573 - val_accuracy: 0.7784\n",
            "Epoch 153/500\n",
            "16/16 [==============================] - 0s 4ms/step - loss: 0.4794 - accuracy: 0.7944 - val_loss: 0.4597 - val_accuracy: 0.8144\n",
            "Epoch 154/500\n",
            "16/16 [==============================] - 0s 4ms/step - loss: 0.4651 - accuracy: 0.8004 - val_loss: 0.4537 - val_accuracy: 0.8263\n",
            "Epoch 155/500\n",
            "16/16 [==============================] - 0s 4ms/step - loss: 0.4423 - accuracy: 0.8024 - val_loss: 0.4697 - val_accuracy: 0.7725\n",
            "Epoch 156/500\n",
            "16/16 [==============================] - 0s 4ms/step - loss: 0.4483 - accuracy: 0.8084 - val_loss: 0.4582 - val_accuracy: 0.8024\n",
            "Epoch 157/500\n",
            "16/16 [==============================] - 0s 4ms/step - loss: 0.4552 - accuracy: 0.7824 - val_loss: 0.4533 - val_accuracy: 0.8024\n",
            "Epoch 158/500\n",
            "16/16 [==============================] - 0s 4ms/step - loss: 0.4434 - accuracy: 0.8024 - val_loss: 0.4586 - val_accuracy: 0.8024\n",
            "Epoch 159/500\n",
            "16/16 [==============================] - 0s 4ms/step - loss: 0.4687 - accuracy: 0.7725 - val_loss: 0.4652 - val_accuracy: 0.7725\n",
            "Epoch 160/500\n",
            "16/16 [==============================] - 0s 4ms/step - loss: 0.4531 - accuracy: 0.7964 - val_loss: 0.4638 - val_accuracy: 0.7904\n",
            "Epoch 161/500\n",
            "16/16 [==============================] - 0s 5ms/step - loss: 0.4551 - accuracy: 0.7944 - val_loss: 0.4734 - val_accuracy: 0.8024\n",
            "Epoch 162/500\n",
            "16/16 [==============================] - 0s 4ms/step - loss: 0.4393 - accuracy: 0.8164 - val_loss: 0.4873 - val_accuracy: 0.7844\n",
            "Epoch 163/500\n",
            "16/16 [==============================] - 0s 4ms/step - loss: 0.4779 - accuracy: 0.7844 - val_loss: 0.4621 - val_accuracy: 0.7904\n",
            "Epoch 164/500\n",
            "16/16 [==============================] - 0s 4ms/step - loss: 0.4443 - accuracy: 0.7984 - val_loss: 0.4672 - val_accuracy: 0.7844\n",
            "Epoch 165/500\n",
            "16/16 [==============================] - 0s 5ms/step - loss: 0.4666 - accuracy: 0.7944 - val_loss: 0.4537 - val_accuracy: 0.7904\n",
            "Epoch 166/500\n",
            "16/16 [==============================] - 0s 4ms/step - loss: 0.4491 - accuracy: 0.8164 - val_loss: 0.4576 - val_accuracy: 0.8144\n",
            "Epoch 167/500\n",
            "16/16 [==============================] - 0s 4ms/step - loss: 0.4647 - accuracy: 0.7804 - val_loss: 0.4620 - val_accuracy: 0.8024\n",
            "Epoch 168/500\n",
            "16/16 [==============================] - 0s 4ms/step - loss: 0.4555 - accuracy: 0.8084 - val_loss: 0.4510 - val_accuracy: 0.8204\n",
            "Epoch 169/500\n",
            "16/16 [==============================] - 0s 4ms/step - loss: 0.4316 - accuracy: 0.8244 - val_loss: 0.4818 - val_accuracy: 0.7904\n",
            "Epoch 170/500\n",
            "16/16 [==============================] - 0s 4ms/step - loss: 0.4782 - accuracy: 0.7984 - val_loss: 0.4695 - val_accuracy: 0.8024\n",
            "Epoch 171/500\n",
            "16/16 [==============================] - 0s 4ms/step - loss: 0.4572 - accuracy: 0.8084 - val_loss: 0.4883 - val_accuracy: 0.7904\n",
            "Epoch 172/500\n",
            "16/16 [==============================] - 0s 4ms/step - loss: 0.4678 - accuracy: 0.7904 - val_loss: 0.4595 - val_accuracy: 0.7904\n",
            "Epoch 173/500\n",
            "16/16 [==============================] - 0s 4ms/step - loss: 0.4674 - accuracy: 0.7904 - val_loss: 0.4636 - val_accuracy: 0.7964\n",
            "Epoch 174/500\n",
            "16/16 [==============================] - 0s 4ms/step - loss: 0.4433 - accuracy: 0.8044 - val_loss: 0.4597 - val_accuracy: 0.7964\n",
            "Epoch 175/500\n",
            "16/16 [==============================] - 0s 4ms/step - loss: 0.4471 - accuracy: 0.8164 - val_loss: 0.4738 - val_accuracy: 0.7784\n",
            "Epoch 176/500\n",
            "16/16 [==============================] - 0s 4ms/step - loss: 0.4397 - accuracy: 0.7904 - val_loss: 0.4473 - val_accuracy: 0.8024\n",
            "Epoch 177/500\n",
            "16/16 [==============================] - 0s 4ms/step - loss: 0.4604 - accuracy: 0.7804 - val_loss: 0.4588 - val_accuracy: 0.7784\n",
            "Epoch 178/500\n",
            "16/16 [==============================] - 0s 4ms/step - loss: 0.4353 - accuracy: 0.8104 - val_loss: 0.4620 - val_accuracy: 0.7784\n",
            "Epoch 179/500\n",
            "16/16 [==============================] - 0s 4ms/step - loss: 0.4569 - accuracy: 0.7884 - val_loss: 0.4856 - val_accuracy: 0.7784\n",
            "Epoch 180/500\n",
            "16/16 [==============================] - 0s 4ms/step - loss: 0.4677 - accuracy: 0.7844 - val_loss: 0.4677 - val_accuracy: 0.7904\n",
            "Epoch 181/500\n",
            "16/16 [==============================] - 0s 4ms/step - loss: 0.4318 - accuracy: 0.7984 - val_loss: 0.4606 - val_accuracy: 0.7904\n",
            "Epoch 182/500\n",
            "16/16 [==============================] - 0s 5ms/step - loss: 0.4675 - accuracy: 0.7904 - val_loss: 0.4652 - val_accuracy: 0.7725\n",
            "Epoch 183/500\n",
            "16/16 [==============================] - 0s 4ms/step - loss: 0.4645 - accuracy: 0.7844 - val_loss: 0.4790 - val_accuracy: 0.7784\n",
            "Epoch 184/500\n",
            "16/16 [==============================] - 0s 4ms/step - loss: 0.5042 - accuracy: 0.7605 - val_loss: 0.4635 - val_accuracy: 0.7964\n",
            "Epoch 185/500\n",
            "16/16 [==============================] - 0s 4ms/step - loss: 0.4689 - accuracy: 0.7764 - val_loss: 0.4641 - val_accuracy: 0.7844\n",
            "Epoch 186/500\n",
            "16/16 [==============================] - 0s 4ms/step - loss: 0.4522 - accuracy: 0.7764 - val_loss: 0.4888 - val_accuracy: 0.7725\n",
            "Epoch 187/500\n",
            "16/16 [==============================] - 0s 4ms/step - loss: 0.4651 - accuracy: 0.7824 - val_loss: 0.4621 - val_accuracy: 0.7964\n",
            "Epoch 188/500\n",
            "16/16 [==============================] - 0s 4ms/step - loss: 0.4406 - accuracy: 0.8024 - val_loss: 0.5030 - val_accuracy: 0.7425\n",
            "Epoch 189/500\n",
            "16/16 [==============================] - 0s 4ms/step - loss: 0.4515 - accuracy: 0.8044 - val_loss: 0.4481 - val_accuracy: 0.8024\n",
            "Epoch 190/500\n",
            "16/16 [==============================] - 0s 4ms/step - loss: 0.4503 - accuracy: 0.8004 - val_loss: 0.4605 - val_accuracy: 0.7844\n",
            "Epoch 191/500\n",
            "16/16 [==============================] - 0s 4ms/step - loss: 0.4477 - accuracy: 0.8024 - val_loss: 0.4649 - val_accuracy: 0.7844\n",
            "Epoch 192/500\n",
            "16/16 [==============================] - 0s 5ms/step - loss: 0.4724 - accuracy: 0.7904 - val_loss: 0.4709 - val_accuracy: 0.7665\n",
            "Epoch 193/500\n",
            "16/16 [==============================] - 0s 4ms/step - loss: 0.4730 - accuracy: 0.8024 - val_loss: 0.4642 - val_accuracy: 0.7964\n",
            "Epoch 194/500\n",
            "16/16 [==============================] - 0s 4ms/step - loss: 0.4485 - accuracy: 0.7984 - val_loss: 0.4601 - val_accuracy: 0.7784\n",
            "Epoch 195/500\n",
            "16/16 [==============================] - 0s 4ms/step - loss: 0.4437 - accuracy: 0.8104 - val_loss: 0.4818 - val_accuracy: 0.7605\n",
            "Epoch 196/500\n",
            "16/16 [==============================] - 0s 4ms/step - loss: 0.4748 - accuracy: 0.7944 - val_loss: 0.4898 - val_accuracy: 0.7545\n",
            "Epoch 197/500\n",
            "16/16 [==============================] - 0s 4ms/step - loss: 0.4437 - accuracy: 0.8044 - val_loss: 0.4519 - val_accuracy: 0.7964\n",
            "Epoch 198/500\n",
            "16/16 [==============================] - 0s 4ms/step - loss: 0.5140 - accuracy: 0.7725 - val_loss: 0.4724 - val_accuracy: 0.7844\n",
            "Epoch 199/500\n",
            "16/16 [==============================] - 0s 4ms/step - loss: 0.4815 - accuracy: 0.7705 - val_loss: 0.4868 - val_accuracy: 0.7784\n",
            "Epoch 200/500\n",
            "16/16 [==============================] - 0s 4ms/step - loss: 0.4617 - accuracy: 0.7964 - val_loss: 0.4635 - val_accuracy: 0.7964\n",
            "Epoch 201/500\n",
            "16/16 [==============================] - 0s 4ms/step - loss: 0.4569 - accuracy: 0.8044 - val_loss: 0.4642 - val_accuracy: 0.7784\n",
            "Epoch 202/500\n",
            "16/16 [==============================] - 0s 4ms/step - loss: 0.4613 - accuracy: 0.7984 - val_loss: 0.4678 - val_accuracy: 0.7784\n",
            "Epoch 203/500\n",
            "16/16 [==============================] - 0s 4ms/step - loss: 0.4372 - accuracy: 0.7944 - val_loss: 0.4648 - val_accuracy: 0.7725\n",
            "Epoch 204/500\n",
            "16/16 [==============================] - 0s 4ms/step - loss: 0.4664 - accuracy: 0.7725 - val_loss: 0.4749 - val_accuracy: 0.7725\n",
            "Epoch 205/500\n",
            "16/16 [==============================] - 0s 4ms/step - loss: 0.4536 - accuracy: 0.8044 - val_loss: 0.4617 - val_accuracy: 0.7904\n",
            "Epoch 206/500\n",
            "16/16 [==============================] - 0s 4ms/step - loss: 0.4395 - accuracy: 0.7984 - val_loss: 0.4702 - val_accuracy: 0.7784\n",
            "Epoch 207/500\n",
            "16/16 [==============================] - 0s 4ms/step - loss: 0.4577 - accuracy: 0.7964 - val_loss: 0.4662 - val_accuracy: 0.7784\n",
            "Epoch 208/500\n",
            "16/16 [==============================] - 0s 4ms/step - loss: 0.4544 - accuracy: 0.7864 - val_loss: 0.4525 - val_accuracy: 0.7964\n",
            "Epoch 209/500\n",
            "16/16 [==============================] - 0s 4ms/step - loss: 0.4415 - accuracy: 0.8204 - val_loss: 0.4726 - val_accuracy: 0.7784\n",
            "Epoch 210/500\n",
            "16/16 [==============================] - 0s 5ms/step - loss: 0.4437 - accuracy: 0.8024 - val_loss: 0.4485 - val_accuracy: 0.8144\n",
            "Epoch 211/500\n",
            "16/16 [==============================] - 0s 4ms/step - loss: 0.4610 - accuracy: 0.7964 - val_loss: 0.4566 - val_accuracy: 0.8084\n",
            "Epoch 212/500\n",
            "16/16 [==============================] - 0s 4ms/step - loss: 0.4668 - accuracy: 0.7844 - val_loss: 0.4758 - val_accuracy: 0.7725\n",
            "Epoch 213/500\n",
            "16/16 [==============================] - 0s 4ms/step - loss: 0.4590 - accuracy: 0.8024 - val_loss: 0.4628 - val_accuracy: 0.8144\n",
            "Epoch 214/500\n",
            "16/16 [==============================] - 0s 4ms/step - loss: 0.4488 - accuracy: 0.8044 - val_loss: 0.4621 - val_accuracy: 0.8024\n",
            "Epoch 215/500\n",
            "16/16 [==============================] - 0s 4ms/step - loss: 0.4471 - accuracy: 0.7944 - val_loss: 0.4550 - val_accuracy: 0.7964\n",
            "Epoch 216/500\n",
            "16/16 [==============================] - 0s 4ms/step - loss: 0.4575 - accuracy: 0.8024 - val_loss: 0.4544 - val_accuracy: 0.7844\n",
            "Epoch 217/500\n",
            "16/16 [==============================] - 0s 4ms/step - loss: 0.4681 - accuracy: 0.7904 - val_loss: 0.4598 - val_accuracy: 0.7904\n",
            "Epoch 218/500\n",
            "16/16 [==============================] - 0s 4ms/step - loss: 0.4408 - accuracy: 0.8044 - val_loss: 0.4765 - val_accuracy: 0.7665\n",
            "Epoch 219/500\n",
            "16/16 [==============================] - 0s 4ms/step - loss: 0.4711 - accuracy: 0.7904 - val_loss: 0.4623 - val_accuracy: 0.8084\n",
            "Epoch 220/500\n",
            "16/16 [==============================] - 0s 4ms/step - loss: 0.4495 - accuracy: 0.7864 - val_loss: 0.4675 - val_accuracy: 0.7844\n",
            "Epoch 221/500\n",
            "16/16 [==============================] - 0s 4ms/step - loss: 0.4547 - accuracy: 0.7964 - val_loss: 0.4842 - val_accuracy: 0.7904\n",
            "Epoch 222/500\n",
            "16/16 [==============================] - 0s 4ms/step - loss: 0.4508 - accuracy: 0.7984 - val_loss: 0.4523 - val_accuracy: 0.7964\n",
            "Epoch 223/500\n",
            "16/16 [==============================] - 0s 4ms/step - loss: 0.4468 - accuracy: 0.8024 - val_loss: 0.4596 - val_accuracy: 0.7784\n",
            "Epoch 224/500\n",
            "16/16 [==============================] - 0s 4ms/step - loss: 0.4759 - accuracy: 0.7804 - val_loss: 0.4711 - val_accuracy: 0.7904\n",
            "Epoch 225/500\n",
            "16/16 [==============================] - 0s 4ms/step - loss: 0.4600 - accuracy: 0.8204 - val_loss: 0.4603 - val_accuracy: 0.7904\n",
            "Epoch 226/500\n",
            "16/16 [==============================] - 0s 4ms/step - loss: 0.4372 - accuracy: 0.7984 - val_loss: 0.5012 - val_accuracy: 0.7246\n",
            "Epoch 227/500\n",
            "16/16 [==============================] - 0s 4ms/step - loss: 0.4798 - accuracy: 0.7864 - val_loss: 0.5031 - val_accuracy: 0.7246\n",
            "Epoch 228/500\n",
            "16/16 [==============================] - 0s 4ms/step - loss: 0.4469 - accuracy: 0.8004 - val_loss: 0.4640 - val_accuracy: 0.7844\n",
            "Epoch 229/500\n",
            "16/16 [==============================] - 0s 4ms/step - loss: 0.4519 - accuracy: 0.7884 - val_loss: 0.4516 - val_accuracy: 0.8024\n",
            "Epoch 230/500\n",
            "16/16 [==============================] - 0s 4ms/step - loss: 0.4540 - accuracy: 0.8283 - val_loss: 0.4468 - val_accuracy: 0.7904\n",
            "Epoch 231/500\n",
            "16/16 [==============================] - 0s 4ms/step - loss: 0.4601 - accuracy: 0.8044 - val_loss: 0.4547 - val_accuracy: 0.7904\n",
            "Epoch 232/500\n",
            "16/16 [==============================] - 0s 4ms/step - loss: 0.4479 - accuracy: 0.8024 - val_loss: 0.4601 - val_accuracy: 0.7784\n",
            "Epoch 233/500\n",
            "16/16 [==============================] - 0s 4ms/step - loss: 0.4465 - accuracy: 0.8104 - val_loss: 0.4579 - val_accuracy: 0.7904\n",
            "Epoch 234/500\n",
            "16/16 [==============================] - 0s 4ms/step - loss: 0.4555 - accuracy: 0.8044 - val_loss: 0.4624 - val_accuracy: 0.7904\n",
            "Epoch 235/500\n",
            "16/16 [==============================] - 0s 4ms/step - loss: 0.4433 - accuracy: 0.8224 - val_loss: 0.4510 - val_accuracy: 0.7784\n",
            "Epoch 236/500\n",
            "16/16 [==============================] - 0s 4ms/step - loss: 0.4343 - accuracy: 0.8184 - val_loss: 0.4481 - val_accuracy: 0.7964\n",
            "Epoch 237/500\n",
            "16/16 [==============================] - 0s 4ms/step - loss: 0.4650 - accuracy: 0.7964 - val_loss: 0.4492 - val_accuracy: 0.7904\n",
            "Epoch 238/500\n",
            "16/16 [==============================] - 0s 5ms/step - loss: 0.4515 - accuracy: 0.8064 - val_loss: 0.4648 - val_accuracy: 0.7844\n",
            "Epoch 239/500\n",
            "16/16 [==============================] - 0s 4ms/step - loss: 0.4493 - accuracy: 0.8004 - val_loss: 0.4813 - val_accuracy: 0.7725\n",
            "Epoch 240/500\n",
            "16/16 [==============================] - 0s 4ms/step - loss: 0.4475 - accuracy: 0.8024 - val_loss: 0.4641 - val_accuracy: 0.7725\n",
            "Epoch 241/500\n",
            "16/16 [==============================] - 0s 4ms/step - loss: 0.4655 - accuracy: 0.8004 - val_loss: 0.5415 - val_accuracy: 0.6946\n",
            "Epoch 242/500\n",
            "16/16 [==============================] - 0s 4ms/step - loss: 0.4701 - accuracy: 0.7884 - val_loss: 0.4863 - val_accuracy: 0.7545\n",
            "Epoch 243/500\n",
            "16/16 [==============================] - 0s 4ms/step - loss: 0.4420 - accuracy: 0.7964 - val_loss: 0.4642 - val_accuracy: 0.7665\n",
            "Epoch 244/500\n",
            "16/16 [==============================] - 0s 4ms/step - loss: 0.4605 - accuracy: 0.7904 - val_loss: 0.4626 - val_accuracy: 0.7844\n",
            "Epoch 245/500\n",
            "16/16 [==============================] - 0s 4ms/step - loss: 0.4541 - accuracy: 0.7984 - val_loss: 0.4670 - val_accuracy: 0.7904\n",
            "Epoch 246/500\n",
            "16/16 [==============================] - 0s 5ms/step - loss: 0.4605 - accuracy: 0.7924 - val_loss: 0.4696 - val_accuracy: 0.7665\n",
            "Epoch 247/500\n",
            "16/16 [==============================] - 0s 4ms/step - loss: 0.4507 - accuracy: 0.8024 - val_loss: 0.4691 - val_accuracy: 0.7844\n",
            "Epoch 248/500\n",
            "16/16 [==============================] - 0s 4ms/step - loss: 0.4563 - accuracy: 0.8084 - val_loss: 0.4597 - val_accuracy: 0.7784\n",
            "Epoch 249/500\n",
            "16/16 [==============================] - 0s 4ms/step - loss: 0.4471 - accuracy: 0.7844 - val_loss: 0.4626 - val_accuracy: 0.7784\n",
            "Epoch 250/500\n",
            "16/16 [==============================] - 0s 4ms/step - loss: 0.4563 - accuracy: 0.7984 - val_loss: 0.4685 - val_accuracy: 0.8024\n",
            "Epoch 251/500\n",
            "16/16 [==============================] - 0s 4ms/step - loss: 0.4563 - accuracy: 0.7924 - val_loss: 0.4684 - val_accuracy: 0.7605\n",
            "Epoch 252/500\n",
            "16/16 [==============================] - 0s 4ms/step - loss: 0.4546 - accuracy: 0.7984 - val_loss: 0.4637 - val_accuracy: 0.7844\n",
            "Epoch 253/500\n",
            "16/16 [==============================] - 0s 4ms/step - loss: 0.4416 - accuracy: 0.7784 - val_loss: 0.4684 - val_accuracy: 0.7844\n",
            "Epoch 254/500\n",
            "16/16 [==============================] - 0s 4ms/step - loss: 0.4479 - accuracy: 0.8104 - val_loss: 0.4902 - val_accuracy: 0.7844\n",
            "Epoch 255/500\n",
            "16/16 [==============================] - 0s 4ms/step - loss: 0.4658 - accuracy: 0.7864 - val_loss: 0.4594 - val_accuracy: 0.7904\n",
            "Epoch 256/500\n",
            "16/16 [==============================] - 0s 4ms/step - loss: 0.4619 - accuracy: 0.7984 - val_loss: 0.4666 - val_accuracy: 0.7725\n",
            "Epoch 257/500\n",
            "16/16 [==============================] - 0s 5ms/step - loss: 0.4605 - accuracy: 0.7924 - val_loss: 0.4652 - val_accuracy: 0.7904\n",
            "Epoch 258/500\n",
            "16/16 [==============================] - 0s 4ms/step - loss: 0.4463 - accuracy: 0.7984 - val_loss: 0.4620 - val_accuracy: 0.8024\n",
            "Epoch 259/500\n",
            "16/16 [==============================] - 0s 4ms/step - loss: 0.4433 - accuracy: 0.8044 - val_loss: 0.4542 - val_accuracy: 0.8024\n",
            "Epoch 260/500\n",
            "16/16 [==============================] - 0s 4ms/step - loss: 0.4497 - accuracy: 0.8044 - val_loss: 0.4526 - val_accuracy: 0.8084\n",
            "Epoch 261/500\n",
            "16/16 [==============================] - 0s 4ms/step - loss: 0.4534 - accuracy: 0.7984 - val_loss: 0.4614 - val_accuracy: 0.7784\n",
            "Epoch 262/500\n",
            "16/16 [==============================] - 0s 4ms/step - loss: 0.4603 - accuracy: 0.7924 - val_loss: 0.4573 - val_accuracy: 0.8084\n",
            "Epoch 263/500\n",
            "16/16 [==============================] - 0s 4ms/step - loss: 0.4371 - accuracy: 0.8004 - val_loss: 0.4531 - val_accuracy: 0.7964\n",
            "Epoch 264/500\n",
            "16/16 [==============================] - 0s 4ms/step - loss: 0.4433 - accuracy: 0.7964 - val_loss: 0.4588 - val_accuracy: 0.8024\n",
            "Epoch 265/500\n",
            "16/16 [==============================] - 0s 4ms/step - loss: 0.4510 - accuracy: 0.8004 - val_loss: 0.4653 - val_accuracy: 0.7844\n",
            "Epoch 266/500\n",
            "16/16 [==============================] - 0s 4ms/step - loss: 0.4433 - accuracy: 0.7944 - val_loss: 0.4548 - val_accuracy: 0.7964\n",
            "Epoch 267/500\n",
            "16/16 [==============================] - 0s 4ms/step - loss: 0.4483 - accuracy: 0.7984 - val_loss: 0.4604 - val_accuracy: 0.7844\n",
            "Epoch 268/500\n",
            "16/16 [==============================] - 0s 4ms/step - loss: 0.4476 - accuracy: 0.8124 - val_loss: 0.4590 - val_accuracy: 0.7844\n",
            "Epoch 269/500\n",
            "16/16 [==============================] - 0s 4ms/step - loss: 0.4545 - accuracy: 0.7944 - val_loss: 0.4513 - val_accuracy: 0.7904\n",
            "Epoch 270/500\n",
            "16/16 [==============================] - 0s 4ms/step - loss: 0.4343 - accuracy: 0.8084 - val_loss: 0.4599 - val_accuracy: 0.7784\n",
            "Epoch 271/500\n",
            "16/16 [==============================] - 0s 4ms/step - loss: 0.4391 - accuracy: 0.8124 - val_loss: 0.4680 - val_accuracy: 0.7725\n",
            "Epoch 272/500\n",
            "16/16 [==============================] - 0s 4ms/step - loss: 0.4389 - accuracy: 0.7944 - val_loss: 0.4528 - val_accuracy: 0.7844\n",
            "Epoch 273/500\n",
            "16/16 [==============================] - 0s 4ms/step - loss: 0.4438 - accuracy: 0.7984 - val_loss: 0.4488 - val_accuracy: 0.8024\n",
            "Epoch 274/500\n",
            "16/16 [==============================] - 0s 4ms/step - loss: 0.4434 - accuracy: 0.8124 - val_loss: 0.4796 - val_accuracy: 0.7605\n",
            "Epoch 275/500\n",
            "16/16 [==============================] - 0s 4ms/step - loss: 0.4712 - accuracy: 0.7944 - val_loss: 0.4693 - val_accuracy: 0.7784\n",
            "Epoch 276/500\n",
            "16/16 [==============================] - 0s 4ms/step - loss: 0.4345 - accuracy: 0.8124 - val_loss: 0.4660 - val_accuracy: 0.8024\n",
            "Epoch 277/500\n",
            "16/16 [==============================] - 0s 4ms/step - loss: 0.4702 - accuracy: 0.7764 - val_loss: 0.4633 - val_accuracy: 0.8084\n",
            "Epoch 278/500\n",
            "16/16 [==============================] - 0s 4ms/step - loss: 0.4450 - accuracy: 0.8204 - val_loss: 0.4653 - val_accuracy: 0.8144\n",
            "Epoch 279/500\n",
            "16/16 [==============================] - 0s 4ms/step - loss: 0.4425 - accuracy: 0.8044 - val_loss: 0.4608 - val_accuracy: 0.7904\n",
            "Epoch 280/500\n",
            "16/16 [==============================] - 0s 4ms/step - loss: 0.4461 - accuracy: 0.8004 - val_loss: 0.4715 - val_accuracy: 0.7665\n",
            "Epoch 281/500\n",
            "16/16 [==============================] - 0s 4ms/step - loss: 0.4528 - accuracy: 0.7904 - val_loss: 0.4530 - val_accuracy: 0.8084\n",
            "Epoch 282/500\n",
            "16/16 [==============================] - 0s 4ms/step - loss: 0.4870 - accuracy: 0.7864 - val_loss: 0.4664 - val_accuracy: 0.8024\n",
            "Epoch 283/500\n",
            "16/16 [==============================] - 0s 4ms/step - loss: 0.4550 - accuracy: 0.7864 - val_loss: 0.4694 - val_accuracy: 0.7605\n",
            "Epoch 284/500\n",
            "16/16 [==============================] - 0s 4ms/step - loss: 0.4551 - accuracy: 0.7964 - val_loss: 0.4596 - val_accuracy: 0.7784\n",
            "Epoch 285/500\n",
            "16/16 [==============================] - 0s 4ms/step - loss: 0.4652 - accuracy: 0.7944 - val_loss: 0.5048 - val_accuracy: 0.7425\n",
            "Epoch 286/500\n",
            "16/16 [==============================] - 0s 4ms/step - loss: 0.4446 - accuracy: 0.7984 - val_loss: 0.4635 - val_accuracy: 0.7844\n",
            "Epoch 287/500\n",
            "16/16 [==============================] - 0s 4ms/step - loss: 0.4740 - accuracy: 0.8004 - val_loss: 0.4651 - val_accuracy: 0.7844\n",
            "Epoch 288/500\n",
            "16/16 [==============================] - 0s 4ms/step - loss: 0.4472 - accuracy: 0.8124 - val_loss: 0.4746 - val_accuracy: 0.7545\n",
            "Epoch 289/500\n",
            "16/16 [==============================] - 0s 4ms/step - loss: 0.4492 - accuracy: 0.7864 - val_loss: 0.4697 - val_accuracy: 0.7665\n",
            "Epoch 290/500\n",
            "16/16 [==============================] - 0s 4ms/step - loss: 0.4435 - accuracy: 0.8204 - val_loss: 0.4600 - val_accuracy: 0.7784\n",
            "Epoch 291/500\n",
            "16/16 [==============================] - 0s 4ms/step - loss: 0.4639 - accuracy: 0.7964 - val_loss: 0.4653 - val_accuracy: 0.7725\n",
            "Epoch 292/500\n",
            "16/16 [==============================] - 0s 4ms/step - loss: 0.4805 - accuracy: 0.7824 - val_loss: 0.4769 - val_accuracy: 0.7665\n",
            "Epoch 293/500\n",
            "16/16 [==============================] - 0s 4ms/step - loss: 0.4318 - accuracy: 0.7984 - val_loss: 0.4542 - val_accuracy: 0.7725\n",
            "Epoch 294/500\n",
            "16/16 [==============================] - 0s 4ms/step - loss: 0.4452 - accuracy: 0.8104 - val_loss: 0.4621 - val_accuracy: 0.7964\n",
            "Epoch 295/500\n",
            "16/16 [==============================] - 0s 5ms/step - loss: 0.4596 - accuracy: 0.8064 - val_loss: 0.4939 - val_accuracy: 0.7665\n",
            "Epoch 296/500\n",
            "16/16 [==============================] - 0s 4ms/step - loss: 0.4423 - accuracy: 0.8144 - val_loss: 0.4589 - val_accuracy: 0.7844\n",
            "Epoch 297/500\n",
            "16/16 [==============================] - 0s 4ms/step - loss: 0.4616 - accuracy: 0.7884 - val_loss: 0.4590 - val_accuracy: 0.7844\n",
            "Epoch 298/500\n",
            "16/16 [==============================] - 0s 4ms/step - loss: 0.4554 - accuracy: 0.8064 - val_loss: 0.4633 - val_accuracy: 0.7725\n",
            "Epoch 299/500\n",
            "16/16 [==============================] - 0s 4ms/step - loss: 0.4764 - accuracy: 0.7964 - val_loss: 0.4717 - val_accuracy: 0.7605\n",
            "Epoch 300/500\n",
            "16/16 [==============================] - 0s 4ms/step - loss: 0.4450 - accuracy: 0.7964 - val_loss: 0.4478 - val_accuracy: 0.7964\n",
            "Epoch 301/500\n",
            "16/16 [==============================] - 0s 4ms/step - loss: 0.4364 - accuracy: 0.7944 - val_loss: 0.4421 - val_accuracy: 0.8024\n",
            "Epoch 302/500\n",
            "16/16 [==============================] - 0s 4ms/step - loss: 0.4464 - accuracy: 0.8184 - val_loss: 0.4557 - val_accuracy: 0.7665\n",
            "Epoch 303/500\n",
            "16/16 [==============================] - 0s 4ms/step - loss: 0.4525 - accuracy: 0.8124 - val_loss: 0.4611 - val_accuracy: 0.7784\n",
            "Epoch 304/500\n",
            "16/16 [==============================] - 0s 5ms/step - loss: 0.4609 - accuracy: 0.7924 - val_loss: 0.4636 - val_accuracy: 0.7964\n",
            "Epoch 305/500\n",
            "16/16 [==============================] - 0s 4ms/step - loss: 0.4397 - accuracy: 0.8104 - val_loss: 0.4606 - val_accuracy: 0.8024\n",
            "Epoch 306/500\n",
            "16/16 [==============================] - 0s 4ms/step - loss: 0.4671 - accuracy: 0.7924 - val_loss: 0.4709 - val_accuracy: 0.7725\n",
            "Epoch 307/500\n",
            "16/16 [==============================] - 0s 4ms/step - loss: 0.4798 - accuracy: 0.7884 - val_loss: 0.4768 - val_accuracy: 0.7665\n",
            "Epoch 308/500\n",
            "16/16 [==============================] - 0s 4ms/step - loss: 0.4442 - accuracy: 0.7904 - val_loss: 0.4670 - val_accuracy: 0.7904\n",
            "Epoch 309/500\n",
            "16/16 [==============================] - 0s 4ms/step - loss: 0.4586 - accuracy: 0.7844 - val_loss: 0.4654 - val_accuracy: 0.7964\n",
            "Epoch 310/500\n",
            "16/16 [==============================] - 0s 4ms/step - loss: 0.4356 - accuracy: 0.7984 - val_loss: 0.4665 - val_accuracy: 0.8024\n",
            "Epoch 311/500\n",
            "16/16 [==============================] - 0s 4ms/step - loss: 0.4459 - accuracy: 0.8024 - val_loss: 0.4473 - val_accuracy: 0.7964\n",
            "Epoch 312/500\n",
            "16/16 [==============================] - 0s 4ms/step - loss: 0.4525 - accuracy: 0.8124 - val_loss: 0.4575 - val_accuracy: 0.7964\n",
            "Epoch 313/500\n",
            "16/16 [==============================] - 0s 5ms/step - loss: 0.4481 - accuracy: 0.7944 - val_loss: 0.4755 - val_accuracy: 0.7844\n",
            "Epoch 314/500\n",
            "16/16 [==============================] - 0s 5ms/step - loss: 0.4498 - accuracy: 0.8084 - val_loss: 0.4541 - val_accuracy: 0.7844\n",
            "Epoch 315/500\n",
            "16/16 [==============================] - 0s 4ms/step - loss: 0.4546 - accuracy: 0.7924 - val_loss: 0.4731 - val_accuracy: 0.7725\n",
            "Epoch 316/500\n",
            "16/16 [==============================] - 0s 4ms/step - loss: 0.4478 - accuracy: 0.8084 - val_loss: 0.4544 - val_accuracy: 0.7904\n",
            "Epoch 317/500\n",
            "16/16 [==============================] - 0s 5ms/step - loss: 0.4528 - accuracy: 0.8104 - val_loss: 0.4681 - val_accuracy: 0.7784\n",
            "Epoch 318/500\n",
            "16/16 [==============================] - 0s 4ms/step - loss: 0.4564 - accuracy: 0.7824 - val_loss: 0.4615 - val_accuracy: 0.7964\n",
            "Epoch 319/500\n",
            "16/16 [==============================] - 0s 4ms/step - loss: 0.4476 - accuracy: 0.8044 - val_loss: 0.4768 - val_accuracy: 0.7844\n",
            "Epoch 320/500\n",
            "16/16 [==============================] - 0s 4ms/step - loss: 0.4543 - accuracy: 0.8064 - val_loss: 0.4707 - val_accuracy: 0.7784\n",
            "Epoch 321/500\n",
            "16/16 [==============================] - 0s 4ms/step - loss: 0.4718 - accuracy: 0.7944 - val_loss: 0.4624 - val_accuracy: 0.7904\n",
            "Epoch 322/500\n",
            "16/16 [==============================] - 0s 4ms/step - loss: 0.4794 - accuracy: 0.7844 - val_loss: 0.4711 - val_accuracy: 0.7844\n",
            "Epoch 323/500\n",
            "16/16 [==============================] - 0s 5ms/step - loss: 0.4580 - accuracy: 0.8084 - val_loss: 0.4623 - val_accuracy: 0.7844\n",
            "Epoch 324/500\n",
            "16/16 [==============================] - 0s 4ms/step - loss: 0.4537 - accuracy: 0.8004 - val_loss: 0.4443 - val_accuracy: 0.7964\n",
            "Epoch 325/500\n",
            "16/16 [==============================] - 0s 4ms/step - loss: 0.4501 - accuracy: 0.8024 - val_loss: 0.4525 - val_accuracy: 0.7964\n",
            "Epoch 326/500\n",
            "16/16 [==============================] - 0s 4ms/step - loss: 0.4545 - accuracy: 0.8004 - val_loss: 0.4632 - val_accuracy: 0.7844\n",
            "Epoch 327/500\n",
            "16/16 [==============================] - 0s 4ms/step - loss: 0.4474 - accuracy: 0.7964 - val_loss: 0.4585 - val_accuracy: 0.7844\n",
            "Epoch 328/500\n",
            "16/16 [==============================] - 0s 4ms/step - loss: 0.4270 - accuracy: 0.8263 - val_loss: 0.4451 - val_accuracy: 0.8084\n",
            "Epoch 329/500\n",
            "16/16 [==============================] - 0s 4ms/step - loss: 0.4567 - accuracy: 0.7904 - val_loss: 0.4522 - val_accuracy: 0.7904\n",
            "Epoch 330/500\n",
            "16/16 [==============================] - 0s 4ms/step - loss: 0.4487 - accuracy: 0.8084 - val_loss: 0.4638 - val_accuracy: 0.7844\n",
            "Epoch 331/500\n",
            "16/16 [==============================] - 0s 4ms/step - loss: 0.4527 - accuracy: 0.8144 - val_loss: 0.4784 - val_accuracy: 0.7964\n",
            "Epoch 332/500\n",
            "16/16 [==============================] - 0s 5ms/step - loss: 0.4445 - accuracy: 0.7944 - val_loss: 0.4546 - val_accuracy: 0.8024\n",
            "Epoch 333/500\n",
            "16/16 [==============================] - 0s 4ms/step - loss: 0.4446 - accuracy: 0.7984 - val_loss: 0.4610 - val_accuracy: 0.7844\n",
            "Epoch 334/500\n",
            "16/16 [==============================] - 0s 4ms/step - loss: 0.4416 - accuracy: 0.8164 - val_loss: 0.4687 - val_accuracy: 0.7784\n",
            "Epoch 335/500\n",
            "16/16 [==============================] - 0s 4ms/step - loss: 0.4460 - accuracy: 0.7984 - val_loss: 0.4701 - val_accuracy: 0.7665\n",
            "Epoch 336/500\n",
            "16/16 [==============================] - 0s 4ms/step - loss: 0.4418 - accuracy: 0.7884 - val_loss: 0.4655 - val_accuracy: 0.8084\n",
            "Epoch 337/500\n",
            "16/16 [==============================] - 0s 5ms/step - loss: 0.4502 - accuracy: 0.8064 - val_loss: 0.4775 - val_accuracy: 0.7844\n",
            "Epoch 338/500\n",
            "16/16 [==============================] - 0s 4ms/step - loss: 0.4452 - accuracy: 0.8024 - val_loss: 0.4608 - val_accuracy: 0.7904\n",
            "Epoch 339/500\n",
            "16/16 [==============================] - 0s 4ms/step - loss: 0.4402 - accuracy: 0.8184 - val_loss: 0.4692 - val_accuracy: 0.7725\n",
            "Epoch 340/500\n",
            "16/16 [==============================] - 0s 4ms/step - loss: 0.4668 - accuracy: 0.8064 - val_loss: 0.4737 - val_accuracy: 0.7784\n",
            "Epoch 341/500\n",
            "16/16 [==============================] - 0s 5ms/step - loss: 0.4551 - accuracy: 0.7884 - val_loss: 0.4667 - val_accuracy: 0.7784\n",
            "Epoch 342/500\n",
            "16/16 [==============================] - 0s 4ms/step - loss: 0.4413 - accuracy: 0.8124 - val_loss: 0.4558 - val_accuracy: 0.7964\n",
            "Epoch 343/500\n",
            "16/16 [==============================] - 0s 4ms/step - loss: 0.4421 - accuracy: 0.8084 - val_loss: 0.4552 - val_accuracy: 0.7904\n",
            "Epoch 344/500\n",
            "16/16 [==============================] - 0s 4ms/step - loss: 0.4389 - accuracy: 0.8124 - val_loss: 0.4598 - val_accuracy: 0.8084\n",
            "Epoch 345/500\n",
            "16/16 [==============================] - 0s 5ms/step - loss: 0.4408 - accuracy: 0.8244 - val_loss: 0.4536 - val_accuracy: 0.7964\n",
            "Epoch 346/500\n",
            "16/16 [==============================] - 0s 4ms/step - loss: 0.4585 - accuracy: 0.8024 - val_loss: 0.4593 - val_accuracy: 0.7964\n",
            "Epoch 347/500\n",
            "16/16 [==============================] - 0s 4ms/step - loss: 0.4398 - accuracy: 0.8104 - val_loss: 0.4534 - val_accuracy: 0.7784\n",
            "Epoch 348/500\n",
            "16/16 [==============================] - 0s 4ms/step - loss: 0.4345 - accuracy: 0.8144 - val_loss: 0.4716 - val_accuracy: 0.7784\n",
            "Epoch 349/500\n",
            "16/16 [==============================] - 0s 4ms/step - loss: 0.4405 - accuracy: 0.7984 - val_loss: 0.4614 - val_accuracy: 0.8024\n",
            "Epoch 350/500\n",
            "16/16 [==============================] - 0s 4ms/step - loss: 0.4403 - accuracy: 0.8104 - val_loss: 0.4499 - val_accuracy: 0.7904\n",
            "Epoch 351/500\n",
            "16/16 [==============================] - 0s 4ms/step - loss: 0.4632 - accuracy: 0.7924 - val_loss: 0.4527 - val_accuracy: 0.7844\n",
            "Epoch 352/500\n",
            "16/16 [==============================] - 0s 4ms/step - loss: 0.4325 - accuracy: 0.8064 - val_loss: 0.4617 - val_accuracy: 0.7784\n",
            "Epoch 353/500\n",
            "16/16 [==============================] - 0s 4ms/step - loss: 0.4546 - accuracy: 0.8084 - val_loss: 0.4679 - val_accuracy: 0.7665\n",
            "Epoch 354/500\n",
            "16/16 [==============================] - 0s 4ms/step - loss: 0.4352 - accuracy: 0.7944 - val_loss: 0.4608 - val_accuracy: 0.8024\n",
            "Epoch 355/500\n",
            "16/16 [==============================] - 0s 4ms/step - loss: 0.4515 - accuracy: 0.7964 - val_loss: 0.4673 - val_accuracy: 0.8024\n",
            "Epoch 356/500\n",
            "16/16 [==============================] - 0s 4ms/step - loss: 0.4669 - accuracy: 0.7944 - val_loss: 0.4700 - val_accuracy: 0.7784\n",
            "Epoch 357/500\n",
            "16/16 [==============================] - 0s 4ms/step - loss: 0.4499 - accuracy: 0.7944 - val_loss: 0.4595 - val_accuracy: 0.8024\n",
            "Epoch 358/500\n",
            "16/16 [==============================] - 0s 4ms/step - loss: 0.4530 - accuracy: 0.7984 - val_loss: 0.4777 - val_accuracy: 0.7784\n",
            "Epoch 359/500\n",
            "16/16 [==============================] - 0s 4ms/step - loss: 0.4445 - accuracy: 0.8024 - val_loss: 0.4559 - val_accuracy: 0.7784\n",
            "Epoch 360/500\n",
            "16/16 [==============================] - 0s 5ms/step - loss: 0.4414 - accuracy: 0.8124 - val_loss: 0.4552 - val_accuracy: 0.7605\n",
            "Epoch 361/500\n",
            "16/16 [==============================] - 0s 4ms/step - loss: 0.4399 - accuracy: 0.8044 - val_loss: 0.4639 - val_accuracy: 0.7964\n",
            "Epoch 362/500\n",
            "16/16 [==============================] - 0s 4ms/step - loss: 0.4301 - accuracy: 0.8084 - val_loss: 0.4760 - val_accuracy: 0.7725\n",
            "Epoch 363/500\n",
            "16/16 [==============================] - 0s 4ms/step - loss: 0.4350 - accuracy: 0.8024 - val_loss: 0.4558 - val_accuracy: 0.7904\n",
            "Epoch 364/500\n",
            "16/16 [==============================] - 0s 4ms/step - loss: 0.4374 - accuracy: 0.8124 - val_loss: 0.4754 - val_accuracy: 0.7605\n",
            "Epoch 365/500\n",
            "16/16 [==============================] - 0s 4ms/step - loss: 0.4520 - accuracy: 0.8064 - val_loss: 0.4603 - val_accuracy: 0.7844\n",
            "Epoch 366/500\n",
            "16/16 [==============================] - 0s 4ms/step - loss: 0.4554 - accuracy: 0.8024 - val_loss: 0.4644 - val_accuracy: 0.7725\n",
            "Epoch 367/500\n",
            "16/16 [==============================] - 0s 4ms/step - loss: 0.4344 - accuracy: 0.8124 - val_loss: 0.4525 - val_accuracy: 0.7904\n",
            "Epoch 368/500\n",
            "16/16 [==============================] - 0s 4ms/step - loss: 0.4420 - accuracy: 0.8024 - val_loss: 0.4654 - val_accuracy: 0.7844\n",
            "Epoch 369/500\n",
            "16/16 [==============================] - 0s 5ms/step - loss: 0.4352 - accuracy: 0.8044 - val_loss: 0.4725 - val_accuracy: 0.7665\n",
            "Epoch 370/500\n",
            "16/16 [==============================] - 0s 4ms/step - loss: 0.4425 - accuracy: 0.8164 - val_loss: 0.4716 - val_accuracy: 0.7784\n",
            "Epoch 371/500\n",
            "16/16 [==============================] - 0s 4ms/step - loss: 0.4308 - accuracy: 0.8164 - val_loss: 0.4775 - val_accuracy: 0.7665\n",
            "Epoch 372/500\n",
            "16/16 [==============================] - 0s 5ms/step - loss: 0.4709 - accuracy: 0.7984 - val_loss: 0.4649 - val_accuracy: 0.7964\n",
            "Epoch 373/500\n",
            "16/16 [==============================] - 0s 4ms/step - loss: 0.4212 - accuracy: 0.8104 - val_loss: 0.4550 - val_accuracy: 0.7964\n",
            "Epoch 374/500\n",
            "16/16 [==============================] - 0s 4ms/step - loss: 0.4551 - accuracy: 0.7904 - val_loss: 0.4556 - val_accuracy: 0.7784\n",
            "Epoch 375/500\n",
            "16/16 [==============================] - 0s 4ms/step - loss: 0.4167 - accuracy: 0.8184 - val_loss: 0.4596 - val_accuracy: 0.7725\n",
            "Epoch 376/500\n",
            "16/16 [==============================] - 0s 4ms/step - loss: 0.4512 - accuracy: 0.8044 - val_loss: 0.4676 - val_accuracy: 0.7964\n",
            "Epoch 377/500\n",
            "16/16 [==============================] - 0s 4ms/step - loss: 0.4608 - accuracy: 0.7904 - val_loss: 0.4818 - val_accuracy: 0.7904\n",
            "Epoch 378/500\n",
            "16/16 [==============================] - 0s 4ms/step - loss: 0.4294 - accuracy: 0.8044 - val_loss: 0.4580 - val_accuracy: 0.8024\n",
            "Epoch 379/500\n",
            "16/16 [==============================] - 0s 4ms/step - loss: 0.4456 - accuracy: 0.8084 - val_loss: 0.4600 - val_accuracy: 0.7725\n",
            "Epoch 380/500\n",
            "16/16 [==============================] - 0s 4ms/step - loss: 0.4514 - accuracy: 0.7984 - val_loss: 0.4759 - val_accuracy: 0.7725\n",
            "Epoch 381/500\n",
            "16/16 [==============================] - 0s 4ms/step - loss: 0.4350 - accuracy: 0.8164 - val_loss: 0.4714 - val_accuracy: 0.7904\n",
            "Epoch 382/500\n",
            "16/16 [==============================] - 0s 4ms/step - loss: 0.4391 - accuracy: 0.8104 - val_loss: 0.4567 - val_accuracy: 0.7844\n",
            "Epoch 383/500\n",
            "16/16 [==============================] - 0s 4ms/step - loss: 0.4571 - accuracy: 0.8064 - val_loss: 0.4672 - val_accuracy: 0.7725\n",
            "Epoch 384/500\n",
            "16/16 [==============================] - 0s 4ms/step - loss: 0.4619 - accuracy: 0.8064 - val_loss: 0.4634 - val_accuracy: 0.7904\n",
            "Epoch 385/500\n",
            "16/16 [==============================] - 0s 4ms/step - loss: 0.4485 - accuracy: 0.7944 - val_loss: 0.4696 - val_accuracy: 0.7784\n",
            "Epoch 386/500\n",
            "16/16 [==============================] - 0s 4ms/step - loss: 0.4570 - accuracy: 0.8144 - val_loss: 0.4573 - val_accuracy: 0.7964\n",
            "Epoch 387/500\n",
            "16/16 [==============================] - 0s 4ms/step - loss: 0.4488 - accuracy: 0.8004 - val_loss: 0.4695 - val_accuracy: 0.7784\n",
            "Epoch 388/500\n",
            "16/16 [==============================] - 0s 4ms/step - loss: 0.4399 - accuracy: 0.8064 - val_loss: 0.4758 - val_accuracy: 0.7784\n",
            "Epoch 389/500\n",
            "16/16 [==============================] - 0s 4ms/step - loss: 0.4458 - accuracy: 0.8004 - val_loss: 0.4596 - val_accuracy: 0.7725\n",
            "Epoch 390/500\n",
            "16/16 [==============================] - 0s 4ms/step - loss: 0.4325 - accuracy: 0.8044 - val_loss: 0.4521 - val_accuracy: 0.7784\n",
            "Epoch 391/500\n",
            "16/16 [==============================] - 0s 4ms/step - loss: 0.4391 - accuracy: 0.8164 - val_loss: 0.4564 - val_accuracy: 0.7784\n",
            "Epoch 392/500\n",
            "16/16 [==============================] - 0s 4ms/step - loss: 0.4286 - accuracy: 0.8104 - val_loss: 0.4500 - val_accuracy: 0.7784\n",
            "Epoch 393/500\n",
            "16/16 [==============================] - 0s 4ms/step - loss: 0.4381 - accuracy: 0.8104 - val_loss: 0.4536 - val_accuracy: 0.7784\n",
            "Epoch 394/500\n",
            "16/16 [==============================] - 0s 4ms/step - loss: 0.4487 - accuracy: 0.8044 - val_loss: 0.4534 - val_accuracy: 0.7784\n",
            "Epoch 395/500\n",
            "16/16 [==============================] - 0s 4ms/step - loss: 0.4472 - accuracy: 0.7984 - val_loss: 0.4684 - val_accuracy: 0.7784\n",
            "Epoch 396/500\n",
            "16/16 [==============================] - 0s 4ms/step - loss: 0.4258 - accuracy: 0.8184 - val_loss: 0.4646 - val_accuracy: 0.7844\n",
            "Epoch 397/500\n",
            "16/16 [==============================] - 0s 4ms/step - loss: 0.4437 - accuracy: 0.7924 - val_loss: 0.4608 - val_accuracy: 0.7784\n",
            "Epoch 398/500\n",
            "16/16 [==============================] - 0s 4ms/step - loss: 0.4495 - accuracy: 0.8044 - val_loss: 0.4617 - val_accuracy: 0.7784\n",
            "Epoch 399/500\n",
            "16/16 [==============================] - 0s 4ms/step - loss: 0.4323 - accuracy: 0.8064 - val_loss: 0.5040 - val_accuracy: 0.7425\n",
            "Epoch 400/500\n",
            "16/16 [==============================] - 0s 4ms/step - loss: 0.4449 - accuracy: 0.8184 - val_loss: 0.4996 - val_accuracy: 0.7784\n",
            "Epoch 401/500\n",
            "16/16 [==============================] - 0s 4ms/step - loss: 0.4524 - accuracy: 0.8164 - val_loss: 0.4667 - val_accuracy: 0.7665\n",
            "Epoch 402/500\n",
            "16/16 [==============================] - 0s 4ms/step - loss: 0.4382 - accuracy: 0.8064 - val_loss: 0.4699 - val_accuracy: 0.7725\n",
            "Epoch 403/500\n",
            "16/16 [==============================] - 0s 5ms/step - loss: 0.4339 - accuracy: 0.8124 - val_loss: 0.4578 - val_accuracy: 0.7784\n",
            "Epoch 404/500\n",
            "16/16 [==============================] - 0s 4ms/step - loss: 0.4301 - accuracy: 0.8024 - val_loss: 0.4554 - val_accuracy: 0.7784\n",
            "Epoch 405/500\n",
            "16/16 [==============================] - 0s 4ms/step - loss: 0.4250 - accuracy: 0.7984 - val_loss: 0.4728 - val_accuracy: 0.7725\n",
            "Epoch 406/500\n",
            "16/16 [==============================] - 0s 4ms/step - loss: 0.4332 - accuracy: 0.8104 - val_loss: 0.4597 - val_accuracy: 0.7725\n",
            "Epoch 407/500\n",
            "16/16 [==============================] - 0s 4ms/step - loss: 0.4492 - accuracy: 0.8004 - val_loss: 0.4783 - val_accuracy: 0.7665\n",
            "Epoch 408/500\n",
            "16/16 [==============================] - 0s 4ms/step - loss: 0.4553 - accuracy: 0.7984 - val_loss: 0.4637 - val_accuracy: 0.7545\n",
            "Epoch 409/500\n",
            "16/16 [==============================] - 0s 4ms/step - loss: 0.4351 - accuracy: 0.8124 - val_loss: 0.4563 - val_accuracy: 0.7964\n",
            "Epoch 410/500\n",
            "16/16 [==============================] - 0s 4ms/step - loss: 0.4340 - accuracy: 0.8164 - val_loss: 0.4616 - val_accuracy: 0.7784\n",
            "Epoch 411/500\n",
            "16/16 [==============================] - 0s 4ms/step - loss: 0.4549 - accuracy: 0.8024 - val_loss: 0.4793 - val_accuracy: 0.7665\n",
            "Epoch 412/500\n",
            "16/16 [==============================] - 0s 4ms/step - loss: 0.4175 - accuracy: 0.8064 - val_loss: 0.4535 - val_accuracy: 0.7725\n",
            "Epoch 413/500\n",
            "16/16 [==============================] - 0s 4ms/step - loss: 0.4406 - accuracy: 0.8104 - val_loss: 0.4565 - val_accuracy: 0.7725\n",
            "Epoch 414/500\n",
            "16/16 [==============================] - 0s 5ms/step - loss: 0.4429 - accuracy: 0.8184 - val_loss: 0.4721 - val_accuracy: 0.7844\n",
            "Epoch 415/500\n",
            "16/16 [==============================] - 0s 4ms/step - loss: 0.4441 - accuracy: 0.8004 - val_loss: 0.4571 - val_accuracy: 0.7844\n",
            "Epoch 416/500\n",
            "16/16 [==============================] - 0s 4ms/step - loss: 0.4383 - accuracy: 0.8204 - val_loss: 0.4669 - val_accuracy: 0.7725\n",
            "Epoch 417/500\n",
            "16/16 [==============================] - 0s 4ms/step - loss: 0.4523 - accuracy: 0.7924 - val_loss: 0.4614 - val_accuracy: 0.7964\n",
            "Epoch 418/500\n",
            "16/16 [==============================] - 0s 4ms/step - loss: 0.4214 - accuracy: 0.8144 - val_loss: 0.4587 - val_accuracy: 0.7964\n",
            "Epoch 419/500\n",
            "16/16 [==============================] - 0s 4ms/step - loss: 0.4402 - accuracy: 0.7904 - val_loss: 0.4626 - val_accuracy: 0.7844\n",
            "Epoch 420/500\n",
            "16/16 [==============================] - 0s 4ms/step - loss: 0.4425 - accuracy: 0.8064 - val_loss: 0.4667 - val_accuracy: 0.7665\n",
            "Epoch 421/500\n",
            "16/16 [==============================] - 0s 4ms/step - loss: 0.4550 - accuracy: 0.7904 - val_loss: 0.4774 - val_accuracy: 0.7725\n",
            "Epoch 422/500\n",
            "16/16 [==============================] - 0s 4ms/step - loss: 0.4663 - accuracy: 0.7884 - val_loss: 0.4680 - val_accuracy: 0.7665\n",
            "Epoch 423/500\n",
            "16/16 [==============================] - 0s 4ms/step - loss: 0.4445 - accuracy: 0.7984 - val_loss: 0.4624 - val_accuracy: 0.7665\n",
            "Epoch 424/500\n",
            "16/16 [==============================] - 0s 4ms/step - loss: 0.4354 - accuracy: 0.8104 - val_loss: 0.4923 - val_accuracy: 0.7665\n",
            "Epoch 425/500\n",
            "16/16 [==============================] - 0s 4ms/step - loss: 0.4324 - accuracy: 0.8064 - val_loss: 0.4679 - val_accuracy: 0.7844\n",
            "Epoch 426/500\n",
            "16/16 [==============================] - 0s 4ms/step - loss: 0.4490 - accuracy: 0.8064 - val_loss: 0.4577 - val_accuracy: 0.7665\n",
            "Epoch 427/500\n",
            "16/16 [==============================] - 0s 4ms/step - loss: 0.4353 - accuracy: 0.7984 - val_loss: 0.4732 - val_accuracy: 0.7665\n",
            "Epoch 428/500\n",
            "16/16 [==============================] - 0s 4ms/step - loss: 0.4423 - accuracy: 0.8104 - val_loss: 0.4532 - val_accuracy: 0.7844\n",
            "Epoch 429/500\n",
            "16/16 [==============================] - 0s 4ms/step - loss: 0.4347 - accuracy: 0.8004 - val_loss: 0.4590 - val_accuracy: 0.7904\n",
            "Epoch 430/500\n",
            "16/16 [==============================] - 0s 4ms/step - loss: 0.4417 - accuracy: 0.8044 - val_loss: 0.4683 - val_accuracy: 0.7665\n",
            "Epoch 431/500\n",
            "16/16 [==============================] - 0s 4ms/step - loss: 0.4434 - accuracy: 0.7964 - val_loss: 0.4664 - val_accuracy: 0.7665\n",
            "Epoch 432/500\n",
            "16/16 [==============================] - 0s 5ms/step - loss: 0.4380 - accuracy: 0.8064 - val_loss: 0.4527 - val_accuracy: 0.7904\n",
            "Epoch 433/500\n",
            "16/16 [==============================] - 0s 4ms/step - loss: 0.4573 - accuracy: 0.8064 - val_loss: 0.4663 - val_accuracy: 0.7725\n",
            "Epoch 434/500\n",
            "16/16 [==============================] - 0s 4ms/step - loss: 0.4443 - accuracy: 0.8204 - val_loss: 0.4670 - val_accuracy: 0.7665\n",
            "Epoch 435/500\n",
            "16/16 [==============================] - 0s 4ms/step - loss: 0.4162 - accuracy: 0.8044 - val_loss: 0.4567 - val_accuracy: 0.7784\n",
            "Epoch 436/500\n",
            "16/16 [==============================] - 0s 4ms/step - loss: 0.4529 - accuracy: 0.8024 - val_loss: 0.4528 - val_accuracy: 0.7725\n",
            "Epoch 437/500\n",
            "16/16 [==============================] - 0s 4ms/step - loss: 0.4390 - accuracy: 0.8104 - val_loss: 0.4536 - val_accuracy: 0.7784\n",
            "Epoch 438/500\n",
            "16/16 [==============================] - 0s 4ms/step - loss: 0.4315 - accuracy: 0.8024 - val_loss: 0.4680 - val_accuracy: 0.7784\n",
            "Epoch 439/500\n",
            "16/16 [==============================] - 0s 4ms/step - loss: 0.4338 - accuracy: 0.7964 - val_loss: 0.4662 - val_accuracy: 0.7545\n",
            "Epoch 440/500\n",
            "16/16 [==============================] - 0s 4ms/step - loss: 0.4368 - accuracy: 0.8044 - val_loss: 0.4692 - val_accuracy: 0.7904\n",
            "Epoch 441/500\n",
            "16/16 [==============================] - 0s 4ms/step - loss: 0.4227 - accuracy: 0.8124 - val_loss: 0.4728 - val_accuracy: 0.7665\n",
            "Epoch 442/500\n",
            "16/16 [==============================] - 0s 4ms/step - loss: 0.4145 - accuracy: 0.8124 - val_loss: 0.4645 - val_accuracy: 0.7844\n",
            "Epoch 443/500\n",
            "16/16 [==============================] - 0s 4ms/step - loss: 0.4280 - accuracy: 0.8044 - val_loss: 0.4677 - val_accuracy: 0.7665\n",
            "Epoch 444/500\n",
            "16/16 [==============================] - 0s 4ms/step - loss: 0.4360 - accuracy: 0.8004 - val_loss: 0.4609 - val_accuracy: 0.7605\n",
            "Epoch 445/500\n",
            "16/16 [==============================] - 0s 4ms/step - loss: 0.4293 - accuracy: 0.8084 - val_loss: 0.4575 - val_accuracy: 0.7665\n",
            "Epoch 446/500\n",
            "16/16 [==============================] - 0s 5ms/step - loss: 0.4310 - accuracy: 0.8044 - val_loss: 0.4579 - val_accuracy: 0.7665\n",
            "Epoch 447/500\n",
            "16/16 [==============================] - 0s 4ms/step - loss: 0.4328 - accuracy: 0.8104 - val_loss: 0.4663 - val_accuracy: 0.7605\n",
            "Epoch 448/500\n",
            "16/16 [==============================] - 0s 4ms/step - loss: 0.4231 - accuracy: 0.8164 - val_loss: 0.4738 - val_accuracy: 0.7665\n",
            "Epoch 449/500\n",
            "16/16 [==============================] - 0s 4ms/step - loss: 0.4503 - accuracy: 0.8064 - val_loss: 0.4640 - val_accuracy: 0.7665\n",
            "Epoch 450/500\n",
            "16/16 [==============================] - 0s 4ms/step - loss: 0.4365 - accuracy: 0.8104 - val_loss: 0.4704 - val_accuracy: 0.7665\n",
            "Epoch 451/500\n",
            "16/16 [==============================] - 0s 4ms/step - loss: 0.4407 - accuracy: 0.8004 - val_loss: 0.4727 - val_accuracy: 0.7545\n",
            "Epoch 452/500\n",
            "16/16 [==============================] - 0s 4ms/step - loss: 0.4311 - accuracy: 0.8084 - val_loss: 0.4576 - val_accuracy: 0.7725\n",
            "Epoch 453/500\n",
            "16/16 [==============================] - 0s 4ms/step - loss: 0.4318 - accuracy: 0.7984 - val_loss: 0.4644 - val_accuracy: 0.7725\n",
            "Epoch 454/500\n",
            "16/16 [==============================] - 0s 4ms/step - loss: 0.4530 - accuracy: 0.7984 - val_loss: 0.4711 - val_accuracy: 0.7665\n",
            "Epoch 455/500\n",
            "16/16 [==============================] - 0s 4ms/step - loss: 0.4511 - accuracy: 0.7864 - val_loss: 0.4613 - val_accuracy: 0.7605\n",
            "Epoch 456/500\n",
            "16/16 [==============================] - 0s 4ms/step - loss: 0.4510 - accuracy: 0.7864 - val_loss: 0.4592 - val_accuracy: 0.7964\n",
            "Epoch 457/500\n",
            "16/16 [==============================] - 0s 4ms/step - loss: 0.4643 - accuracy: 0.7984 - val_loss: 0.4600 - val_accuracy: 0.7844\n",
            "Epoch 458/500\n",
            "16/16 [==============================] - 0s 4ms/step - loss: 0.4409 - accuracy: 0.8104 - val_loss: 0.4598 - val_accuracy: 0.7665\n",
            "Epoch 459/500\n",
            "16/16 [==============================] - 0s 4ms/step - loss: 0.4378 - accuracy: 0.8064 - val_loss: 0.4530 - val_accuracy: 0.7665\n",
            "Epoch 460/500\n",
            "16/16 [==============================] - 0s 4ms/step - loss: 0.4228 - accuracy: 0.8124 - val_loss: 0.4843 - val_accuracy: 0.7725\n",
            "Epoch 461/500\n",
            "16/16 [==============================] - 0s 5ms/step - loss: 0.4580 - accuracy: 0.8064 - val_loss: 0.4765 - val_accuracy: 0.7904\n",
            "Epoch 462/500\n",
            "16/16 [==============================] - 0s 4ms/step - loss: 0.4494 - accuracy: 0.7924 - val_loss: 0.4530 - val_accuracy: 0.7725\n",
            "Epoch 463/500\n",
            "16/16 [==============================] - 0s 5ms/step - loss: 0.4331 - accuracy: 0.8044 - val_loss: 0.4673 - val_accuracy: 0.7725\n",
            "Epoch 464/500\n",
            "16/16 [==============================] - 0s 4ms/step - loss: 0.4386 - accuracy: 0.8184 - val_loss: 0.4641 - val_accuracy: 0.7605\n",
            "Epoch 465/500\n",
            "16/16 [==============================] - 0s 4ms/step - loss: 0.4284 - accuracy: 0.8164 - val_loss: 0.4485 - val_accuracy: 0.7665\n",
            "Epoch 466/500\n",
            "16/16 [==============================] - 0s 4ms/step - loss: 0.4415 - accuracy: 0.8004 - val_loss: 0.4882 - val_accuracy: 0.7665\n",
            "Epoch 467/500\n",
            "16/16 [==============================] - 0s 4ms/step - loss: 0.4349 - accuracy: 0.8144 - val_loss: 0.4822 - val_accuracy: 0.7665\n",
            "Epoch 468/500\n",
            "16/16 [==============================] - 0s 4ms/step - loss: 0.4607 - accuracy: 0.8044 - val_loss: 0.4621 - val_accuracy: 0.7725\n",
            "Epoch 469/500\n",
            "16/16 [==============================] - 0s 4ms/step - loss: 0.4200 - accuracy: 0.8144 - val_loss: 0.4598 - val_accuracy: 0.7844\n",
            "Epoch 470/500\n",
            "16/16 [==============================] - 0s 4ms/step - loss: 0.4404 - accuracy: 0.8104 - val_loss: 0.4820 - val_accuracy: 0.7665\n",
            "Epoch 471/500\n",
            "16/16 [==============================] - 0s 4ms/step - loss: 0.4385 - accuracy: 0.8104 - val_loss: 0.4640 - val_accuracy: 0.8084\n",
            "Epoch 472/500\n",
            "16/16 [==============================] - 0s 4ms/step - loss: 0.4336 - accuracy: 0.8263 - val_loss: 0.4574 - val_accuracy: 0.7904\n",
            "Epoch 473/500\n",
            "16/16 [==============================] - 0s 4ms/step - loss: 0.4537 - accuracy: 0.8024 - val_loss: 0.4736 - val_accuracy: 0.7904\n",
            "Epoch 474/500\n",
            "16/16 [==============================] - 0s 4ms/step - loss: 0.4475 - accuracy: 0.8004 - val_loss: 0.4849 - val_accuracy: 0.7844\n",
            "Epoch 475/500\n",
            "16/16 [==============================] - 0s 4ms/step - loss: 0.4476 - accuracy: 0.8144 - val_loss: 0.4837 - val_accuracy: 0.7784\n",
            "Epoch 476/500\n",
            "16/16 [==============================] - 0s 4ms/step - loss: 0.4566 - accuracy: 0.7984 - val_loss: 0.4569 - val_accuracy: 0.7665\n",
            "Epoch 477/500\n",
            "16/16 [==============================] - 0s 4ms/step - loss: 0.4343 - accuracy: 0.8204 - val_loss: 0.4534 - val_accuracy: 0.7844\n",
            "Epoch 478/500\n",
            "16/16 [==============================] - 0s 5ms/step - loss: 0.4428 - accuracy: 0.8104 - val_loss: 0.4555 - val_accuracy: 0.7784\n",
            "Epoch 479/500\n",
            "16/16 [==============================] - 0s 4ms/step - loss: 0.4202 - accuracy: 0.8204 - val_loss: 0.4659 - val_accuracy: 0.7725\n",
            "Epoch 480/500\n",
            "16/16 [==============================] - 0s 4ms/step - loss: 0.4724 - accuracy: 0.8124 - val_loss: 0.4788 - val_accuracy: 0.7605\n",
            "Epoch 481/500\n",
            "16/16 [==============================] - 0s 4ms/step - loss: 0.4391 - accuracy: 0.8144 - val_loss: 0.4664 - val_accuracy: 0.7784\n",
            "Epoch 482/500\n",
            "16/16 [==============================] - 0s 5ms/step - loss: 0.4425 - accuracy: 0.8024 - val_loss: 0.4660 - val_accuracy: 0.7725\n",
            "Epoch 483/500\n",
            "16/16 [==============================] - 0s 4ms/step - loss: 0.4183 - accuracy: 0.8184 - val_loss: 0.4713 - val_accuracy: 0.7665\n",
            "Epoch 484/500\n",
            "16/16 [==============================] - 0s 4ms/step - loss: 0.4437 - accuracy: 0.8124 - val_loss: 0.4656 - val_accuracy: 0.7665\n",
            "Epoch 485/500\n",
            "16/16 [==============================] - 0s 4ms/step - loss: 0.4354 - accuracy: 0.8024 - val_loss: 0.4502 - val_accuracy: 0.7725\n",
            "Epoch 486/500\n",
            "16/16 [==============================] - 0s 4ms/step - loss: 0.4320 - accuracy: 0.7944 - val_loss: 0.4746 - val_accuracy: 0.7725\n",
            "Epoch 487/500\n",
            "16/16 [==============================] - 0s 4ms/step - loss: 0.4304 - accuracy: 0.8144 - val_loss: 0.4727 - val_accuracy: 0.7784\n",
            "Epoch 488/500\n",
            "16/16 [==============================] - 0s 4ms/step - loss: 0.4383 - accuracy: 0.8044 - val_loss: 0.4757 - val_accuracy: 0.7605\n",
            "Epoch 489/500\n",
            "16/16 [==============================] - 0s 4ms/step - loss: 0.4474 - accuracy: 0.8184 - val_loss: 0.4749 - val_accuracy: 0.7725\n",
            "Epoch 490/500\n",
            "16/16 [==============================] - 0s 4ms/step - loss: 0.4202 - accuracy: 0.8204 - val_loss: 0.4534 - val_accuracy: 0.7784\n",
            "Epoch 491/500\n",
            "16/16 [==============================] - 0s 4ms/step - loss: 0.4324 - accuracy: 0.8044 - val_loss: 0.4845 - val_accuracy: 0.7725\n",
            "Epoch 492/500\n",
            "16/16 [==============================] - 0s 4ms/step - loss: 0.4928 - accuracy: 0.7904 - val_loss: 0.4931 - val_accuracy: 0.7725\n",
            "Epoch 493/500\n",
            "16/16 [==============================] - 0s 4ms/step - loss: 0.4797 - accuracy: 0.7745 - val_loss: 0.4703 - val_accuracy: 0.7725\n",
            "Epoch 494/500\n",
            "16/16 [==============================] - 0s 4ms/step - loss: 0.4567 - accuracy: 0.8044 - val_loss: 0.4712 - val_accuracy: 0.7784\n",
            "Epoch 495/500\n",
            "16/16 [==============================] - 0s 4ms/step - loss: 0.4449 - accuracy: 0.8064 - val_loss: 0.4668 - val_accuracy: 0.7725\n",
            "Epoch 496/500\n",
            "16/16 [==============================] - 0s 4ms/step - loss: 0.4343 - accuracy: 0.8124 - val_loss: 0.4652 - val_accuracy: 0.7665\n",
            "Epoch 497/500\n",
            "16/16 [==============================] - 0s 4ms/step - loss: 0.4282 - accuracy: 0.8064 - val_loss: 0.4629 - val_accuracy: 0.7725\n",
            "Epoch 498/500\n",
            "16/16 [==============================] - 0s 4ms/step - loss: 0.4491 - accuracy: 0.8004 - val_loss: 0.4777 - val_accuracy: 0.7605\n",
            "Epoch 499/500\n",
            "16/16 [==============================] - 0s 4ms/step - loss: 0.4463 - accuracy: 0.8064 - val_loss: 0.4680 - val_accuracy: 0.7425\n",
            "Epoch 500/500\n",
            "16/16 [==============================] - 0s 4ms/step - loss: 0.4626 - accuracy: 0.7984 - val_loss: 0.4775 - val_accuracy: 0.7784\n"
          ],
          "name": "stdout"
        }
      ]
    },
    {
      "cell_type": "code",
      "metadata": {
        "id": "pwRIQFvic4qB",
        "colab_type": "code",
        "colab": {}
      },
      "source": [
        "predictions = model.predict(test)"
      ],
      "execution_count": 0,
      "outputs": []
    },
    {
      "cell_type": "code",
      "metadata": {
        "id": "WdB45mYieeMI",
        "colab_type": "code",
        "colab": {}
      },
      "source": [
        "def convert_prediction_result(model_result):\n",
        "    result = []\n",
        "    for i in range(len(model_result)):\n",
        "        result += [np.argmax(model_result[i])]\n",
        "    return result\n",
        "    \n",
        "res = convert_prediction_result(predictions)    "
      ],
      "execution_count": 0,
      "outputs": []
    },
    {
      "cell_type": "code",
      "metadata": {
        "id": "oAtaVmczdG87",
        "colab_type": "code",
        "colab": {}
      },
      "source": [
        "\n",
        "submission = pd.DataFrame({\n",
        "        \"PassengerId\": test[\"PassengerId\"],\n",
        "        \"Survived\": res\n",
        "    })\n",
        "\n",
        "submission.to_csv('submission_tita.csv', index=False)"
      ],
      "execution_count": 0,
      "outputs": []
    },
    {
      "cell_type": "code",
      "metadata": {
        "id": "b9tcLM2odiv_",
        "colab_type": "code",
        "colab": {}
      },
      "source": [
        "# Submission creation\n",
        "def convert_prediction_result(model_result):\n",
        "    result = []\n",
        "    for i in range(len(model_result)):\n",
        "        result += [np.argmax(model_result[i])]\n",
        "    return result\n",
        "\n",
        "\n",
        "def write_submission(_submission_path, result_arr):\n",
        "    f_out = open(_submission_path, 'w')\n",
        "    f_out.write(\"PassengerId, Survived\\n\")\n",
        "    for i in range(len(result_arr)):\n",
        "        f_out.write(\"{},{}\\n\".format(i+1, result_arr[i]))\n",
        "    f_out.close()\n",
        "\n",
        "write_submission('submission_tita.csv', convert_prediction_result(predictions))"
      ],
      "execution_count": 0,
      "outputs": []
    }
  ]
}